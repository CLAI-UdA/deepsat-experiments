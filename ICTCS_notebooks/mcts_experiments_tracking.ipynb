{
 "cells": [
  {
   "cell_type": "code",
   "execution_count": 1,
   "id": "c2587481-565c-4de6-b28d-4fb744f4039b",
   "metadata": {
    "execution": {
     "iopub.execute_input": "2025-06-19T12:45:40.689145Z",
     "iopub.status.busy": "2025-06-19T12:45:40.688710Z",
     "iopub.status.idle": "2025-06-19T12:45:46.574938Z",
     "shell.execute_reply": "2025-06-19T12:45:46.573868Z",
     "shell.execute_reply.started": "2025-06-19T12:45:40.689112Z"
    }
   },
   "outputs": [],
   "source": [
    "import sys\n",
    "import os\n",
    "import random\n",
    "from typing import Dict, Tuple, List, Set, Union, Type, Literal\n",
    "from itertools import product\n",
    "from dataclasses import dataclass\n",
    "from collections import Counter\n",
    "import re\n",
    "from pathlib import Path\n",
    "from collections import defaultdict\n",
    "\n",
    "import pandas as pd\n",
    "import numpy as np\n",
    "\n",
    "import torch\n",
    "import torch.nn as nn\n",
    "import torch.nn.functional as F\n",
    "from torchmetrics import Accuracy\n",
    "from torch.nn.utils.rnn import pad_sequence\n",
    "from torch.utils.data import Dataset, DataLoader\n",
    "from torchinfo import summary\n",
    "\n",
    "from sklearn.model_selection import train_test_split\n",
    "from sklearn.metrics import confusion_matrix, ConfusionMatrixDisplay\n",
    "\n",
    "import matplotlib.pyplot as plt\n",
    "\n",
    "from tqdm.auto import tqdm\n",
    "from pathlib import Path\n",
    "\n",
    "# --- Importing Formula Class ---\n",
    "# Go two levels up: from ICTCS_notebooks → theorem_prover_core → project root\n",
    "project_root = os.path.abspath(os.path.join(os.getcwd(), \"..\", \"..\"))\n",
    "if project_root not in sys.path:\n",
    "    sys.path.insert(0, project_root)\n",
    "\n",
    "from logic_utils import Normalizer, Metavariable, Normalizer, CustomTokenizer, assign_embedding_indices, print_tree_with_embeddings\n",
    "from data_setup import (generate_normalized_dataset, add_new_tautologies_to_dataset, parse_dimacs_files, prepare_formula_dataset, \n",
    "                        FormulaDataset, FormulaTreeNode, prepare_balanced_tree_dataloaders, prepare_tree_dataloaders)\n",
    "from train_utils import (set_seeds, compute_vocab_size, train, save_results, save_model, train_tree, eval_model, analyze_model_errors,\n",
    "                         evaluate_confusion_matrix, count_parameters)\n",
    "from models import AsymmetricFocalLoss, TreeLSTMClassifierV1, TreeLSTMClassifierV2\n",
    "\n",
    "from theorem_prover_core.formula import (Formula, Letter, Falsity, Conjunction, Disjunction, Implication,\n",
    "                                         Negation, BinaryConnectiveFormula, UnaryConnectiveFormula, bottom)\n",
    "from theorem_prover_core.sequent import Sequent \n",
    "from theorem_prover_core.proofgraph import ProofGraph\n",
    "from theorem_prover_core.mcts import MCTS\n",
    "from models import TreeLSTMClassifierV2, TreeLSTMClassifierV3\n",
    "from logic_utils import FormulaTreeNode, CustomTokenizer, assign_embedding_indices, parse_formula_string"
   ]
  },
  {
   "cell_type": "markdown",
   "id": "310e263c-28bf-4715-b6b5-b7532a076cc9",
   "metadata": {},
   "source": [
    "---\n",
    "#### **Some Tests on Specific Sequents for MCTS**"
   ]
  },
  {
   "cell_type": "code",
   "execution_count": 2,
   "id": "d453f3a6-10e5-41c1-9fba-7ef728c9aa35",
   "metadata": {
    "execution": {
     "iopub.execute_input": "2025-06-19T12:45:46.578275Z",
     "iopub.status.busy": "2025-06-19T12:45:46.576705Z",
     "iopub.status.idle": "2025-06-19T12:45:46.587647Z",
     "shell.execute_reply": "2025-06-19T12:45:46.585913Z",
     "shell.execute_reply.started": "2025-06-19T12:45:46.578234Z"
    }
   },
   "outputs": [
    {
     "name": "stdout",
     "output_type": "stream",
     "text": [
      "Test passed: the sequent axiom was recognized correctly.\n"
     ]
    }
   ],
   "source": [
    "# --- MCTS Test - Trivial Sequent ---\n",
    "\n",
    "# Axiom sequent: A |- A\n",
    "A = Letter(0)\n",
    "axiom_sequent = Sequent(premises=(A,), conclusion=A)\n",
    "\n",
    "# Dummy policy (it's non needed a real poliy for an axiom)\n",
    "def dummy_policy(sequent):\n",
    "    return [], 1.0  # No moves, maximum value\n",
    "\n",
    "# Build proof graph and MCTS\n",
    "pg = ProofGraph(axiom_sequent)\n",
    "mcts = MCTS(policy_value_fn=dummy_policy, proof_graph=pg, n_playout=10)\n",
    "\n",
    "# Set MCTS root\n",
    "mcts.set_root(axiom_sequent)\n",
    "\n",
    "# Check if MCTS recognises the squent as an axiom\n",
    "assert mcts._proof_complete, \"Root should be promptly marked as proven\"\n",
    "\n",
    "# Confirmation output\n",
    "print(\"Test passed: the sequent axiom was recognized correctly.\")"
   ]
  },
  {
   "cell_type": "code",
   "execution_count": 3,
   "id": "c617c5c3-b17c-43ae-9940-79732f65e4bb",
   "metadata": {
    "execution": {
     "iopub.execute_input": "2025-06-19T12:45:46.590156Z",
     "iopub.status.busy": "2025-06-19T12:45:46.589602Z",
     "iopub.status.idle": "2025-06-19T12:45:46.601808Z",
     "shell.execute_reply": "2025-06-19T12:45:46.600267Z",
     "shell.execute_reply.started": "2025-06-19T12:45:46.590120Z"
    }
   },
   "outputs": [
    {
     "name": "stdout",
     "output_type": "stream",
     "text": [
      "Root sequent: A1 ∨ ⊥ ⊢ A1\n",
      "Root num_moves: 0\n",
      "Child sequents and costs:\n",
      "   A1 ⊢ A1 , cost: 0\n",
      "   ⊥ ⊢ A1 , cost: 0\n"
     ]
    }
   ],
   "source": [
    "# --- Test OR in Premises - Provable sequent ---\n",
    "\n",
    "# --- Propositional Letter ---\n",
    "A = Letter(1)\n",
    "\n",
    "# --- Define the formula and target sequent ---\n",
    "# Create the formula A |/ bottom\n",
    "# Define the goal sequent: A \\/ bottom |- A\n",
    "disj = Disjunction(A, bottom)\n",
    "goal = Sequent(premises=(disj,), conclusion=A)\n",
    "\n",
    "# --- Construct the proof graph ---\n",
    "pg = ProofGraph(goal)\n",
    "root = pg.root\n",
    "\n",
    "# --- Apply a rule: specifically OR-left to the only premise ---\n",
    "# We look for the move whose position (pos) is 0, i.e., targeting the first premise\n",
    "# Apply the rule to generate child sequents\n",
    "# Add the children to the proof graph under the current root\n",
    "move = next(m for m in root.sequent.moves() if m.pos == 0)\n",
    "children = root.sequent.rule(move)\n",
    "child_nodes = pg.add_children(root, move, children)\n",
    "\n",
    "# --- Check each generated child sequent: ----\n",
    "for node in child_nodes:\n",
    "    if node.sequent.is_axiom():\n",
    "        pg.set_proved(node)\n",
    "\n",
    "# --- Print results for inspection ---\n",
    "print(\"Root sequent:\", root.sequent)\n",
    "print(\"Root num_moves:\", root.num_moves.n)\n",
    "print(\"Child sequents and costs:\")\n",
    "for c in child_nodes:\n",
    "    print(\"  \", c.sequent, \", cost:\", c.num_moves.n)"
   ]
  },
  {
   "cell_type": "code",
   "execution_count": 4,
   "id": "fa6a4fb3-0366-4af9-bda6-35d720ee62d2",
   "metadata": {
    "execution": {
     "iopub.execute_input": "2025-06-19T12:45:46.604794Z",
     "iopub.status.busy": "2025-06-19T12:45:46.603692Z",
     "iopub.status.idle": "2025-06-19T12:45:46.616556Z",
     "shell.execute_reply": "2025-06-19T12:45:46.615059Z",
     "shell.execute_reply.started": "2025-06-19T12:45:46.604753Z"
    }
   },
   "outputs": [
    {
     "name": "stdout",
     "output_type": "stream",
     "text": [
      "Root sequent: A1 ∧ A2 ⊢ A1\n",
      "Root num_moves: 0\n",
      "Child sequents and costs:\n",
      "   A1, A2 ⊢ A1 , cost: 0\n"
     ]
    }
   ],
   "source": [
    "# --- Test AND in Premises - Provable Sequent ---\n",
    "\n",
    "# --- Propositional Letters ---\n",
    "A = Letter(1)\n",
    "B = Letter(2)\n",
    "\n",
    "# --- Define the formula and target sequent ---\n",
    "# We want to prove: A /\\ B |- A\n",
    "# That is, from the conjunction A /\\ B, derive A\n",
    "conj = Conjunction(A, B)\n",
    "sequent = Sequent(premises=(), conclusion=conj)\n",
    "target = Sequent(premises=(conj,), conclusion=A)\n",
    "\n",
    "# --- Construct the proof graph ---\n",
    "pg = ProofGraph(target)\n",
    "root = pg.root\n",
    "\n",
    "# --- Apply a rule: specifically AND-left ---\n",
    "# Get all possible inference moves for the root sequent\n",
    "# Select the move that applies to the conjunctive formula A /\\ B\n",
    "# Apply the rule to generate child sequents (premises of the inference)\n",
    "moves = root.sequent.moves()\n",
    "move = next(m for m in moves if root.sequent.premises[m.pos] == conj)\n",
    "children = root.sequent.rule(move)\n",
    "\n",
    "# Add the resulting child sequents as children of the root in the proof graph\n",
    "child_nodes = pg.add_children(root, move, children)\n",
    "\n",
    "# --- Mark as proved if any child is an axiom ---\n",
    "# A node is considered proved if it matches the axiom schema \n",
    "for node in child_nodes:\n",
    "    if node.sequent.is_axiom():\n",
    "        pg.set_proved(node)\n",
    "\n",
    "# --- Print results for inspection ---\n",
    "print(\"Root sequent:\", root.sequent)\n",
    "print(\"Root num_moves:\", root.num_moves.n)\n",
    "print(\"Child sequents and costs:\")\n",
    "for c in child_nodes:\n",
    "    print(\"  \", c.sequent, \", cost:\", c.num_moves.n)"
   ]
  },
  {
   "cell_type": "markdown",
   "id": "6361b1e5-1f1b-4ce1-b37f-fc6e4fb9fd96",
   "metadata": {},
   "source": [
    "---\n",
    "#### **Load the Tree-LSTM Classifier to guide the MCTS**"
   ]
  },
  {
   "cell_type": "code",
   "execution_count": 5,
   "id": "c7faf169-7434-4010-9290-c75afab35e06",
   "metadata": {
    "execution": {
     "iopub.execute_input": "2025-06-19T12:45:46.621058Z",
     "iopub.status.busy": "2025-06-19T12:45:46.619899Z",
     "iopub.status.idle": "2025-06-19T12:45:46.660509Z",
     "shell.execute_reply": "2025-06-19T12:45:46.659263Z",
     "shell.execute_reply.started": "2025-06-19T12:45:46.621016Z"
    }
   },
   "outputs": [
    {
     "data": {
      "text/plain": [
       "'cuda'"
      ]
     },
     "execution_count": 5,
     "metadata": {},
     "output_type": "execute_result"
    }
   ],
   "source": [
    "device = 'cuda' if torch.cuda.is_available() else 'cpu'\n",
    "device"
   ]
  },
  {
   "cell_type": "code",
   "execution_count": 6,
   "id": "6d1e350a-0d71-48ad-96aa-4018df1ec78d",
   "metadata": {
    "execution": {
     "iopub.execute_input": "2025-06-19T12:45:46.662292Z",
     "iopub.status.busy": "2025-06-19T12:45:46.661931Z",
     "iopub.status.idle": "2025-06-19T12:45:48.817630Z",
     "shell.execute_reply": "2025-06-19T12:45:48.816686Z",
     "shell.execute_reply.started": "2025-06-19T12:45:46.662259Z"
    }
   },
   "outputs": [],
   "source": [
    "# --- Fit the Tokenizer on dataset ---\n",
    "\n",
    "# Load the Synthetic Dataset\n",
    "datapath = \"datasets/extended_dataset_with_tautologies.csv\"\n",
    "dataset = pd.read_csv(datapath) \n",
    "\n",
    "# Build formulas from strings\n",
    "formulas = [parse_formula_string(f) for f in dataset[\"formula\"]]\n",
    "\n",
    "# Fit the Tokenizer\n",
    "tokenizer = CustomTokenizer()\n",
    "tokenizer.fit(formulas)"
   ]
  },
  {
   "cell_type": "code",
   "execution_count": 7,
   "id": "0412da45-ae8d-46f6-b62b-b3d9f210ab0d",
   "metadata": {
    "execution": {
     "iopub.execute_input": "2025-06-19T12:45:48.820114Z",
     "iopub.status.busy": "2025-06-19T12:45:48.818737Z",
     "iopub.status.idle": "2025-06-19T12:45:48.825776Z",
     "shell.execute_reply": "2025-06-19T12:45:48.824866Z",
     "shell.execute_reply.started": "2025-06-19T12:45:48.820077Z"
    }
   },
   "outputs": [
    {
     "data": {
      "text/plain": [
       "13000"
      ]
     },
     "execution_count": 7,
     "metadata": {},
     "output_type": "execute_result"
    }
   ],
   "source": [
    "len(dataset)"
   ]
  },
  {
   "cell_type": "code",
   "execution_count": 8,
   "id": "3741113f-b78c-45b5-a59e-4d4921cf86a8",
   "metadata": {
    "execution": {
     "iopub.execute_input": "2025-06-19T12:45:48.828379Z",
     "iopub.status.busy": "2025-06-19T12:45:48.827065Z",
     "iopub.status.idle": "2025-06-19T12:45:49.105825Z",
     "shell.execute_reply": "2025-06-19T12:45:49.105080Z",
     "shell.execute_reply.started": "2025-06-19T12:45:48.828345Z"
    }
   },
   "outputs": [
    {
     "name": "stdout",
     "output_type": "stream",
     "text": [
      "Vocabulary size (including padding token): 108\n"
     ]
    },
    {
     "data": {
      "text/plain": [
       "TreeLSTMClassifierV3(\n",
       "  (encoder): TreeLSTMEncoder(\n",
       "    (embedding): Embedding(108, 32, padding_idx=0)\n",
       "    (cell): BinaryTreeLSTMCell(\n",
       "      (W_iou): Linear(in_features=32, out_features=384, bias=True)\n",
       "      (U_iou): Linear(in_features=256, out_features=384, bias=True)\n",
       "      (W_f): Linear(in_features=32, out_features=256, bias=True)\n",
       "      (U_f): Linear(in_features=256, out_features=256, bias=True)\n",
       "    )\n",
       "  )\n",
       "  (fc1): Linear(in_features=128, out_features=32, bias=True)\n",
       "  (relu): ReLU()\n",
       "  (dropout): Dropout(p=0.4, inplace=False)\n",
       "  (fc2): Linear(in_features=32, out_features=1, bias=True)\n",
       ")"
      ]
     },
     "execution_count": 8,
     "metadata": {},
     "output_type": "execute_result"
    }
   ],
   "source": [
    "# --- Load Tree-LSTM model--- \n",
    "\n",
    "# Hyperparametrs \n",
    "VOCAB_SIZE = compute_vocab_size(tokenizer)\n",
    "print(f\"Vocabulary size (including padding token): {VOCAB_SIZE}\")\n",
    "\n",
    "EMBEDDING_DIM = 32\n",
    "HIDDEN_SIZE = 128\n",
    "FC_SIZE = 32\n",
    "\n",
    "# Seed for reproducibilty\n",
    "set_seeds()\n",
    "\n",
    "# Tree-LSTM Model\n",
    "model = TreeLSTMClassifierV3(vocab_size=VOCAB_SIZE,        \n",
    "                             embedding_dim=EMBEDDING_DIM,\n",
    "                             hidden_size=HIDDEN_SIZE,\n",
    "                             fc_size=FC_SIZE)\n",
    "\n",
    "# Load in the saved state_dict()\n",
    "model.load_state_dict(torch.load(f=\"models/DROP_New_Tree_lstm_with_dropout.pth\"))  \n",
    "\n",
    "# Send model to GPU\n",
    "model = model.to(device)\n",
    "model"
   ]
  },
  {
   "cell_type": "code",
   "execution_count": 9,
   "id": "747a46fb-8134-4bec-9438-165ee46eb406",
   "metadata": {
    "execution": {
     "iopub.execute_input": "2025-06-19T12:45:49.108140Z",
     "iopub.status.busy": "2025-06-19T12:45:49.106947Z",
     "iopub.status.idle": "2025-06-19T12:45:49.263515Z",
     "shell.execute_reply": "2025-06-19T12:45:49.262735Z",
     "shell.execute_reply.started": "2025-06-19T12:45:49.108107Z"
    }
   },
   "outputs": [
    {
     "name": "stdout",
     "output_type": "stream",
     "text": [
      "\n",
      "Estimate probability (tautology) = 0.9316 for the formula: ¬(A0 ∧ ¬A0)\n"
     ]
    }
   ],
   "source": [
    "# --- Formula Test with Tokenizer ---\n",
    "\n",
    "# Test Formula\n",
    "A = Letter(0)\n",
    "formula = ~(A & (~ A))\n",
    "\n",
    "# Build the Formula Tree and Assign Embedding Indices \n",
    "tree = FormulaTreeNode(formula)\n",
    "assign_embedding_indices(tree, tokenizer)\n",
    "\n",
    "# Model Prdiction\n",
    "model.eval()\n",
    "with torch.inference_mode():\n",
    "    logit = model(tree)\n",
    "    pred = torch.sigmoid(logit).item()\n",
    "\n",
    "print(f\"\\nEstimate probability (tautology) = {pred:.4f} for the formula: {formula}\")"
   ]
  },
  {
   "cell_type": "code",
   "execution_count": 26,
   "id": "191f3c03-0329-45b5-8403-e5253c086b4b",
   "metadata": {
    "execution": {
     "iopub.execute_input": "2025-06-19T12:50:14.028946Z",
     "iopub.status.busy": "2025-06-19T12:50:14.027915Z",
     "iopub.status.idle": "2025-06-19T12:50:14.048191Z",
     "shell.execute_reply": "2025-06-19T12:50:14.046605Z",
     "shell.execute_reply.started": "2025-06-19T12:50:14.028903Z"
    }
   },
   "outputs": [],
   "source": [
    "# --- Tree-LSTM Model Policy ---\n",
    "\n",
    "from functools import reduce\n",
    "\n",
    "def build_implication(premises, conclusion):\n",
    "    \"\"\"\n",
    "    Builds a single implication formula from a list of premises and a conclusion.\n",
    "\n",
    "    This function ensures the formula is in the form:\n",
    "        (A1 ∧ A2 ∧ ... ∧ An) → B\n",
    "\n",
    "    This format matches the structure expected by the Tree-LSTM model.\n",
    "\n",
    "    Args:\n",
    "        premises (list of Formula): A list of premise formulas.\n",
    "        conclusion (Formula): The conclusion formula.\n",
    "\n",
    "    Returns:\n",
    "        Formula: The implication formula combining premises and conclusion.\n",
    "    \"\"\"\n",
    "    if not premises:\n",
    "        return conclusion\n",
    "    elif len(premises) == 1:\n",
    "        return Implication(premises[0], conclusion)\n",
    "    else:\n",
    "        # Use reduce to combine all the premises into one big conjunction:\n",
    "        conj = reduce(lambda a, b: Conjunction(a, b), premises)\n",
    "        return Implication(conj, conclusion)\n",
    "\n",
    "\n",
    "def tree_model_policy_value(sequent: Sequent) -> Tuple[List[Tuple[Sequent.Move, float]], float]:\n",
    "    \"\"\"\n",
    "    Predicts the policy and value for a given sequent using a Tree-LSTM model.\n",
    "\n",
    "    The value is the estimated probability that the full sequent is a tautology.\n",
    "    The policy assigns a prior probability to each legal inference move,\n",
    "    based on the model’s prediction on the subgoal formulas after applying the move.\n",
    "\n",
    "    Args:\n",
    "        premises (list of Formula): A list of premise formulas.\n",
    "        conclusion (Formula): The conclusion formula.\n",
    "\n",
    "    Returns:\n",
    "        - List of (move, probability) tuples: prior over moves.\n",
    "        - Float: value estimate for the full sequent.\n",
    "    \"\"\"\n",
    "    # --- Value ---\n",
    "    full_formula = build_implication(sequent.premises, sequent.conclusion)\n",
    "    formula_tree = FormulaTreeNode(full_formula)\n",
    "    assign_embedding_indices(formula_tree, tokenizer)\n",
    "    with torch.inference_mode():\n",
    "        logit = model(formula_tree)\n",
    "        value = torch.sigmoid(logit).item()\n",
    "\n",
    "    # --- Policy ---\n",
    "    moves = sequent.moves()\n",
    "    move_scores = []\n",
    "\n",
    "    for move in moves:\n",
    "        try:\n",
    "            subgoals = sequent.rule(move)\n",
    "            if subgoals is None:\n",
    "                continue\n",
    "        except Exception:\n",
    "            continue\n",
    "\n",
    "        subgoal_probs = []\n",
    "        for sg in subgoals:\n",
    "            try:\n",
    "                sg_formula = build_implication(sg.premises, sg.conclusion)\n",
    "                sg_tree = FormulaTreeNode(sg_formula)\n",
    "                assign_embedding_indices(sg_tree, tokenizer)\n",
    "                with torch.inference_mode():\n",
    "                    sg_logit = model(sg_tree)\n",
    "                    sg_prob = torch.sigmoid(sg_logit).item()\n",
    "                    subgoal_probs.append(sg_prob)\n",
    "            except Exception as e:\n",
    "                print(f\"[WARN] Subgoal prediction failed for move {move}: {e}\")\n",
    "                continue  # Skip subgoal\n",
    "                \n",
    "        # --- Logic Aggregation (following aggrgate_by_connective) ---\n",
    "        if subgoal_probs:\n",
    "            f = (\n",
    "                sequent.conclusion if move.pos == -1\n",
    "                else sequent.premises[move.pos]\n",
    "            )\n",
    "\n",
    "            if isinstance(f, Conjunction):\n",
    "                score = min(subgoal_probs)\n",
    "            elif isinstance(f, Disjunction) and move.pos == -1:  \n",
    "                score = max(subgoal_probs)\n",
    "            elif isinstance(f, Disjunction) and move.pos >= 0:  \n",
    "                score = min(subgoal_probs)\n",
    "            elif isinstance(f, (Implication, Negation)):\n",
    "                score = subgoal_probs[0]  \n",
    "            else:\n",
    "                print(f\"[SKIP] Move {move} ignored — unsupported formula type: {type(f).__name__}\")\n",
    "                continue  # Skip the move\n",
    "                \n",
    "            move_scores.append((move, score))\n",
    "\n",
    "    # --- Normalization ---\n",
    "    if move_scores:\n",
    "        scores = torch.tensor([s for _, s in move_scores])\n",
    "        probs = torch.softmax(scores, dim=0).tolist()\n",
    "        move_priors = list(zip([m for m, _ in move_scores], probs))\n",
    "        \n",
    "        # DEBUG:\n",
    "        assert all(isinstance(mp, tuple) and len(mp) == 2 for mp in move_priors), \\\n",
    "        f\"[ERROR] Malformed move_priors: {move_priors}\"\n",
    "    else:\n",
    "        # There are no moves with valid score, no moves applicable\n",
    "        return [], value\n",
    "\n",
    "    return move_priors, value"
   ]
  },
  {
   "cell_type": "markdown",
   "id": "1fb1b327-f74d-4483-b084-d09d7500e298",
   "metadata": {},
   "source": [
    "---\n",
    "#### **Tests for Model Policy and MCTS Agent**"
   ]
  },
  {
   "cell_type": "code",
   "execution_count": 21,
   "id": "b6d6fea3-4545-4781-a1dc-a476b4c9269f",
   "metadata": {
    "execution": {
     "iopub.execute_input": "2025-06-19T12:47:18.784218Z",
     "iopub.status.busy": "2025-06-19T12:47:18.783764Z",
     "iopub.status.idle": "2025-06-19T12:47:18.800190Z",
     "shell.execute_reply": "2025-06-19T12:47:18.799321Z",
     "shell.execute_reply.started": "2025-06-19T12:47:18.784185Z"
    }
   },
   "outputs": [
    {
     "name": "stdout",
     "output_type": "stream",
     "text": [
      "[DEBUG] Sequent:  ⊢ ¬(A0 ∧ ¬A0) → 1 moves\n",
      "Policy: [(Sequent.Move(pos=-1, param='right'), 1.0)]\n",
      "Value: 0.9315673112869263\n"
     ]
    }
   ],
   "source": [
    "# --- Tree Model Policy Test ---\n",
    "\n",
    "A = Letter(0)\n",
    "form = ~(A & (~A))\n",
    "seq = Sequent(premises=(), conclusion=form)  # ⊢ A /\\ ~ A (taut)\n",
    "\n",
    "priors, value = tree_model_policy_value(seq)\n",
    "print(\"Policy:\", priors)\n",
    "print(\"Value:\", value)"
   ]
  },
  {
   "cell_type": "code",
   "execution_count": 12,
   "id": "abf05e9d-160c-48ba-907e-289e8c2b0931",
   "metadata": {
    "execution": {
     "iopub.execute_input": "2025-06-19T12:45:49.300740Z",
     "iopub.status.busy": "2025-06-19T12:45:49.299768Z",
     "iopub.status.idle": "2025-06-19T12:45:49.306858Z",
     "shell.execute_reply": "2025-06-19T12:45:49.306143Z",
     "shell.execute_reply.started": "2025-06-19T12:45:49.300704Z"
    }
   },
   "outputs": [
    {
     "name": "stdout",
     "output_type": "stream",
     "text": [
      "\n",
      "Sequent to prove:  ⊢ A1 ∧ A2 → A1\n"
     ]
    }
   ],
   "source": [
    "# --- MCTS guided by Tree-LSTM model Test ---\n",
    "\n",
    "# Propositional letters\n",
    "A = Letter(1)\n",
    "B = Letter(2)\n",
    "\n",
    "# Tautology 1: A -> A\n",
    "f1 = A.implies(A)\n",
    "\n",
    "# Tautology 2: (A /\\ B) -> A\n",
    "f2 = (A & B).implies(A)\n",
    "\n",
    "# Non-Tautology: A -> (A /\\ B)\n",
    "f3 = A.implies(A & B)\n",
    "\n",
    "# --- Choosen formula ---\n",
    "chosen = f2  # change with: f1, f2, f3\n",
    "\n",
    "sequent = Sequent(premises=(), conclusion=chosen)\n",
    "print(f\"\\nSequent to prove: {sequent}\")"
   ]
  },
  {
   "cell_type": "code",
   "execution_count": 13,
   "id": "e18c4697-7204-493e-ad3a-a30f1b125347",
   "metadata": {
    "execution": {
     "iopub.execute_input": "2025-06-19T12:45:49.308872Z",
     "iopub.status.busy": "2025-06-19T12:45:49.307812Z",
     "iopub.status.idle": "2025-06-19T12:45:49.329437Z",
     "shell.execute_reply": "2025-06-19T12:45:49.328690Z",
     "shell.execute_reply.started": "2025-06-19T12:45:49.308834Z"
    }
   },
   "outputs": [
    {
     "name": "stdout",
     "output_type": "stream",
     "text": [
      "[MCTS start] root sequent ≡  ⊢ A1 ∧ A2 → A1\n",
      "[expand] Node:  ⊢ A1 ∧ A2 → A1, Moves: [(Sequent.Move(pos=-1, param='right'), 1.0)]\n",
      "[MCTS start] root sequent ≡  ⊢ A1 ∧ A2 → A1\n",
      "[expand] Node: A1 ∧ A2 ⊢ A1, Moves: [(Sequent.Move(pos=0, param='left'), 1.0)]\n",
      "[MCTS start] root sequent ≡  ⊢ A1 ∧ A2 → A1\n",
      "Complete proof found during MCTS simulation.\n"
     ]
    }
   ],
   "source": [
    "# --- Build the proof graph ---\n",
    "proof_graph = ProofGraph(sequent)\n",
    "\n",
    "# --- Initialize MCTS ---\n",
    "mcts = MCTS(\n",
    "    policy_value_fn=tree_model_policy_value,\n",
    "    proof_graph=proof_graph,\n",
    "    c_puct=5,                 \n",
    "    n_playout=1600,            \n",
    "    verbose=True               \n",
    ")\n",
    "mcts.set_root(sequent)\n",
    "\n",
    "# ---Run MCTS ---\n",
    "#moves, \n",
    "probs = mcts.get_move_probs(sequent)"
   ]
  },
  {
   "cell_type": "code",
   "execution_count": 14,
   "id": "791afd0d-953c-4091-a194-49f688ca78eb",
   "metadata": {
    "execution": {
     "iopub.execute_input": "2025-06-19T12:45:49.333928Z",
     "iopub.status.busy": "2025-06-19T12:45:49.332989Z",
     "iopub.status.idle": "2025-06-19T12:45:49.338477Z",
     "shell.execute_reply": "2025-06-19T12:45:49.337741Z",
     "shell.execute_reply.started": "2025-06-19T12:45:49.333888Z"
    },
    "scrolled": true
   },
   "outputs": [
    {
     "name": "stdout",
     "output_type": "stream",
     "text": [
      "-  ⊢ A1 ∧ A2 → A1 [proved] (Q=0.17, N=3)\n",
      "  |_ Move: Sequent.Move(pos=-1, param='right')\n",
      "    - A1 ∧ A2 ⊢ A1 [proved] (Q=0.50, N=2)\n",
      "      |_ Move: Sequent.Move(pos=0, param='left')\n",
      "        - A1, A2 ⊢ A1 [proved] (Q=1.00, N=1)\n"
     ]
    }
   ],
   "source": [
    "# --- Print the Proof Tree --- \n",
    "mcts._root.print_tree()"
   ]
  },
  {
   "cell_type": "code",
   "execution_count": 15,
   "id": "01917881-87d8-4d56-b402-8ecdee385156",
   "metadata": {
    "execution": {
     "iopub.execute_input": "2025-06-19T12:45:49.340606Z",
     "iopub.status.busy": "2025-06-19T12:45:49.339436Z",
     "iopub.status.idle": "2025-06-19T12:45:49.361847Z",
     "shell.execute_reply": "2025-06-19T12:45:49.361080Z",
     "shell.execute_reply.started": "2025-06-19T12:45:49.340572Z"
    }
   },
   "outputs": [
    {
     "name": "stdout",
     "output_type": "stream",
     "text": [
      "[MCTS start] root sequent ≡  ⊢ A0 ∧ A1 → A0\n",
      "[expand] Node:  ⊢ A0 ∧ A1 → A0, Moves: [(Sequent.Move(pos=-1, param='right'), 1.0)]\n",
      "[MCTS start] root sequent ≡  ⊢ A0 ∧ A1 → A0\n",
      "[expand] Node: A0 ∧ A1 ⊢ A0, Moves: [(Sequent.Move(pos=0, param='left'), 1.0)]\n",
      "[MCTS start] root sequent ≡  ⊢ A0 ∧ A1 → A0\n",
      "Complete proof found during MCTS simulation.\n",
      "\n",
      "Proved: True\n",
      "\n",
      "=== MCTS Tree ===\n",
      "-  ⊢ A0 ∧ A1 → A0 [proved] (Q=0.29, N=3)\n",
      "  |_ Move: Sequent.Move(pos=-1, param='right')\n",
      "    - A0 ∧ A1 ⊢ A0 [proved] (Q=0.58, N=2)\n",
      "      |_ Move: Sequent.Move(pos=0, param='left')\n",
      "        - A0, A1 ⊢ A0 [proved] (Q=1.00, N=1)\n"
     ]
    }
   ],
   "source": [
    "# --- 3 Playouts are enough to demonstrate the formula ---\n",
    "\n",
    "A = Letter(0)\n",
    "B = Letter(1)\n",
    "formula = (A & B).implies(A)\n",
    "sequent = Sequent(premises=(), conclusion=formula)\n",
    "\n",
    "pg = ProofGraph(sequent)\n",
    "\n",
    "mcts = MCTS(\n",
    "    policy_value_fn=tree_model_policy_value,  \n",
    "    proof_graph=pg,\n",
    "    n_playout=3,\n",
    "    verbose=True\n",
    ")\n",
    "\n",
    "mcts.set_root(sequent)\n",
    "mcts.get_move_probs(sequent)\n",
    "proved = mcts._proof_complete\n",
    "# _, proved = mcts.playout(sequent)\n",
    "\n",
    "print(f\"\\nProved: {proved}\")\n",
    "print(\"\\n=== MCTS Tree ===\")\n",
    "mcts._root.print_tree()"
   ]
  },
  {
   "cell_type": "code",
   "execution_count": 16,
   "id": "3ec4209c-22a1-4f27-a7e3-d5c42a78d323",
   "metadata": {
    "execution": {
     "iopub.execute_input": "2025-06-19T12:45:49.364266Z",
     "iopub.status.busy": "2025-06-19T12:45:49.362922Z",
     "iopub.status.idle": "2025-06-19T12:45:49.379482Z",
     "shell.execute_reply": "2025-06-19T12:45:49.378749Z",
     "shell.execute_reply.started": "2025-06-19T12:45:49.364230Z"
    }
   },
   "outputs": [
    {
     "name": "stdout",
     "output_type": "stream",
     "text": [
      "Seq: A0, A1 ⊢ A0, Form: A0 ∧ A1 → A0,  Prob 0.15390053391456604\n",
      "Seq: A0 ⊢ A1, Form: A0 → A1,  Prob 0.0008999303099699318\n",
      "Seq:  ⊢ A0, Form: A0,  Prob 0.0006949595408514142\n"
     ]
    }
   ],
   "source": [
    "A = Letter(0)\n",
    "B = Letter(1)\n",
    "C = Letter(2)\n",
    "\n",
    "s1 = Sequent(premises=(A, B), conclusion=A)  # (A /\\ B) -> A\n",
    "s2 = Sequent(premises=(A,), conclusion=B)    #  A -A B\n",
    "s3 = Sequent(premises=(), conclusion=A)      # |- A \n",
    "\n",
    "def sequent_to_formula(sequent):\n",
    "    if not sequent.premises:\n",
    "        return sequent.conclusion\n",
    "    elif len(sequent.premises) == 1:\n",
    "        return Implication(sequent.premises[0], sequent.conclusion)\n",
    "    else:\n",
    "        conj = Conjunction(sequent.premises[0], sequent.premises[1])\n",
    "        for p in sequent.premises[2:]:\n",
    "            conj = Conjunction(conj, p)\n",
    "        return Implication(conj, sequent.conclusion)\n",
    "\n",
    "for s in [s1, s2, s3]:\n",
    "    f = sequent_to_formula(s)\n",
    "    tree = FormulaTreeNode(f)\n",
    "    assign_embedding_indices(tree, tokenizer)\n",
    "    with torch.inference_mode():\n",
    "        value = torch.sigmoid(model(tree)).item()\n",
    "    print(f\"Seq: {s}, Form: {f},  Prob {value}\")"
   ]
  },
  {
   "cell_type": "markdown",
   "id": "ecc5bfd3-5375-47a7-9d98-56f67723b349",
   "metadata": {},
   "source": [
    "---\n",
    "#### **Load Test Set**"
   ]
  },
  {
   "cell_type": "code",
   "execution_count": 17,
   "id": "ecccb008-a9ca-4c69-94fc-cdfddb97d02b",
   "metadata": {
    "execution": {
     "iopub.execute_input": "2025-06-19T12:45:49.381391Z",
     "iopub.status.busy": "2025-06-19T12:45:49.380481Z",
     "iopub.status.idle": "2025-06-19T12:45:51.377346Z",
     "shell.execute_reply": "2025-06-19T12:45:51.376452Z",
     "shell.execute_reply.started": "2025-06-19T12:45:49.381353Z"
    }
   },
   "outputs": [],
   "source": [
    "# --- Hyperparameters ---\n",
    "DATA_PATH = \"datasets/extended_dataset_with_tautologies.csv\"\n",
    "BATCH_SIZE = 1\n",
    "TEST_SIZE = 0.2\n",
    "SEED = 42\n",
    "\n",
    "# --- Load Synthetic Dataset and Tokenizer ---\n",
    "df = pd.read_csv(DATA_PATH)\n",
    "\n",
    "# --- Split data for the test ---\n",
    "_, test_loader, tokenizer = prepare_tree_dataloaders(df, test_size=TEST_SIZE, batch_size=BATCH_SIZE, seed=SEED)"
   ]
  },
  {
   "cell_type": "markdown",
   "id": "13ee902a-0589-4a67-8802-3a912a42de92",
   "metadata": {},
   "source": [
    "#### **Evaluate MCTS Agent**"
   ]
  },
  {
   "cell_type": "code",
   "execution_count": 22,
   "id": "934b20ed-f813-47a6-a8ca-37f685564ff0",
   "metadata": {
    "execution": {
     "iopub.execute_input": "2025-06-19T12:47:25.600473Z",
     "iopub.status.busy": "2025-06-19T12:47:25.600051Z",
     "iopub.status.idle": "2025-06-19T12:47:25.610273Z",
     "shell.execute_reply": "2025-06-19T12:47:25.609257Z",
     "shell.execute_reply.started": "2025-06-19T12:47:25.600440Z"
    }
   },
   "outputs": [],
   "source": [
    "def evaluate_mcts(test_loader, policy_value_fn, device, n_playout):\n",
    "    y_true = []\n",
    "    y_pred = []\n",
    "\n",
    "    for roots, labels in tqdm(test_loader):\n",
    "        for root, label in zip(roots, labels):\n",
    "            formula = root.formula\n",
    "            sequent = Sequent(premises=(), conclusion=formula)\n",
    "\n",
    "            pg = ProofGraph(sequent)\n",
    "            mcts = MCTS(policy_value_fn=policy_value_fn,\n",
    "                        proof_graph=pg,\n",
    "                        n_playout=n_playout,\n",
    "                        verbose=False)\n",
    "\n",
    "            mcts.set_root(sequent)\n",
    "\n",
    "            while not mcts._proof_complete:\n",
    "                move_probs = mcts.get_move_probs(mcts._root.sequent)\n",
    "\n",
    "                if not move_probs: #or not all(isinstance(mp, tuple) and len(mp) == 2 for mp in move_probs):\n",
    "                    # print(f\"[DEBUG] Invalid move_probs: {move_probs}\")\n",
    "                    break  # No valid moves\n",
    "\n",
    "                # AlphaGo-style: pick move with highest visit-based probability\n",
    "                best_move = max(move_probs, key=lambda p: p[1])[0]\n",
    "\n",
    "                # Update tree with chosen move (advance root)\n",
    "                mcts.update_with_move(best_move)\n",
    "\n",
    "            prediction = 1 if mcts._proof_complete else 0\n",
    "            y_pred.append(prediction)\n",
    "            y_true.append(int(label.item()))\n",
    "\n",
    "    accuracy = sum(p == t for p, t in zip(y_pred, y_true)) / len(y_true)\n",
    "    return accuracy"
   ]
  },
  {
   "cell_type": "code",
   "execution_count": 33,
   "id": "0dbbaaa3-06a0-4fe5-9e41-5895ec937c0d",
   "metadata": {
    "execution": {
     "iopub.execute_input": "2025-06-19T13:04:25.795822Z",
     "iopub.status.busy": "2025-06-19T13:04:25.794620Z",
     "iopub.status.idle": "2025-06-19T13:04:25.806497Z",
     "shell.execute_reply": "2025-06-19T13:04:25.805223Z",
     "shell.execute_reply.started": "2025-06-19T13:04:25.795780Z"
    }
   },
   "outputs": [],
   "source": [
    "def evaluate_mcts(test_loader, policy_value_fn, device, n_playout, max_steps=100):\n",
    "    y_true = []\n",
    "    y_pred = []\n",
    "\n",
    "    for roots, labels in tqdm(test_loader):\n",
    "        for root, label in zip(roots, labels):\n",
    "            formula = root.formula\n",
    "            sequent = Sequent(premises=(), conclusion=formula)\n",
    "\n",
    "            # Initialize proofgraph and MCTS agent\n",
    "            pg = ProofGraph(sequent)\n",
    "            mcts = MCTS(\n",
    "                policy_value_fn=policy_value_fn,\n",
    "                proof_graph=pg,\n",
    "                n_playout=n_playout,\n",
    "                verbose=False\n",
    "            )\n",
    "\n",
    "            mcts.set_root(sequent)\n",
    "\n",
    "            steps = 0\n",
    "            while not mcts._proof_complete and steps < max_steps:\n",
    "                move_probs = mcts.get_move_probs(mcts._root.sequent)\n",
    "\n",
    "                if not move_probs or not all(isinstance(mp, tuple) and len(mp) == 2 for mp in move_probs):\n",
    "                    # print(f\"[STOP] No valid moves for sequent: {mcts._root.sequent}\")\n",
    "                    break\n",
    "\n",
    "                best_move = max(move_probs, key=lambda p: p[1])[0]\n",
    "                mcts.update_with_move(best_move)\n",
    "                steps += 1\n",
    "\n",
    "            #if steps >= max_steps:\n",
    "            #    print(f\"[WARN] Max steps exceeded for: {sequent}\")\n",
    "\n",
    "            prediction = 1 if mcts._proof_complete else 0\n",
    "            y_pred.append(prediction)\n",
    "            y_true.append(int(label.item()))\n",
    "\n",
    "    accuracy = sum(p == t for p, t in zip(y_pred, y_true)) / len(y_true)\n",
    "    return accuracy"
   ]
  },
  {
   "cell_type": "code",
   "execution_count": null,
   "id": "34bd9e15-13ca-4fee-ab72-d982aa7e118c",
   "metadata": {
    "execution": {
     "iopub.execute_input": "2025-06-19T13:04:26.141210Z",
     "iopub.status.busy": "2025-06-19T13:04:26.140023Z"
    }
   },
   "outputs": [
    {
     "data": {
      "application/vnd.jupyter.widget-view+json": {
       "model_id": "780f06283a6f4eef825f72e237926fc8",
       "version_major": 2,
       "version_minor": 0
      },
      "text/plain": [
       "  0%|          | 0/2600 [00:00<?, ?it/s]"
      ]
     },
     "metadata": {},
     "output_type": "display_data"
    }
   ],
   "source": [
    "acc = evaluate_mcts(\n",
    "    test_loader=test_loader,\n",
    "    policy_value_fn=tree_model_policy_value,\n",
    "    device=device,\n",
    "    n_playout=10 \n",
    ")\n",
    "\n",
    "print(f\"MCTS Agent Accuracy: {acc:.4f}\")"
   ]
  },
  {
   "cell_type": "code",
   "execution_count": null,
   "id": "a02bb201-749b-4506-b1df-2141f432a4c8",
   "metadata": {},
   "outputs": [],
   "source": []
  },
  {
   "cell_type": "code",
   "execution_count": null,
   "id": "d108237c-a806-454b-a3d1-6dccfe9c48fb",
   "metadata": {},
   "outputs": [],
   "source": []
  },
  {
   "cell_type": "code",
   "execution_count": null,
   "id": "963e0406-2ce2-4a23-9f43-50ce7ab2e41b",
   "metadata": {},
   "outputs": [],
   "source": []
  },
  {
   "cell_type": "code",
   "execution_count": null,
   "id": "c7d8f2c6-45df-4f93-add3-b8ad2c7fd161",
   "metadata": {},
   "outputs": [],
   "source": []
  },
  {
   "cell_type": "code",
   "execution_count": null,
   "id": "0c32cd39-12fa-4d4e-b643-5cb99c8d8686",
   "metadata": {},
   "outputs": [],
   "source": []
  },
  {
   "cell_type": "code",
   "execution_count": null,
   "id": "f8f1b1ee-6a6b-4f4d-93d6-b7f7efd5038f",
   "metadata": {},
   "outputs": [],
   "source": []
  },
  {
   "cell_type": "code",
   "execution_count": null,
   "id": "bfbe0a1b-43b4-4638-9be9-f5095f32eeac",
   "metadata": {},
   "outputs": [],
   "source": []
  },
  {
   "cell_type": "code",
   "execution_count": null,
   "id": "ec13f141-c6a7-4f6f-9c20-ccd5090ec5ba",
   "metadata": {},
   "outputs": [],
   "source": []
  },
  {
   "cell_type": "code",
   "execution_count": null,
   "id": "1f212c6b-6407-4f74-9b41-c7218785b336",
   "metadata": {},
   "outputs": [],
   "source": []
  },
  {
   "cell_type": "code",
   "execution_count": null,
   "id": "dc659a3f-6d8b-40de-99db-32116865bfd7",
   "metadata": {},
   "outputs": [],
   "source": []
  },
  {
   "cell_type": "code",
   "execution_count": null,
   "id": "4a275754-77ae-4bc9-a7c9-caaee60cf7e3",
   "metadata": {},
   "outputs": [],
   "source": []
  }
 ],
 "metadata": {
  "kernelspec": {
   "display_name": "Python 3 (ipykernel)",
   "language": "python",
   "name": "python3"
  },
  "language_info": {
   "codemirror_mode": {
    "name": "ipython",
    "version": 3
   },
   "file_extension": ".py",
   "mimetype": "text/x-python",
   "name": "python",
   "nbconvert_exporter": "python",
   "pygments_lexer": "ipython3",
   "version": "3.10.16"
  }
 },
 "nbformat": 4,
 "nbformat_minor": 5
}
