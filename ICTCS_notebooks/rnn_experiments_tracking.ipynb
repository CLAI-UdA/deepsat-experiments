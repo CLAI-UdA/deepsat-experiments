{
 "cells": [
  {
   "cell_type": "code",
   "execution_count": 2,
   "id": "1a47d156-3010-4e73-94a5-5d8ca75e6656",
   "metadata": {
    "execution": {
     "iopub.execute_input": "2025-06-11T10:53:23.825391Z",
     "iopub.status.busy": "2025-06-11T10:53:23.823232Z",
     "iopub.status.idle": "2025-06-11T10:53:23.863504Z",
     "shell.execute_reply": "2025-06-11T10:53:23.862060Z",
     "shell.execute_reply.started": "2025-06-11T10:53:23.825343Z"
    }
   },
   "outputs": [],
   "source": [
    "try:\n",
    "    import torch\n",
    "except:\n",
    "    print(\"[INFO] Couldn't find torch... installing it.\")\n",
    "    !pip install torch torchvision torchaudio --index-url https://download.pytorch.org/whl/cu118\n",
    "    import torch\n",
    "\n",
    "try:\n",
    "    import torchmetrics\n",
    "except:\n",
    "    print(\"[INFO] Couldn't find torchmetrics... installing it.\")\n",
    "    !pip install torchmetrics\n",
    "    import torchmetrics\n",
    "\n",
    "try:\n",
    "    import torchinfo\n",
    "except:\n",
    "    print(\"[INFO] Couldn't find torchinfo... installing it.\")\n",
    "    !pip install torchinfo\n",
    "    import torchinfo\n",
    "\n",
    "try:\n",
    "    from torch.utils.tensorboard import SummaryWriter\n",
    "except:\n",
    "    print(\"[INFO] Couldn't find tensorboard... installing it.\")\n",
    "    !pip install -q tensorboard\n",
    "    from torch.utils.tensorboard import SummaryWriter\n",
    "\n",
    "try: \n",
    "    import wandb\n",
    "except: \n",
    "    print(\"[INFO] Couldn't find tensorboard... installing it.\")\n",
    "    !pip install wandb\n",
    "\n",
    "\n",
    "import sys\n",
    "import os\n",
    "import random\n",
    "from typing import Dict, Tuple, List, Set, Union, Type, Literal\n",
    "from itertools import product\n",
    "from dataclasses import dataclass\n",
    "from collections import Counter\n",
    "import re\n",
    "from pathlib import Path\n",
    "\n",
    "import pandas as pd\n",
    "import numpy as np\n",
    "\n",
    "import torch\n",
    "import torch.nn as nn\n",
    "import torch.nn.functional as F\n",
    "from torchmetrics import Accuracy\n",
    "from torch.nn.utils.rnn import pad_sequence\n",
    "from torch.utils.data import Dataset, DataLoader\n",
    "from torchinfo import summary\n",
    "\n",
    "from sklearn.model_selection import train_test_split\n",
    "from sklearn.metrics import confusion_matrix, ConfusionMatrixDisplay\n",
    "\n",
    "import matplotlib.pyplot as plt\n",
    "\n",
    "from tqdm.auto import tqdm\n",
    "from pathlib import Path\n",
    "\n",
    "# --- Importing Formula Class ---\n",
    "# Go two levels up: from ICTCS_notebooks → theorem_prover_core → project root\n",
    "project_root = os.path.abspath(os.path.join(os.getcwd(), \"..\", \"..\"))\n",
    "if project_root not in sys.path:\n",
    "    sys.path.insert(0, project_root)\n",
    "\n",
    "from theorem_prover_core.formula import (Formula, Letter, Falsity, Conjunction, Disjunction, Implication,\n",
    "                                         Negation, BinaryConnectiveFormula, UnaryConnectiveFormula, bottom)\n",
    "\n",
    "from logic_utils import Normalizer, Metavariable, Normalizer, CustomTokenizer, assign_embedding_indices, print_tree_with_embeddings\n",
    "from data_setup import (generate_normalized_dataset, add_new_tautologies_to_dataset, parse_dimacs_files, prepare_formula_dataset, \n",
    "                        FormulaDataset, FormulaTreeNode, prepare_balanced_tree_dataloaders, prepare_tree_dataloaders)\n",
    "from train_utils import (set_seeds, compute_vocab_size, train, save_results, save_model, train_tree, eval_model, analyze_model_errors,\n",
    "                         evaluate_confusion_matrix, count_parameters)\n",
    "from models import AsymmetricFocalLoss, TreeLSTMClassifierV1, TreeLSTMClassifierV2"
   ]
  },
  {
   "cell_type": "markdown",
   "id": "0e81b2b3-491f-4a79-b599-d53d4f6b9038",
   "metadata": {},
   "source": [
    "## **Part 1: GRU**"
   ]
  },
  {
   "cell_type": "markdown",
   "id": "e43a3fef-9bec-43dd-82bb-b78665aeff02",
   "metadata": {},
   "source": [
    "---\n",
    "#### **Set up device-agnostic code**"
   ]
  },
  {
   "cell_type": "code",
   "execution_count": 3,
   "id": "9933ab16-36dc-421c-ab60-f88e46fc49b9",
   "metadata": {
    "execution": {
     "iopub.execute_input": "2025-06-11T10:53:23.866043Z",
     "iopub.status.busy": "2025-06-11T10:53:23.865686Z",
     "iopub.status.idle": "2025-06-11T10:53:24.052902Z",
     "shell.execute_reply": "2025-06-11T10:53:24.051072Z",
     "shell.execute_reply.started": "2025-06-11T10:53:23.866009Z"
    }
   },
   "outputs": [
    {
     "data": {
      "text/plain": [
       "'cuda'"
      ]
     },
     "execution_count": 3,
     "metadata": {},
     "output_type": "execute_result"
    }
   ],
   "source": [
    "device = 'cuda' if torch.cuda.is_available() else 'cpu'\n",
    "device"
   ]
  },
  {
   "cell_type": "markdown",
   "id": "7814b0f9-70e0-4322-86df-ac14ee8aaddd",
   "metadata": {},
   "source": [
    "---\n",
    "### **1 Generate Synthetic Datasets**\n",
    "\n",
    "#### **1.1 Normalized Dataset**"
   ]
  },
  {
   "cell_type": "code",
   "execution_count": 4,
   "id": "8acd26b0-80c1-4a5d-aea0-de7e0e705753",
   "metadata": {
    "execution": {
     "iopub.execute_input": "2025-06-11T10:53:24.054755Z",
     "iopub.status.busy": "2025-06-11T10:53:24.054398Z",
     "iopub.status.idle": "2025-06-11T10:53:26.669670Z",
     "shell.execute_reply": "2025-06-11T10:53:26.668799Z",
     "shell.execute_reply.started": "2025-06-11T10:53:24.054711Z"
    }
   },
   "outputs": [
    {
     "name": "stdout",
     "output_type": "stream",
     "text": [
      "\n",
      "==================================================================================================================================\n",
      "[INFO] Saving Dataset to /home/labeconomia/nbalestra/theorem_prover/theorem_prover_core/ICTCS_notebooks/datasets/normalized_formulas_dataset.csv\n",
      "==================================================================================================================================\n",
      "\n"
     ]
    }
   ],
   "source": [
    "# --- Generating normalized dataset ---\n",
    "SIZE = 10000\n",
    "MAX_DEPTH = 5\n",
    "NUM_LETTERS = 7\n",
    "SEED = 42\n",
    "\n",
    "random.seed(SEED)\n",
    "data_set = generate_normalized_dataset(num_formulas=SIZE, \n",
    "                                      max_depth=MAX_DEPTH,\n",
    "                                      num_letters=NUM_LETTERS)\n",
    "\n",
    "datapath = \"datasets/normalized_formulas_dataset.csv\"\n",
    "data_set.to_csv(datapath, index=False)\n",
    "print(\"\\n\" + \"=\" * 130)\n",
    "print(f\"[INFO] Saving Dataset to {os.path.abspath(datapath)}\")\n",
    "print(\"=\" * 130 + \"\\n\")"
   ]
  },
  {
   "cell_type": "code",
   "execution_count": 5,
   "id": "f1a7032b-4e54-463b-8607-b1040468783f",
   "metadata": {
    "execution": {
     "iopub.execute_input": "2025-06-11T10:53:26.672415Z",
     "iopub.status.busy": "2025-06-11T10:53:26.672120Z",
     "iopub.status.idle": "2025-06-11T10:53:26.683816Z",
     "shell.execute_reply": "2025-06-11T10:53:26.682949Z",
     "shell.execute_reply.started": "2025-06-11T10:53:26.672386Z"
    }
   },
   "outputs": [
    {
     "data": {
      "text/html": [
       "<div>\n",
       "<style scoped>\n",
       "    .dataframe tbody tr th:only-of-type {\n",
       "        vertical-align: middle;\n",
       "    }\n",
       "\n",
       "    .dataframe tbody tr th {\n",
       "        vertical-align: top;\n",
       "    }\n",
       "\n",
       "    .dataframe thead th {\n",
       "        text-align: right;\n",
       "    }\n",
       "</style>\n",
       "<table border=\"1\" class=\"dataframe\">\n",
       "  <thead>\n",
       "    <tr style=\"text-align: right;\">\n",
       "      <th></th>\n",
       "      <th>formula</th>\n",
       "      <th>is_tautology</th>\n",
       "    </tr>\n",
       "  </thead>\n",
       "  <tbody>\n",
       "    <tr>\n",
       "      <th>0</th>\n",
       "      <td>A0</td>\n",
       "      <td>False</td>\n",
       "    </tr>\n",
       "    <tr>\n",
       "      <th>1</th>\n",
       "      <td>((A0 ∧ (¬((A1 ∧ A2) ∧ A3))) ∨ (A4 → A5))</td>\n",
       "      <td>False</td>\n",
       "    </tr>\n",
       "    <tr>\n",
       "      <th>2</th>\n",
       "      <td>(((¬(A0 → A1)) → A2) ∨ A3)</td>\n",
       "      <td>False</td>\n",
       "    </tr>\n",
       "    <tr>\n",
       "      <th>3</th>\n",
       "      <td>(⊥ ∨ A0)</td>\n",
       "      <td>False</td>\n",
       "    </tr>\n",
       "    <tr>\n",
       "      <th>4</th>\n",
       "      <td>(¬A0)</td>\n",
       "      <td>False</td>\n",
       "    </tr>\n",
       "  </tbody>\n",
       "</table>\n",
       "</div>"
      ],
      "text/plain": [
       "                                    formula  is_tautology\n",
       "0                                        A0         False\n",
       "1  ((A0 ∧ (¬((A1 ∧ A2) ∧ A3))) ∨ (A4 → A5))         False\n",
       "2                (((¬(A0 → A1)) → A2) ∨ A3)         False\n",
       "3                                  (⊥ ∨ A0)         False\n",
       "4                                     (¬A0)         False"
      ]
     },
     "execution_count": 5,
     "metadata": {},
     "output_type": "execute_result"
    }
   ],
   "source": [
    "data_set.head()"
   ]
  },
  {
   "cell_type": "code",
   "execution_count": 6,
   "id": "f9cb1ad9-a5c3-4534-8908-bd1c45c04497",
   "metadata": {
    "execution": {
     "iopub.execute_input": "2025-06-11T10:53:26.685449Z",
     "iopub.status.busy": "2025-06-11T10:53:26.684842Z",
     "iopub.status.idle": "2025-06-11T10:53:26.696711Z",
     "shell.execute_reply": "2025-06-11T10:53:26.695817Z",
     "shell.execute_reply.started": "2025-06-11T10:53:26.685418Z"
    }
   },
   "outputs": [
    {
     "name": "stdout",
     "output_type": "stream",
     "text": [
      "formula         10000\n",
      "is_tautology    10000\n",
      "dtype: int64\n",
      "\n",
      "Number of True and False formulas: \n",
      "is_tautology\n",
      "False    9582\n",
      "True      418\n",
      "Name: count, dtype: int64\n",
      "\n",
      "Percentage of tautologies in the dataset: 4.18%\n"
     ]
    }
   ],
   "source": [
    "print(data_set.count())\n",
    "count = data_set.is_tautology.value_counts()\n",
    "print(f\"\\nNumber of True and False formulas: \\n{count}\\n\")\n",
    "\n",
    "total = len(data_set)\n",
    "tautologies = data_set[\"is_tautology\"].sum()\n",
    "percentage = (tautologies / total) * 100\n",
    "print(f\"Percentage of tautologies in the dataset: {percentage:.2f}%\")"
   ]
  },
  {
   "cell_type": "markdown",
   "id": "5a32e761-834f-416c-847c-60c3a962e377",
   "metadata": {},
   "source": [
    "#### **1.2 Data Augmentation With Common Tautologies Instantiation**"
   ]
  },
  {
   "cell_type": "code",
   "execution_count": 7,
   "id": "694226b3-e615-467b-bf05-03aae0d794d9",
   "metadata": {
    "execution": {
     "iopub.execute_input": "2025-06-11T10:53:26.698358Z",
     "iopub.status.busy": "2025-06-11T10:53:26.697738Z",
     "iopub.status.idle": "2025-06-11T10:53:26.708679Z",
     "shell.execute_reply": "2025-06-11T10:53:26.707793Z",
     "shell.execute_reply.started": "2025-06-11T10:53:26.698325Z"
    }
   },
   "outputs": [
    {
     "name": "stdout",
     "output_type": "stream",
     "text": [
      "A ∨ ¬A\n",
      "¬(A ∧ ¬A)\n",
      "(¬(A ∧ B) → ¬A ∨ ¬B) ∧ (¬A ∨ ¬B → ¬(A ∧ B))\n",
      "(¬(A ∨ B) → ¬A ∧ ¬B) ∧ (¬A ∧ ¬B → ¬(A ∨ B))\n",
      "(A ∧ (B ∨ C) → (A ∧ B) ∨ (A ∧ C)) ∧ ((A ∧ B) ∨ (A ∧ C) → A ∧ (B ∨ C))\n",
      "(A ∨ (B ∧ C) → (A ∨ B) ∧ (A ∨ C)) ∧ ((A ∨ B) ∧ (A ∨ C) → A ∨ (B ∧ C))\n"
     ]
    }
   ],
   "source": [
    "# --- Creating Common Tautologies --- \n",
    "A = Metavariable(\"A\")\n",
    "B = Metavariable(\"B\")\n",
    "C = Metavariable(\"C\")\n",
    "\n",
    "# List of common tautologies\n",
    "tautologies = [\n",
    "\n",
    "    Disjunction(A, Negation(A)),\n",
    "\n",
    "    Negation(Conjunction(A, Negation(A))),\n",
    "\n",
    "    Conjunction(\n",
    "        Implication(Negation(Conjunction(A, B)), Disjunction(Negation(A), Negation(B))),\n",
    "        Implication(Disjunction(Negation(A), Negation(B)), Negation(Conjunction(A, B)))\n",
    "    ),\n",
    "\n",
    "    Conjunction(\n",
    "        Implication(Negation(Disjunction(A, B)), Conjunction(Negation(A), Negation(B))),\n",
    "        Implication(Conjunction(Negation(A), Negation(B)), Negation(Disjunction(A, B)))\n",
    "    ),\n",
    "\n",
    "    Conjunction(\n",
    "        Implication(Conjunction(A, Disjunction(B, C)), Disjunction(Conjunction(A, B), Conjunction(A, C))),\n",
    "        Implication(Disjunction(Conjunction(A, B), Conjunction(A, C)), Conjunction(A, Disjunction(B, C)))\n",
    "    ),\n",
    "\n",
    "    Conjunction(\n",
    "        Implication(Disjunction(A, Conjunction(B, C)), Conjunction(Disjunction(A, B), Disjunction(A, C))),\n",
    "        Implication(Conjunction(Disjunction(A, B), Disjunction(A, C)), Disjunction(A, Conjunction(B, C)))\n",
    "    )\n",
    "]\n",
    "\n",
    "for tautology in tautologies:\n",
    "    print(tautology)"
   ]
  },
  {
   "cell_type": "code",
   "execution_count": 8,
   "id": "65c311d2-ccca-4c79-829b-1d6cf1a6968c",
   "metadata": {
    "execution": {
     "iopub.execute_input": "2025-06-11T10:53:26.710346Z",
     "iopub.status.busy": "2025-06-11T10:53:26.710014Z",
     "iopub.status.idle": "2025-06-11T10:54:22.968905Z",
     "shell.execute_reply": "2025-06-11T10:54:22.967850Z",
     "shell.execute_reply.started": "2025-06-11T10:53:26.710315Z"
    }
   },
   "outputs": [
    {
     "name": "stdout",
     "output_type": "stream",
     "text": [
      "\n",
      "==================================================================================================================================\n",
      "[INFO] Saving Dataset to /home/labeconomia/nbalestra/theorem_prover/theorem_prover_core/ICTCS_notebooks/datasets/extended_dataset_with_tautologies.csv\n",
      "==================================================================================================================================\n",
      "\n"
     ]
    }
   ],
   "source": [
    "# --- Adding 3,000 (30% of dataaset) new tatologies to the dataset ---\n",
    "num_samples = 3000\n",
    "seed_value = 42\n",
    "\n",
    "dataset = add_new_tautologies_to_dataset(dataset=data_set,\n",
    "                                         tautologies=tautologies,\n",
    "                                         num_samples=num_samples,\n",
    "                                         max_depth=MAX_DEPTH,\n",
    "                                         num_letters=NUM_LETTERS,\n",
    "                                         seed=seed_value)\n",
    "\n",
    "datapath = \"datasets/extended_dataset_with_tautologies.csv\"\n",
    "dataset.to_csv(datapath, index=False)\n",
    "print(\"\\n\" + \"=\" * 130)\n",
    "print(f\"[INFO] Saving Dataset to {os.path.abspath(datapath)}\")\n",
    "print(\"=\" * 130 + \"\\n\")"
   ]
  },
  {
   "cell_type": "code",
   "execution_count": 9,
   "id": "fd2473fa-32ab-4ce2-80f2-b97520869c1f",
   "metadata": {
    "execution": {
     "iopub.execute_input": "2025-06-11T10:54:22.970783Z",
     "iopub.status.busy": "2025-06-11T10:54:22.970426Z",
     "iopub.status.idle": "2025-06-11T10:54:22.984786Z",
     "shell.execute_reply": "2025-06-11T10:54:22.983893Z",
     "shell.execute_reply.started": "2025-06-11T10:54:22.970752Z"
    }
   },
   "outputs": [
    {
     "name": "stdout",
     "output_type": "stream",
     "text": [
      "formula         13000\n",
      "is_tautology    13000\n",
      "dtype: int64\n",
      "\n",
      "Number of True and False formulas: \n",
      "is_tautology\n",
      "False    9582\n",
      "True     3418\n",
      "Name: count, dtype: int64\n",
      "\n",
      "\n",
      "============================================================\n",
      "Percentage of tautologies in the dataset: 26.29%\n",
      "============================================================\n",
      "\n"
     ]
    }
   ],
   "source": [
    "# --- Get Dataset Info ---\n",
    "print(dataset.count())\n",
    "count = dataset.is_tautology.value_counts()\n",
    "print(f\"\\nNumber of True and False formulas: \\n{count}\\n\")\n",
    "\n",
    "total = len(dataset)\n",
    "tautologies = dataset[\"is_tautology\"].sum()\n",
    "percentage = (tautologies / total) * 100\n",
    "print(\"\\n\" + \"=\" * 60)\n",
    "print(f\"Percentage of tautologies in the dataset: {percentage:.2f}%\")\n",
    "print(\"=\" * 60 + \"\\n\")"
   ]
  },
  {
   "cell_type": "markdown",
   "id": "2170fa04-2c48-4bff-919e-6d9e09621376",
   "metadata": {
    "execution": {
     "iopub.execute_input": "2025-05-30T22:39:10.789351Z",
     "iopub.status.busy": "2025-05-30T22:39:10.788941Z",
     "iopub.status.idle": "2025-05-30T22:39:10.796318Z",
     "shell.execute_reply": "2025-05-30T22:39:10.795346Z",
     "shell.execute_reply.started": "2025-05-30T22:39:10.789321Z"
    }
   },
   "source": [
    "#### **1.3 Data Augmentation With Common Tautologies Instantiation and DIMACS format formulas**\n",
    "\n",
    "Extending Dataset with [SATLIB - Benchmark Problems](https://www.cs.ubc.ca/~hoos/SATLIB/benchm.html), using propositional formulas in Dimacs format.\n",
    "\n",
    "Formulas Downloaded from SATLIB: \n",
    "- uf20-91: 20 variables, 91 clauses - 1000 instances, all satisfiable\n",
    "- uf50-218 / uuf50-218: 50 variables, 218 clauses - 1000 instances, all sat/unsat"
   ]
  },
  {
   "cell_type": "code",
   "execution_count": 10,
   "id": "bc38b77c-45b7-4fa7-b0dd-d67ee6bd1952",
   "metadata": {
    "execution": {
     "iopub.execute_input": "2025-06-11T10:54:22.986546Z",
     "iopub.status.busy": "2025-06-11T10:54:22.986215Z",
     "iopub.status.idle": "2025-06-11T10:54:32.561798Z",
     "shell.execute_reply": "2025-06-11T10:54:32.560422Z",
     "shell.execute_reply.started": "2025-06-11T10:54:22.986515Z"
    }
   },
   "outputs": [],
   "source": [
    "base_dir = \"dimacs_formulas_datasets/\"\n",
    "dataset_satlib = parse_dimacs_files(base_dir=base_dir)"
   ]
  },
  {
   "cell_type": "code",
   "execution_count": 11,
   "id": "0954d67c-97a7-4cbc-8522-e1c8e8e7dba3",
   "metadata": {
    "execution": {
     "iopub.execute_input": "2025-06-11T10:54:32.566498Z",
     "iopub.status.busy": "2025-06-11T10:54:32.566044Z",
     "iopub.status.idle": "2025-06-11T10:54:32.576179Z",
     "shell.execute_reply": "2025-06-11T10:54:32.575011Z",
     "shell.execute_reply.started": "2025-06-11T10:54:32.566441Z"
    }
   },
   "outputs": [
    {
     "data": {
      "text/plain": [
       "is_tautology\n",
       "True     2000\n",
       "False    1000\n",
       "Name: count, dtype: int64"
      ]
     },
     "execution_count": 11,
     "metadata": {},
     "output_type": "execute_result"
    }
   ],
   "source": [
    "dataset_satlib.is_tautology.value_counts()"
   ]
  },
  {
   "cell_type": "code",
   "execution_count": 12,
   "id": "21caec0c-0622-45af-b707-fd41fa528249",
   "metadata": {
    "execution": {
     "iopub.execute_input": "2025-06-11T10:54:32.577892Z",
     "iopub.status.busy": "2025-06-11T10:54:32.577460Z",
     "iopub.status.idle": "2025-06-11T10:54:41.882698Z",
     "shell.execute_reply": "2025-06-11T10:54:41.881754Z",
     "shell.execute_reply.started": "2025-06-11T10:54:32.577861Z"
    }
   },
   "outputs": [],
   "source": [
    "# --- Normalizing new formulas ---\n",
    "dataset_satlib['formula'] = dataset_satlib['formula'].apply(lambda f: str(Normalizer().normalize(f)))"
   ]
  },
  {
   "cell_type": "code",
   "execution_count": 13,
   "id": "8c3dc39b-f16c-45a0-ae02-5cf7533e3f7f",
   "metadata": {
    "execution": {
     "iopub.execute_input": "2025-06-11T10:54:41.884121Z",
     "iopub.status.busy": "2025-06-11T10:54:41.883832Z",
     "iopub.status.idle": "2025-06-11T10:54:42.253775Z",
     "shell.execute_reply": "2025-06-11T10:54:42.252761Z",
     "shell.execute_reply.started": "2025-06-11T10:54:41.884092Z"
    }
   },
   "outputs": [
    {
     "name": "stdout",
     "output_type": "stream",
     "text": [
      "\n",
      "==================================================================================================================================\n",
      "[INFO] Saving Dataset to /home/labeconomia/nbalestra/theorem_prover/theorem_prover_core/ICTCS_notebooks/datasets/extended_dataset_with_dimacs_formulas.csv\n",
      "==================================================================================================================================\n",
      "\n"
     ]
    }
   ],
   "source": [
    "# --- Adding a column 'source' to combined dataset to distinguish between synthetic formulas and dimacs formulas ---\n",
    "dataset['source'] = 'synthetic'\n",
    "dataset_satlib['source'] = 'satlib'\n",
    "\n",
    "# --- Concateating datasets and shuffling ---\n",
    "dataset_composed = pd.concat([dataset, dataset_satlib], ignore_index=True)\n",
    "dataset_composed = dataset_composed.sample(frac=1, random_state=42).reset_index(drop=True) # frac=1 means shuffle all rows\n",
    "                                                                                           # reset_index(drop=True) removes the old index\n",
    "# --- Adding indices to dataset---\n",
    "dataset_composed['index'] = dataset_composed.index\n",
    "\n",
    "datapath = \"datasets/extended_dataset_with_dimacs_formulas.csv\"\n",
    "dataset_composed.to_csv(datapath, index=False)\n",
    "print(\"\\n\" + \"=\" * 130)\n",
    "print(f\"[INFO] Saving Dataset to {os.path.abspath(datapath)}\")\n",
    "print(\"=\" * 130 + \"\\n\")"
   ]
  },
  {
   "cell_type": "code",
   "execution_count": 14,
   "id": "41a72470-8985-4cad-bc10-e01349f7416c",
   "metadata": {
    "execution": {
     "iopub.execute_input": "2025-06-11T10:54:42.255569Z",
     "iopub.status.busy": "2025-06-11T10:54:42.255259Z",
     "iopub.status.idle": "2025-06-11T10:54:42.266763Z",
     "shell.execute_reply": "2025-06-11T10:54:42.265900Z",
     "shell.execute_reply.started": "2025-06-11T10:54:42.255540Z"
    }
   },
   "outputs": [
    {
     "data": {
      "text/html": [
       "<div>\n",
       "<style scoped>\n",
       "    .dataframe tbody tr th:only-of-type {\n",
       "        vertical-align: middle;\n",
       "    }\n",
       "\n",
       "    .dataframe tbody tr th {\n",
       "        vertical-align: top;\n",
       "    }\n",
       "\n",
       "    .dataframe thead th {\n",
       "        text-align: right;\n",
       "    }\n",
       "</style>\n",
       "<table border=\"1\" class=\"dataframe\">\n",
       "  <thead>\n",
       "    <tr style=\"text-align: right;\">\n",
       "      <th></th>\n",
       "      <th>formula</th>\n",
       "      <th>is_tautology</th>\n",
       "      <th>source</th>\n",
       "      <th>index</th>\n",
       "    </tr>\n",
       "  </thead>\n",
       "  <tbody>\n",
       "    <tr>\n",
       "      <th>0</th>\n",
       "      <td>(¬(((A0 → A1) ∧ ((A2 ∨ A3) ∧ ((A4 → A5) ∧ (¬A6...</td>\n",
       "      <td>True</td>\n",
       "      <td>synthetic</td>\n",
       "      <td>0</td>\n",
       "    </tr>\n",
       "    <tr>\n",
       "      <th>1</th>\n",
       "      <td>(¬((A0 ∧ (((¬(A1 ∧ A2)) ∨ A3) → A4)) ∧ (¬(A0 ∧...</td>\n",
       "      <td>True</td>\n",
       "      <td>synthetic</td>\n",
       "      <td>1</td>\n",
       "    </tr>\n",
       "    <tr>\n",
       "      <th>2</th>\n",
       "      <td>(((A0 ∧ ((¬A1) ∧ (A2 → A3))) ∧ ((A4 ∨ A5) → A6...</td>\n",
       "      <td>False</td>\n",
       "      <td>synthetic</td>\n",
       "      <td>2</td>\n",
       "    </tr>\n",
       "    <tr>\n",
       "      <th>3</th>\n",
       "      <td>((A0 ∨ (¬((A1 ∧ A2) ∨ (¬A3)))) → A4)</td>\n",
       "      <td>False</td>\n",
       "      <td>synthetic</td>\n",
       "      <td>3</td>\n",
       "    </tr>\n",
       "    <tr>\n",
       "      <th>4</th>\n",
       "      <td>(A0 ∨ (((A1 → A2) → A3) → A4))</td>\n",
       "      <td>False</td>\n",
       "      <td>synthetic</td>\n",
       "      <td>4</td>\n",
       "    </tr>\n",
       "  </tbody>\n",
       "</table>\n",
       "</div>"
      ],
      "text/plain": [
       "                                             formula  is_tautology     source  \\\n",
       "0  (¬(((A0 → A1) ∧ ((A2 ∨ A3) ∧ ((A4 → A5) ∧ (¬A6...          True  synthetic   \n",
       "1  (¬((A0 ∧ (((¬(A1 ∧ A2)) ∨ A3) → A4)) ∧ (¬(A0 ∧...          True  synthetic   \n",
       "2  (((A0 ∧ ((¬A1) ∧ (A2 → A3))) ∧ ((A4 ∨ A5) → A6...         False  synthetic   \n",
       "3               ((A0 ∨ (¬((A1 ∧ A2) ∨ (¬A3)))) → A4)         False  synthetic   \n",
       "4                     (A0 ∨ (((A1 → A2) → A3) → A4))         False  synthetic   \n",
       "\n",
       "   index  \n",
       "0      0  \n",
       "1      1  \n",
       "2      2  \n",
       "3      3  \n",
       "4      4  "
      ]
     },
     "execution_count": 14,
     "metadata": {},
     "output_type": "execute_result"
    }
   ],
   "source": [
    "dataset_composed.head()"
   ]
  },
  {
   "cell_type": "code",
   "execution_count": 15,
   "id": "09a14d49-8f9c-4857-8f9b-9fde5fd68003",
   "metadata": {
    "execution": {
     "iopub.execute_input": "2025-06-11T10:54:42.268114Z",
     "iopub.status.busy": "2025-06-11T10:54:42.267825Z",
     "iopub.status.idle": "2025-06-11T10:54:42.281940Z",
     "shell.execute_reply": "2025-06-11T10:54:42.281090Z",
     "shell.execute_reply.started": "2025-06-11T10:54:42.268085Z"
    }
   },
   "outputs": [
    {
     "name": "stdout",
     "output_type": "stream",
     "text": [
      "formula         16000\n",
      "is_tautology    16000\n",
      "source          16000\n",
      "index           16000\n",
      "dtype: int64\n",
      "\n",
      "Number of True and False formulas: \n",
      "is_tautology\n",
      "False    10582\n",
      "True      5418\n",
      "Name: count, dtype: int64\n",
      "\n",
      "\n",
      "==================================================================================================================================\n",
      "Percentage of tautologies in the composed dataset: 41.68%\n",
      "==================================================================================================================================\n",
      "\n"
     ]
    }
   ],
   "source": [
    "# --- Get Dataset Info ---\n",
    "print(dataset_composed.count())\n",
    "count = dataset_composed.is_tautology.value_counts()\n",
    "print(f\"\\nNumber of True and False formulas: \\n{count}\\n\")\n",
    "\n",
    "total = len(dataset)\n",
    "tautologies = dataset_composed[\"is_tautology\"].sum()\n",
    "percentage = (tautologies / total) * 100\n",
    "print(\"\\n\" + \"=\" * 130)\n",
    "print(f\"Percentage of tautologies in the composed dataset: {percentage:.2f}%\")\n",
    "print(\"=\" * 130 + \"\\n\")"
   ]
  },
  {
   "cell_type": "code",
   "execution_count": 16,
   "id": "3a671e39-7e09-4fd0-85cc-d2dd4f1e250e",
   "metadata": {
    "execution": {
     "iopub.execute_input": "2025-06-11T10:54:42.283670Z",
     "iopub.status.busy": "2025-06-11T10:54:42.283377Z",
     "iopub.status.idle": "2025-06-11T10:54:45.487851Z",
     "shell.execute_reply": "2025-06-11T10:54:45.486681Z",
     "shell.execute_reply.started": "2025-06-11T10:54:42.283641Z"
    }
   },
   "outputs": [],
   "source": [
    "TEST_SIZE = 0.2\n",
    "BATCH_SIZE = 16\n",
    "SEED = 42\n",
    "\n",
    "(train_dataloader, test_dataloader, \n",
    " tokenizer,\n",
    " X_train, X_test, \n",
    " y_train, y_test, idx_test)  = prepare_formula_dataset(dataset = dataset,\n",
    "                                                                 test_size=TEST_SIZE,\n",
    "                                                                 batch_size=BATCH_SIZE,\n",
    "                                                                 seed=SEED)"
   ]
  },
  {
   "cell_type": "code",
   "execution_count": 17,
   "id": "e86b35e0-35df-4a12-917d-1d212b16235d",
   "metadata": {
    "execution": {
     "iopub.execute_input": "2025-06-11T10:54:45.489381Z",
     "iopub.status.busy": "2025-06-11T10:54:45.489098Z",
     "iopub.status.idle": "2025-06-11T10:54:45.496243Z",
     "shell.execute_reply": "2025-06-11T10:54:45.494829Z",
     "shell.execute_reply.started": "2025-06-11T10:54:45.489352Z"
    }
   },
   "outputs": [
    {
     "name": "stdout",
     "output_type": "stream",
     "text": [
      "Training set: 10400 samples\n",
      "Test set: 2600 samples\n"
     ]
    }
   ],
   "source": [
    "print(f\"Training set: {len(X_train)} samples\")\n",
    "print(f\"Test set: {len(X_test)} samples\")"
   ]
  },
  {
   "cell_type": "code",
   "execution_count": 18,
   "id": "13c5cee6-f27f-48a0-b6b9-4280b9644307",
   "metadata": {
    "execution": {
     "iopub.execute_input": "2025-06-11T10:54:45.497878Z",
     "iopub.status.busy": "2025-06-11T10:54:45.497560Z",
     "iopub.status.idle": "2025-06-11T10:54:45.869671Z",
     "shell.execute_reply": "2025-06-11T10:54:45.868509Z",
     "shell.execute_reply.started": "2025-06-11T10:54:45.497846Z"
    }
   },
   "outputs": [
    {
     "name": "stdout",
     "output_type": "stream",
     "text": [
      "Number of unique letters: 8\n",
      "Number of unique connectives: 4\n",
      "Number of spacial tokens: 2\n"
     ]
    }
   ],
   "source": [
    "tokenizer = CustomTokenizer()\n",
    "tokenizer.fit(X_train)\n",
    "\n",
    "num_letters = sum(1 for formula in tokenizer.formula_to_token if isinstance(formula, Letter))\n",
    "num_connectives = len(tokenizer.connective_map)\n",
    "num_parenthesis = sum(1 for formula in tokenizer.special_map)\n",
    "\n",
    "print(f\"Number of unique letters: {num_letters}\")\n",
    "print(f\"Number of unique connectives: {num_connectives}\")\n",
    "print(f\"Number of spacial tokens: {num_parenthesis}\")"
   ]
  },
  {
   "cell_type": "code",
   "execution_count": 19,
   "id": "34874c40-d316-497e-93ec-bfb83426bff6",
   "metadata": {
    "execution": {
     "iopub.execute_input": "2025-06-11T10:54:45.871202Z",
     "iopub.status.busy": "2025-06-11T10:54:45.870921Z",
     "iopub.status.idle": "2025-06-11T10:54:45.878390Z",
     "shell.execute_reply": "2025-06-11T10:54:45.877433Z",
     "shell.execute_reply.started": "2025-06-11T10:54:45.871172Z"
    }
   },
   "outputs": [
    {
     "name": "stdout",
     "output_type": "stream",
     "text": [
      "Train class counts: Counter({False: 7662, True: 2738})\n",
      "Test class counts: Counter({False: 1920, True: 680})\n"
     ]
    }
   ],
   "source": [
    "import collections\n",
    "\n",
    "train_class_counts = collections.Counter(y_train)\n",
    "test_class_counts = collections.Counter(y_test)\n",
    "\n",
    "print(f\"Train class counts: {train_class_counts}\")\n",
    "print(f\"Test class counts: {test_class_counts}\")"
   ]
  },
  {
   "cell_type": "code",
   "execution_count": 20,
   "id": "8358722d-0d97-407a-83c4-a38f5c78cbba",
   "metadata": {
    "execution": {
     "iopub.execute_input": "2025-06-11T10:54:45.879550Z",
     "iopub.status.busy": "2025-06-11T10:54:45.879284Z",
     "iopub.status.idle": "2025-06-11T10:54:45.887418Z",
     "shell.execute_reply": "2025-06-11T10:54:45.886391Z",
     "shell.execute_reply.started": "2025-06-11T10:54:45.879522Z"
    }
   },
   "outputs": [
    {
     "name": "stdout",
     "output_type": "stream",
     "text": [
      "Train set (10400 samples): False = 73.67 % and True = 26.33 %\n",
      "Test set (2600 samples): False = 73.85 % and True = 26.15 %\n"
     ]
    }
   ],
   "source": [
    "def print_class_distribution(name: str, counter: collections.Counter):\n",
    "    total = sum(counter.values())\n",
    "    false_count = counter[False]\n",
    "    true_count = counter[True]\n",
    "    false_pct = (false_count / total) * 100\n",
    "    true_pct = (true_count / total) * 100\n",
    "    print(f\"{name} set ({total} samples): False = {false_pct:.2f} % and True = {true_pct:.2f} %\")\n",
    "\n",
    "print_class_distribution(\"Train\", train_class_counts)\n",
    "print_class_distribution(\"Test\", test_class_counts)"
   ]
  },
  {
   "cell_type": "code",
   "execution_count": 21,
   "id": "f6b182d1-a934-4c57-a11c-e0d1f400f508",
   "metadata": {
    "execution": {
     "iopub.execute_input": "2025-06-11T10:54:45.888759Z",
     "iopub.status.busy": "2025-06-11T10:54:45.888469Z",
     "iopub.status.idle": "2025-06-11T10:54:45.895226Z",
     "shell.execute_reply": "2025-06-11T10:54:45.894044Z",
     "shell.execute_reply.started": "2025-06-11T10:54:45.888715Z"
    }
   },
   "outputs": [
    {
     "name": "stdout",
     "output_type": "stream",
     "text": [
      "Dataloaders: (<torch.utils.data.dataloader.DataLoader object at 0x7f0b3944fcd0>, <torch.utils.data.dataloader.DataLoader object at 0x7f0b39448b50>)\n",
      "Length of train dataloader: 650 batches of 16\n",
      "Length of test dataloader: 163 batches of 16\n"
     ]
    }
   ],
   "source": [
    "print(f\"Dataloaders: {train_dataloader, test_dataloader}\") \n",
    "print(f\"Length of train dataloader: {len(train_dataloader)} batches of {BATCH_SIZE}\")\n",
    "print(f\"Length of test dataloader: {len(test_dataloader)} batches of {BATCH_SIZE}\")"
   ]
  },
  {
   "cell_type": "code",
   "execution_count": 22,
   "id": "c883fd2b-8efb-4f50-93c9-2d2e32879916",
   "metadata": {
    "execution": {
     "iopub.execute_input": "2025-06-11T10:54:45.896346Z",
     "iopub.status.busy": "2025-06-11T10:54:45.896081Z",
     "iopub.status.idle": "2025-06-11T10:54:45.905332Z",
     "shell.execute_reply": "2025-06-11T10:54:45.904302Z",
     "shell.execute_reply.started": "2025-06-11T10:54:45.896318Z"
    }
   },
   "outputs": [
    {
     "name": "stdout",
     "output_type": "stream",
     "text": [
      "(torch.Size([16, 603]), torch.Size([16])) -> [batch_size, num_of_tokens_per_formula], [bach_size]\n"
     ]
    }
   ],
   "source": [
    "# Check out what's inside the training dataloader\n",
    "train_features_batch, train_labels_batch = next(iter(train_dataloader)) # next() grabs the first batch from the iterator\n",
    "print(f\"{train_features_batch.shape, train_labels_batch.shape} -> [batch_size, num_of_tokens_per_formula], [bach_size]\")"
   ]
  },
  {
   "cell_type": "markdown",
   "id": "487cd037-ec45-4f58-a2c6-cad68fa04b89",
   "metadata": {},
   "source": [
    "---\n",
    "#### **2 Build, Train and Test GRU Models on Synthetic Dataset**"
   ]
  },
  {
   "cell_type": "markdown",
   "id": "e5ef2deb-ced8-499b-9cc1-d799955643c3",
   "metadata": {},
   "source": [
    "#### **2.1 Hyperparameters**"
   ]
  },
  {
   "cell_type": "code",
   "execution_count": 23,
   "id": "a075bf2f-c58c-4837-afde-1cabbcef76a6",
   "metadata": {
    "execution": {
     "iopub.execute_input": "2025-06-04T16:46:00.037441Z",
     "iopub.status.busy": "2025-06-04T16:46:00.036064Z",
     "iopub.status.idle": "2025-06-04T16:46:00.045979Z",
     "shell.execute_reply": "2025-06-04T16:46:00.044543Z",
     "shell.execute_reply.started": "2025-06-04T16:46:00.037389Z"
    }
   },
   "outputs": [
    {
     "name": "stdout",
     "output_type": "stream",
     "text": [
      "Vocabulary size (including padding token): 108\n",
      "Max index in batch: 107\n"
     ]
    }
   ],
   "source": [
    "# Determine the vocabulary size for the embedding layer (add 1 for padding index 0)\n",
    "VOCAB_SIZE = compute_vocab_size(tokenizer)\n",
    "\n",
    "print(f\"Vocabulary size (including padding token): {VOCAB_SIZE}\")\n",
    "print(\"Max index in batch:\", train_features_batch.max().item())\n",
    "assert train_features_batch.max().item() < VOCAB_SIZE, \"Some token indices exceed the embedding size!\"\n",
    "\n",
    "EMBEDDING_DIM = 32\n",
    "LR = 0.0005\n",
    "EPOCHS = 5"
   ]
  },
  {
   "cell_type": "markdown",
   "id": "a2a7efef-251d-403b-b2e5-3b186b7ebab7",
   "metadata": {},
   "source": [
    "#### **2.2 Model 1**"
   ]
  },
  {
   "cell_type": "code",
   "execution_count": 24,
   "id": "f6d9eb3c-8da4-4176-9ca4-dbc709f0bb87",
   "metadata": {
    "execution": {
     "iopub.execute_input": "2025-06-04T16:46:12.098033Z",
     "iopub.status.busy": "2025-06-04T16:46:12.097586Z",
     "iopub.status.idle": "2025-06-04T16:46:12.106097Z",
     "shell.execute_reply": "2025-06-04T16:46:12.105161Z",
     "shell.execute_reply.started": "2025-06-04T16:46:12.098002Z"
    }
   },
   "outputs": [],
   "source": [
    "# --- Vanilla RNN Model ---\n",
    "class RNN_V1(nn.Module):\n",
    "    def __init__(self, vocab_size :int, embedding_dim :int, hidden_units: int, output_size :int):\n",
    "        super().__init__()\n",
    "        \n",
    "        # Embedding layer:\n",
    "        self.embedding = nn.Embedding(num_embeddings=vocab_size, embedding_dim=embedding_dim)\n",
    "        # Simple RNN layer:\n",
    "        self.rnn = nn.RNN(input_size=embedding_dim, hidden_size=hidden_units, batch_first=True)\n",
    "        # Fully connected output layer:\n",
    "        self.linear = nn.Linear(in_features=hidden_units, out_features=output_size)\n",
    "    \n",
    "    def forward(self, x: torch.Tensor):\n",
    "        # x shape: [batch_size, seq_len]\n",
    "        x = self.embedding(x)               # [batch_size, seq_len, embed_dim]\n",
    "        _, h_n = self.rnn(x)                # [num_layers, batch_size, hidden_dim] = [1, batch_size, hidden_dim]\n",
    "        last_hidden = h_n.squeeze(0)        # [batch_size, hidden_dim] - remove the first dimension\n",
    "        output = self.linear(last_hidden)   # [batch_size, output_size] == [32, 1]\n",
    "        output = output.squeeze(1)          # Reshape output to match label shape [32]\n",
    "        return output"
   ]
  },
  {
   "cell_type": "code",
   "execution_count": 25,
   "id": "9a81f06c-a950-40db-919e-0a85cc7ca1b7",
   "metadata": {
    "execution": {
     "iopub.execute_input": "2025-06-04T16:46:16.749340Z",
     "iopub.status.busy": "2025-06-04T16:46:16.748911Z",
     "iopub.status.idle": "2025-06-04T16:46:17.022286Z",
     "shell.execute_reply": "2025-06-04T16:46:17.021253Z",
     "shell.execute_reply.started": "2025-06-04T16:46:16.749309Z"
    }
   },
   "outputs": [
    {
     "name": "stdout",
     "output_type": "stream",
     "text": [
      "Model_1 is on the model device: cuda:0\n"
     ]
    },
    {
     "data": {
      "text/plain": [
       "RNN_V1(\n",
       "  (embedding): Embedding(108, 32)\n",
       "  (rnn): RNN(32, 64, batch_first=True)\n",
       "  (linear): Linear(in_features=64, out_features=1, bias=True)\n",
       ")"
      ]
     },
     "execution_count": 25,
     "metadata": {},
     "output_type": "execute_result"
    }
   ],
   "source": [
    "model_1 = RNN_V1(vocab_size=VOCAB_SIZE, \n",
    "                 embedding_dim=EMBEDDING_DIM,\n",
    "                 hidden_units=64,\n",
    "                 output_size=1\n",
    ").to(device) \n",
    "\n",
    "print(f\"Model_1 is on the model device: {next(model_1.parameters()).device}\")\n",
    "model_1"
   ]
  },
  {
   "cell_type": "code",
   "execution_count": 26,
   "id": "e365e942-fe5a-4b8c-9b0b-ce7cb95bab97",
   "metadata": {
    "execution": {
     "iopub.execute_input": "2025-06-04T16:46:24.135748Z",
     "iopub.status.busy": "2025-06-04T16:46:24.135318Z",
     "iopub.status.idle": "2025-06-04T16:46:24.141402Z",
     "shell.execute_reply": "2025-06-04T16:46:24.140562Z",
     "shell.execute_reply.started": "2025-06-04T16:46:24.135716Z"
    }
   },
   "outputs": [],
   "source": [
    "# --- Loss and Optimizer Functions ---\n",
    "loss_fn = nn.BCEWithLogitsLoss()\n",
    "optimizer = torch.optim.Adam(params=model_1.parameters(), \n",
    "                            lr=LR)"
   ]
  },
  {
   "cell_type": "code",
   "execution_count": 27,
   "id": "cfa43f8d-b33e-4d4d-bae5-18b2cbc40a0b",
   "metadata": {
    "execution": {
     "iopub.execute_input": "2025-06-04T16:46:28.609187Z",
     "iopub.status.busy": "2025-06-04T16:46:28.608745Z",
     "iopub.status.idle": "2025-06-04T16:46:28.739234Z",
     "shell.execute_reply": "2025-06-04T16:46:28.738058Z",
     "shell.execute_reply.started": "2025-06-04T16:46:28.609156Z"
    }
   },
   "outputs": [
    {
     "data": {
      "text/plain": [
       "========================================================================================================================\n",
       "Layer (type (var_name))                  Input Shape          Output Shape         Param #              Trainable\n",
       "========================================================================================================================\n",
       "RNN_V1 (RNN_V1)                          [16, 603]            [16]                 --                   True\n",
       "├─Embedding (embedding)                  [16, 603]            [16, 603, 32]        3,456                True\n",
       "├─RNN (rnn)                              [16, 603, 32]        [16, 603, 64]        6,272                True\n",
       "├─Linear (linear)                        [16, 64]             [16, 1]              65                   True\n",
       "========================================================================================================================\n",
       "Total params: 9,793\n",
       "Trainable params: 9,793\n",
       "Non-trainable params: 0\n",
       "Total mult-adds (M): 60.57\n",
       "========================================================================================================================\n",
       "Input size (MB): 0.08\n",
       "Forward/backward pass size (MB): 7.41\n",
       "Params size (MB): 0.04\n",
       "Estimated Total Size (MB): 7.53\n",
       "========================================================================================================================"
      ]
     },
     "execution_count": 27,
     "metadata": {},
     "output_type": "execute_result"
    }
   ],
   "source": [
    "# --- Get a summary of Model_1 ---\n",
    "summary(model_1, \n",
    "         input_size=train_features_batch.shape,\n",
    "         dtypes=[torch.long],\n",
    "         verbose=0,\n",
    "         col_names=[\"input_size\", \"output_size\", \"num_params\", \"trainable\"],\n",
    "         col_width=20,\n",
    "         row_settings=[\"var_names\"],\n",
    "         device=device\n",
    ")"
   ]
  },
  {
   "cell_type": "code",
   "execution_count": 28,
   "id": "f7f4d7b8-672b-4ff9-b06a-faa7c0de26a5",
   "metadata": {
    "editable": true,
    "execution": {
     "iopub.execute_input": "2025-06-04T16:46:32.349070Z",
     "iopub.status.busy": "2025-06-04T16:46:32.347883Z",
     "iopub.status.idle": "2025-06-04T16:46:46.270889Z",
     "shell.execute_reply": "2025-06-04T16:46:46.269218Z",
     "shell.execute_reply.started": "2025-06-04T16:46:32.349028Z"
    },
    "slideshow": {
     "slide_type": ""
    },
    "tags": []
   },
   "outputs": [
    {
     "data": {
      "application/vnd.jupyter.widget-view+json": {
       "model_id": "9c7d9d181ced4116be06804ca43d7738",
       "version_major": 2,
       "version_minor": 0
      },
      "text/plain": [
       "Training Epochs:   0%|          | 0/5 [00:00<?, ?it/s]"
      ]
     },
     "metadata": {},
     "output_type": "display_data"
    },
    {
     "name": "stdout",
     "output_type": "stream",
     "text": [
      "Epoch: 1 | train_loss: 0.5785 | train_acc: 0.7367 | test_loss: 0.5746 | test_acc: 0.7385\n",
      "Epoch: 2 | train_loss: 0.5776 | train_acc: 0.7367 | test_loss: 0.5749 | test_acc: 0.7385\n",
      "Epoch: 3 | train_loss: 0.5772 | train_acc: 0.7367 | test_loss: 0.5753 | test_acc: 0.7385\n",
      "Epoch: 4 | train_loss: 0.5772 | train_acc: 0.7367 | test_loss: 0.5745 | test_acc: 0.7389\n",
      "Epoch: 5 | train_loss: 0.5769 | train_acc: 0.7369 | test_loss: 0.5746 | test_acc: 0.7389\n"
     ]
    }
   ],
   "source": [
    "# --- Train and Test Model_1 ---\n",
    "set_seeds()\n",
    "model_1_results = train(model=model_1,\n",
    "                        train_dataloader=train_dataloader,\n",
    "                        test_dataloader=test_dataloader,\n",
    "                        optimizer=optimizer,\n",
    "                        loss_fn=loss_fn,\n",
    "                        epochs=5,\n",
    "                        device=device)"
   ]
  },
  {
   "cell_type": "code",
   "execution_count": 29,
   "id": "e28ba1be-6c75-49cb-ab1d-a339fae2e803",
   "metadata": {
    "editable": true,
    "execution": {
     "iopub.execute_input": "2025-06-04T16:47:01.707636Z",
     "iopub.status.busy": "2025-06-04T16:47:01.707133Z",
     "iopub.status.idle": "2025-06-04T16:47:01.719518Z",
     "shell.execute_reply": "2025-06-04T16:47:01.718146Z",
     "shell.execute_reply.started": "2025-06-04T16:47:01.707598Z"
    },
    "slideshow": {
     "slide_type": ""
    },
    "tags": []
   },
   "outputs": [
    {
     "name": "stdout",
     "output_type": "stream",
     "text": [
      "[INFO] Results saved to: models_results/Model_1_vanilla_rnn_results.csv\n"
     ]
    }
   ],
   "source": [
    "save_results(model_1_results, target_dir=\"models_results\", filename=\"Model_1_vanilla_rnn_results.csv\")"
   ]
  },
  {
   "cell_type": "code",
   "execution_count": 30,
   "id": "5544b062-4699-42b8-a24d-436966ec8fc2",
   "metadata": {
    "execution": {
     "iopub.execute_input": "2025-06-04T16:47:04.271415Z",
     "iopub.status.busy": "2025-06-04T16:47:04.270058Z",
     "iopub.status.idle": "2025-06-04T16:47:04.276647Z",
     "shell.execute_reply": "2025-06-04T16:47:04.275485Z",
     "shell.execute_reply.started": "2025-06-04T16:47:04.271370Z"
    }
   },
   "outputs": [
    {
     "name": "stdout",
     "output_type": "stream",
     "text": [
      "\n",
      "Given the data distribution and Model performances, model_1 predicts False every time — and that would still be right ~74% of the time.\n"
     ]
    }
   ],
   "source": [
    "print(f\"\\nGiven the data distribution and Model performances, model_1 predicts False every time — and that would still be right ~74% of the time.\")"
   ]
  },
  {
   "cell_type": "markdown",
   "id": "6d5b3c2f-a6cf-4100-adf3-59183b8849c1",
   "metadata": {},
   "source": [
    "#### **2.3 Model 2**"
   ]
  },
  {
   "cell_type": "code",
   "execution_count": 31,
   "id": "c3df0644-ce41-408c-831b-89268a5654fb",
   "metadata": {
    "execution": {
     "iopub.execute_input": "2025-06-04T16:47:24.300814Z",
     "iopub.status.busy": "2025-06-04T16:47:24.299494Z",
     "iopub.status.idle": "2025-06-04T16:47:24.310924Z",
     "shell.execute_reply": "2025-06-04T16:47:24.309557Z",
     "shell.execute_reply.started": "2025-06-04T16:47:24.300774Z"
    }
   },
   "outputs": [],
   "source": [
    "# --- Bidirectional Stacked GRU ---\n",
    "class GRU(nn.Module):\n",
    "    def __init__(self, vocab_size, embedding_dim=EMBEDDING_DIM):\n",
    "        super().__init__()\n",
    "\n",
    "        # Embedding layer: \n",
    "        self.embedding = nn.Embedding(vocab_size, embedding_dim, padding_idx=0)\n",
    "\n",
    "        # First bidirectional GRU layer:\n",
    "        self.gru1 = nn.GRU(\n",
    "            input_size=embedding_dim,\n",
    "            hidden_size=128,\n",
    "            batch_first=True,\n",
    "            bidirectional=True\n",
    "        )\n",
    "\n",
    "        # Second bidirectional GRU layer:\n",
    "        self.gru2 = nn.GRU(\n",
    "            input_size=128 * 2,  # Because bidirectional doubles output size\n",
    "            hidden_size=64,\n",
    "            batch_first=True,\n",
    "            bidirectional=True\n",
    "        )\n",
    "\n",
    "        # Fully connected layer 1:\n",
    "        self.fc1 = nn.Linear(64 * 2, 32)  # Because bidirectional doubles output size\n",
    "        self.relu = nn.ReLU()\n",
    "\n",
    "        # Fully connected layer 2:\n",
    "        self.fc2 = nn.Linear(32, 1)  \n",
    "\n",
    "    def forward(self, x):\n",
    "        # x shape: [batch_size, seq_len]\n",
    "        x = self.embedding(x)                 # [batch_size, seq_len, embed_dim]\n",
    "\n",
    "        out1, _ = self.gru1(x)                # [batch_size, seq_len, 2xhidd_size_1=256]\n",
    "        out2, h_n = self.gru2(out1)           # [batch_size, seq_len, 2xhidd_size_2=128], h_n: [2=num_layers, batch_size, hidd_size_2=64] \n",
    "        \n",
    "        h_forward = h_n[0]                    # [batch_size, hidd_size_2]\n",
    "        h_backward = h_n[1]                   # [batch_size, hidd_size_2]\n",
    "        final_hidden = torch.cat((h_forward, h_backward), dim=1)  # [batch_size, 2xhidd_size_2=128]\n",
    "\n",
    "        x = self.relu(self.fc1(final_hidden)) # [batch_size, 32]\n",
    "        output = self.fc2(x)                  # [batch_size, 1]\n",
    "        output = output.squeeze(1)            # Reshape output to match label shape [32]\n",
    "        return output "
   ]
  },
  {
   "cell_type": "code",
   "execution_count": 32,
   "id": "5e23c1ad-5682-426d-9255-5ad1749c23bc",
   "metadata": {
    "execution": {
     "iopub.execute_input": "2025-06-04T16:47:26.907488Z",
     "iopub.status.busy": "2025-06-04T16:47:26.907032Z",
     "iopub.status.idle": "2025-06-04T16:47:26.926169Z",
     "shell.execute_reply": "2025-06-04T16:47:26.924960Z",
     "shell.execute_reply.started": "2025-06-04T16:47:26.907454Z"
    }
   },
   "outputs": [
    {
     "name": "stdout",
     "output_type": "stream",
     "text": [
      "Model_2 is on the model device: cuda:0\n"
     ]
    },
    {
     "data": {
      "text/plain": [
       "GRU(\n",
       "  (embedding): Embedding(108, 32, padding_idx=0)\n",
       "  (gru1): GRU(32, 128, batch_first=True, bidirectional=True)\n",
       "  (gru2): GRU(256, 64, batch_first=True, bidirectional=True)\n",
       "  (fc1): Linear(in_features=128, out_features=32, bias=True)\n",
       "  (relu): ReLU()\n",
       "  (fc2): Linear(in_features=32, out_features=1, bias=True)\n",
       ")"
      ]
     },
     "execution_count": 32,
     "metadata": {},
     "output_type": "execute_result"
    }
   ],
   "source": [
    "model_2 = GRU(vocab_size=VOCAB_SIZE, embedding_dim=EMBEDDING_DIM).to(device)\n",
    "\n",
    "print(f\"Model_2 is on the model device: {next(model_2.parameters()).device}\")\n",
    "model_2"
   ]
  },
  {
   "cell_type": "code",
   "execution_count": 33,
   "id": "233bbf99-351c-4698-b5a7-e6a3351d1b13",
   "metadata": {
    "execution": {
     "iopub.execute_input": "2025-06-04T16:47:34.217926Z",
     "iopub.status.busy": "2025-06-04T16:47:34.217121Z",
     "iopub.status.idle": "2025-06-04T16:47:34.227695Z",
     "shell.execute_reply": "2025-06-04T16:47:34.225754Z",
     "shell.execute_reply.started": "2025-06-04T16:47:34.217881Z"
    }
   },
   "outputs": [],
   "source": [
    "# --- Loss and Optimizer Functions ---\n",
    "loss_fn = AsymmetricFocalLoss(\n",
    "    alpha_pos=0.3,  # minority (tautology)\n",
    "    alpha_neg=0.7,  # majority\n",
    "    gamma_pos=3.0,\n",
    "    gamma_neg=1.5\n",
    ")\n",
    "optimizer = torch.optim.Adam(params=model_2.parameters(), \n",
    "                            lr=LR)"
   ]
  },
  {
   "cell_type": "code",
   "execution_count": 34,
   "id": "e59894c6-7897-4611-b2b4-eadfb0cdb4e5",
   "metadata": {
    "execution": {
     "iopub.execute_input": "2025-06-04T16:47:36.783695Z",
     "iopub.status.busy": "2025-06-04T16:47:36.782501Z",
     "iopub.status.idle": "2025-06-04T16:47:36.834019Z",
     "shell.execute_reply": "2025-06-04T16:47:36.832715Z",
     "shell.execute_reply.started": "2025-06-04T16:47:36.783648Z"
    }
   },
   "outputs": [
    {
     "data": {
      "text/plain": [
       "========================================================================================================================\n",
       "Layer (type (var_name))                  Input Shape          Output Shape         Param #              Trainable\n",
       "========================================================================================================================\n",
       "GRU (GRU)                                [16, 603]            [16]                 --                   True\n",
       "├─Embedding (embedding)                  [16, 603]            [16, 603, 32]        3,456                True\n",
       "├─GRU (gru1)                             [16, 603, 32]        [16, 603, 256]       124,416              True\n",
       "├─GRU (gru2)                             [16, 603, 256]       [16, 603, 128]       123,648              True\n",
       "├─Linear (fc1)                           [16, 128]            [16, 32]             4,128                True\n",
       "├─ReLU (relu)                            [16, 32]             [16, 32]             --                   --\n",
       "├─Linear (fc2)                           [16, 32]             [16, 1]              33                   True\n",
       "========================================================================================================================\n",
       "Total params: 255,681\n",
       "Trainable params: 255,681\n",
       "Non-trainable params: 0\n",
       "Total mult-adds (G): 2.39\n",
       "========================================================================================================================\n",
       "Input size (MB): 0.08\n",
       "Forward/backward pass size (MB): 32.11\n",
       "Params size (MB): 1.02\n",
       "Estimated Total Size (MB): 33.21\n",
       "========================================================================================================================"
      ]
     },
     "execution_count": 34,
     "metadata": {},
     "output_type": "execute_result"
    }
   ],
   "source": [
    "# Get a summary of Model_2 \n",
    "summary(model_2, \n",
    "         input_size=train_features_batch.shape,\n",
    "         dtypes=[torch.long],\n",
    "         verbose=0,\n",
    "         col_names=[\"input_size\", \"output_size\", \"num_params\", \"trainable\"],\n",
    "         col_width=20,\n",
    "         row_settings=[\"var_names\"],\n",
    "         device=device\n",
    ")"
   ]
  },
  {
   "cell_type": "code",
   "execution_count": 35,
   "id": "11641db8-c5b5-444a-88af-786cb1ab54b3",
   "metadata": {
    "execution": {
     "iopub.execute_input": "2025-06-04T16:47:43.876409Z",
     "iopub.status.busy": "2025-06-04T16:47:43.875366Z",
     "iopub.status.idle": "2025-06-04T16:48:27.345741Z",
     "shell.execute_reply": "2025-06-04T16:48:27.344290Z",
     "shell.execute_reply.started": "2025-06-04T16:47:43.876372Z"
    }
   },
   "outputs": [
    {
     "data": {
      "application/vnd.jupyter.widget-view+json": {
       "model_id": "5b436001db2d421b828b87c594dd659f",
       "version_major": 2,
       "version_minor": 0
      },
      "text/plain": [
       "Training Epochs:   0%|          | 0/5 [00:00<?, ?it/s]"
      ]
     },
     "metadata": {},
     "output_type": "display_data"
    },
    {
     "name": "stdout",
     "output_type": "stream",
     "text": [
      "Epoch: 1 | train_loss: 0.0337 | train_acc: 0.8822 | test_loss: 0.0230 | test_acc: 0.9582\n",
      "Epoch: 2 | train_loss: 0.0170 | train_acc: 0.9567 | test_loss: 0.0163 | test_acc: 0.9617\n",
      "Epoch: 3 | train_loss: 0.0124 | train_acc: 0.9625 | test_loss: 0.0125 | test_acc: 0.9624\n",
      "Epoch: 4 | train_loss: 0.0099 | train_acc: 0.9672 | test_loss: 0.0090 | test_acc: 0.9724\n",
      "Epoch: 5 | train_loss: 0.0090 | train_acc: 0.9670 | test_loss: 0.0075 | test_acc: 0.9689\n"
     ]
    }
   ],
   "source": [
    "# --- Train and Test Model_2 ---\n",
    "set_seeds()\n",
    "model_2_results = train(model=model_2,\n",
    "                        train_dataloader=train_dataloader,\n",
    "                        test_dataloader=test_dataloader,\n",
    "                        optimizer=optimizer,\n",
    "                        loss_fn=loss_fn,\n",
    "                        epochs=5,\n",
    "                        device=device)"
   ]
  },
  {
   "cell_type": "code",
   "execution_count": 36,
   "id": "c5ca1d66-9cf6-4f04-9786-0521b01d6b95",
   "metadata": {
    "execution": {
     "iopub.execute_input": "2025-06-04T16:48:55.022167Z",
     "iopub.status.busy": "2025-06-04T16:48:55.021644Z",
     "iopub.status.idle": "2025-06-04T16:48:55.031595Z",
     "shell.execute_reply": "2025-06-04T16:48:55.030367Z",
     "shell.execute_reply.started": "2025-06-04T16:48:55.022131Z"
    }
   },
   "outputs": [
    {
     "name": "stdout",
     "output_type": "stream",
     "text": [
      "[INFO] Results saved to: models_results/Model_2_stacked_bidirectional_gru_results.csv\n"
     ]
    }
   ],
   "source": [
    "save_results(model_2_results, target_dir=\"models_results\", filename=\"Model_2_stacked_bidirectional_gru_results.csv\")"
   ]
  },
  {
   "cell_type": "code",
   "execution_count": 37,
   "id": "e7a568b3-5753-439b-962d-83000fabc145",
   "metadata": {
    "execution": {
     "iopub.execute_input": "2025-06-04T16:48:57.292411Z",
     "iopub.status.busy": "2025-06-04T16:48:57.291899Z",
     "iopub.status.idle": "2025-06-04T16:48:57.308567Z",
     "shell.execute_reply": "2025-06-04T16:48:57.307270Z",
     "shell.execute_reply.started": "2025-06-04T16:48:57.292374Z"
    }
   },
   "outputs": [
    {
     "name": "stdout",
     "output_type": "stream",
     "text": [
      "[INFO] Saving model to: models/Bidirectional_GRU_trained_with_synth_formulas.pth\n"
     ]
    }
   ],
   "source": [
    "save_model(model=model_2,\n",
    "           target_dir=\"models\",\n",
    "           model_name=\"Bidirectional_GRU_trained_with_synth_formulas.pth\")"
   ]
  },
  {
   "cell_type": "markdown",
   "id": "564b2a8c-e73c-4cb5-9fee-653c908304d1",
   "metadata": {},
   "source": [
    "---\n",
    "## **Part 2: Binary Tree-LSTM**\n",
    "\n",
    "In this section, we represent logical formulas as trees. This will serve as the recursive structure on which the TreeLSTM will operate."
   ]
  },
  {
   "cell_type": "markdown",
   "id": "b7ee239c-f6de-42c3-8b37-b7801a26966f",
   "metadata": {},
   "source": [
    "---\n",
    "#### **2.1 Syntactic Tree Representation of Formulas**"
   ]
  },
  {
   "cell_type": "markdown",
   "id": "60acb819-4159-48d0-8094-113df11c1d38",
   "metadata": {
    "execution": {
     "iopub.execute_input": "2025-06-02T21:26:37.863092Z",
     "iopub.status.busy": "2025-06-02T21:26:37.861491Z",
     "iopub.status.idle": "2025-06-02T21:26:37.867640Z",
     "shell.execute_reply": "2025-06-02T21:26:37.866496Z",
     "shell.execute_reply.started": "2025-06-02T21:26:37.863038Z"
    }
   },
   "source": [
    "Each node of the tree will correspond to a `FormulaTreeNode` object, which represents a node of the logical formula."
   ]
  },
  {
   "cell_type": "code",
   "execution_count": 23,
   "id": "d867558e-ab51-43bc-8d08-c3d337587ef9",
   "metadata": {
    "execution": {
     "iopub.execute_input": "2025-06-11T10:55:34.246827Z",
     "iopub.status.busy": "2025-06-11T10:55:34.246319Z",
     "iopub.status.idle": "2025-06-11T10:55:34.253927Z",
     "shell.execute_reply": "2025-06-11T10:55:34.252753Z",
     "shell.execute_reply.started": "2025-06-11T10:55:34.246792Z"
    }
   },
   "outputs": [
    {
     "name": "stdout",
     "output_type": "stream",
     "text": [
      "Formula: ¬¬(A0 ∨ A1 ∨ A2 ∨ A3)\n",
      "Root: Node(¬¬(A0 ∨ A1 ∨ A2 ∨ A3), children=1)\n",
      "Children: [Node(¬(A0 ∨ A1 ∨ A2 ∨ A3), children=1)]\n"
     ]
    }
   ],
   "source": [
    "# Example\n",
    "example_formula = X_train[0]\n",
    "print(\"Formula:\", example_formula)\n",
    "\n",
    "root_node = FormulaTreeNode(example_formula)\n",
    "print(\"Root:\", root_node)\n",
    "print(\"Children:\", root_node.children)"
   ]
  },
  {
   "cell_type": "markdown",
   "id": "b99c3279-5974-4d3c-9eff-d6a64c51546f",
   "metadata": {},
   "source": [
    "#### **2.2 Assigning embedding indices to the nodes**\n",
    "\n",
    "The `CustomTokenizer` already maps each `Formula` object to an integer. We the helper function `assign_embedding_indices` that:\n",
    "-  Recursively visits the `FormulaTreeNode` tree\n",
    "- Assigns to each node the corresponding `embedding_index` using `tokenizer.formula_to_token`."
   ]
  },
  {
   "cell_type": "code",
   "execution_count": 62,
   "id": "b8791665-09e9-4e73-b7c0-387aaf9faea0",
   "metadata": {
    "execution": {
     "iopub.execute_input": "2025-06-11T11:07:23.203793Z",
     "iopub.status.busy": "2025-06-11T11:07:23.202056Z",
     "iopub.status.idle": "2025-06-11T11:07:23.585262Z",
     "shell.execute_reply": "2025-06-11T11:07:23.584061Z",
     "shell.execute_reply.started": "2025-06-11T11:07:23.203752Z"
    }
   },
   "outputs": [
    {
     "name": "stdout",
     "output_type": "stream",
     "text": [
      "└── [Implication] A0 ∧ (A0 → A1) → A1 (embedding_index=103)\n",
      "    ├── [Conjunction] A0 ∧ (A0 → A1) (embedding_index=100)\n",
      "    │   ├── [Letter] A0 (embedding_index=1)\n",
      "    │   └── [Implication] A0 → A1 (embedding_index=103)\n",
      "    │       ├── [Letter] A0 (embedding_index=1)\n",
      "    │       └── [Letter] A1 (embedding_index=2)\n",
      "    └── [Letter] A1 (embedding_index=2)\n"
     ]
    }
   ],
   "source": [
    "# --- Example ---\n",
    "\n",
    "#for i, label in enumerate(y_train):\n",
    "#    if label:  # cioè se è una tautologia\n",
    "#        example_formula = X_train[i]\n",
    "#        print(\"Trovata tautologia all'indice\", i)\n",
    "#        if i > 200: \n",
    "#            break\n",
    "\n",
    "# Tokenizer fit\n",
    "tokenizer = CustomTokenizer()\n",
    "tokenizer.fit(X_train)\n",
    "\n",
    "# Tree construction for a formula\n",
    "#example_formula = X_train[139]\n",
    "example_formula = Implication((Letter(0)&(Implication(Letter(0), Letter(1)))), Letter(1)) # A0 /\\ (A0 -> A1) -> A1\n",
    "root_node = FormulaTreeNode(example_formula)\n",
    "\n",
    "# Embedding index assignment\n",
    "assign_embedding_indices(root_node, tokenizer)\n",
    "\n",
    "# Tree print with indexes\n",
    "print_tree_with_embeddings(root_node)"
   ]
  },
  {
   "cell_type": "markdown",
   "id": "7decc805-59a8-4e9c-9b21-e4db782145d1",
   "metadata": {},
   "source": [
    "#### **2.3 Dataset, Custom collate_fn for tree structures, and Representative Subset of Formulas for experiments**\n",
    "\n",
    "We use: \n",
    "- The datset `TreeFormulaDataset` that returns `(FormulaTreeNode, label)`\n",
    "- The `tree_collate_fn` that creates a batch (actually a list) of trees\n",
    "- The `DataLoader` that uses the `collate_fn`\n",
    "- The adaptation `tree_train_step()` and `tree_test_step()` for train and test the TreeLSTM model.\n",
    "- The function `prepare_balanced_tree_dataloaders()` that:\n",
    "  - Takes as input: all formulas and labels \n",
    "  - Selects a balanced subset with the same original proportion (~74% / 26%)\n",
    "  - Returns `DataLoaders` ready for training."
   ]
  },
  {
   "cell_type": "code",
   "execution_count": 25,
   "id": "03e448db-1f96-4f4b-bfb1-34a4f4ef41ae",
   "metadata": {
    "execution": {
     "iopub.execute_input": "2025-06-05T17:36:04.777554Z",
     "iopub.status.busy": "2025-06-05T17:36:04.777083Z",
     "iopub.status.idle": "2025-06-05T17:36:06.512207Z",
     "shell.execute_reply": "2025-06-05T17:36:06.510695Z",
     "shell.execute_reply.started": "2025-06-05T17:36:04.777511Z"
    }
   },
   "outputs": [
    {
     "name": "stdout",
     "output_type": "stream",
     "text": [
      "Train set (1000 samples): False = 74.00 % and True = 26.00 %\n",
      "Test set (200 samples): False = 74.00 % and True = 26.00 %\n"
     ]
    }
   ],
   "source": [
    "tree_train_loader, tree_test_loader, _ = prepare_balanced_tree_dataloaders(dataset=dataset,\n",
    "                                                                                   train_size=1000,\n",
    "                                                                                   test_size=200,\n",
    "                                                                                   positive_ratio=0.26,\n",
    "                                                                                   batch_size=16,\n",
    "                                                                                   test_split_ratio=0.2,\n",
    "                                                                                   seed=42\n",
    "                                                                                  )"
   ]
  },
  {
   "cell_type": "markdown",
   "id": "cbbdc824-f84e-41b6-817c-4e819f269668",
   "metadata": {},
   "source": [
    "---\n",
    "#### **2.5 WandB Sweep**\n",
    "\n",
    "Below are the results of the experiments conducted across multiple sweeps by varying the main hyperparameters. The experiments were carried out by running the modules `Sweep_1_hidden_states_fc_size.py`, `Sweep_2_focal_loss.py` and `Sweep_3_lr.py`.\n"
   ]
  },
  {
   "cell_type": "markdown",
   "id": "c4168251-1dbe-4173-8540-d95d3d41515e",
   "metadata": {},
   "source": [
    "##### **2.5.1 Sweep config — Step 1: `hidden_size` and `fully_conected_size`**"
   ]
  },
  {
   "cell_type": "code",
   "execution_count": 42,
   "id": "bcd9595f-e48c-4d87-87d9-94d13f9c5b7f",
   "metadata": {
    "execution": {
     "iopub.execute_input": "2025-06-02T22:08:40.377350Z",
     "iopub.status.busy": "2025-06-02T22:08:40.375831Z",
     "iopub.status.idle": "2025-06-02T22:08:40.404455Z",
     "shell.execute_reply": "2025-06-02T22:08:40.403210Z",
     "shell.execute_reply.started": "2025-06-02T22:08:40.377305Z"
    }
   },
   "outputs": [
    {
     "data": {
      "text/html": [
       "<div>\n",
       "<style scoped>\n",
       "    .dataframe tbody tr th:only-of-type {\n",
       "        vertical-align: middle;\n",
       "    }\n",
       "\n",
       "    .dataframe tbody tr th {\n",
       "        vertical-align: top;\n",
       "    }\n",
       "\n",
       "    .dataframe thead th {\n",
       "        text-align: right;\n",
       "    }\n",
       "</style>\n",
       "<table border=\"1\" class=\"dataframe\">\n",
       "  <thead>\n",
       "    <tr style=\"text-align: right;\">\n",
       "      <th></th>\n",
       "      <th>Name</th>\n",
       "      <th>num_epochs</th>\n",
       "      <th>learning_rate</th>\n",
       "      <th>embedding_dim</th>\n",
       "      <th>hidden_size</th>\n",
       "      <th>fc_size</th>\n",
       "      <th>alpha_pos</th>\n",
       "      <th>alpha_neg</th>\n",
       "      <th>gamma_pos</th>\n",
       "      <th>gamma_neg</th>\n",
       "      <th>train_loss</th>\n",
       "      <th>train_acc</th>\n",
       "      <th>test_loss</th>\n",
       "      <th>test_acc</th>\n",
       "    </tr>\n",
       "  </thead>\n",
       "  <tbody>\n",
       "    <tr>\n",
       "      <th>0</th>\n",
       "      <td>TreeLSTM_h128_fc32</td>\n",
       "      <td>5</td>\n",
       "      <td>0.0005</td>\n",
       "      <td>32</td>\n",
       "      <td>128</td>\n",
       "      <td>32</td>\n",
       "      <td>0.3</td>\n",
       "      <td>0.7</td>\n",
       "      <td>3</td>\n",
       "      <td>1.5</td>\n",
       "      <td>0.022615</td>\n",
       "      <td>0.921</td>\n",
       "      <td>0.024835</td>\n",
       "      <td>0.920</td>\n",
       "    </tr>\n",
       "    <tr>\n",
       "      <th>1</th>\n",
       "      <td>TreeLSTM_h128_fc64</td>\n",
       "      <td>5</td>\n",
       "      <td>0.0005</td>\n",
       "      <td>32</td>\n",
       "      <td>128</td>\n",
       "      <td>64</td>\n",
       "      <td>0.3</td>\n",
       "      <td>0.7</td>\n",
       "      <td>3</td>\n",
       "      <td>1.5</td>\n",
       "      <td>0.023098</td>\n",
       "      <td>0.929</td>\n",
       "      <td>0.025563</td>\n",
       "      <td>0.920</td>\n",
       "    </tr>\n",
       "    <tr>\n",
       "      <th>2</th>\n",
       "      <td>TreeLSTM_h128_fc16</td>\n",
       "      <td>5</td>\n",
       "      <td>0.0005</td>\n",
       "      <td>32</td>\n",
       "      <td>128</td>\n",
       "      <td>16</td>\n",
       "      <td>0.3</td>\n",
       "      <td>0.7</td>\n",
       "      <td>3</td>\n",
       "      <td>1.5</td>\n",
       "      <td>0.023888</td>\n",
       "      <td>0.928</td>\n",
       "      <td>0.026621</td>\n",
       "      <td>0.920</td>\n",
       "    </tr>\n",
       "    <tr>\n",
       "      <th>3</th>\n",
       "      <td>TreeLSTM_h64_fc64</td>\n",
       "      <td>5</td>\n",
       "      <td>0.0005</td>\n",
       "      <td>32</td>\n",
       "      <td>64</td>\n",
       "      <td>64</td>\n",
       "      <td>0.3</td>\n",
       "      <td>0.7</td>\n",
       "      <td>3</td>\n",
       "      <td>1.5</td>\n",
       "      <td>0.025826</td>\n",
       "      <td>0.915</td>\n",
       "      <td>0.024889</td>\n",
       "      <td>0.915</td>\n",
       "    </tr>\n",
       "    <tr>\n",
       "      <th>4</th>\n",
       "      <td>TreeLSTM_h32_fc64</td>\n",
       "      <td>5</td>\n",
       "      <td>0.0005</td>\n",
       "      <td>32</td>\n",
       "      <td>32</td>\n",
       "      <td>64</td>\n",
       "      <td>0.3</td>\n",
       "      <td>0.7</td>\n",
       "      <td>3</td>\n",
       "      <td>1.5</td>\n",
       "      <td>0.037759</td>\n",
       "      <td>0.789</td>\n",
       "      <td>0.033304</td>\n",
       "      <td>0.895</td>\n",
       "    </tr>\n",
       "    <tr>\n",
       "      <th>5</th>\n",
       "      <td>TreeLSTM_h64_fc16</td>\n",
       "      <td>5</td>\n",
       "      <td>0.0005</td>\n",
       "      <td>32</td>\n",
       "      <td>64</td>\n",
       "      <td>16</td>\n",
       "      <td>0.3</td>\n",
       "      <td>0.7</td>\n",
       "      <td>3</td>\n",
       "      <td>1.5</td>\n",
       "      <td>0.037697</td>\n",
       "      <td>0.744</td>\n",
       "      <td>0.033604</td>\n",
       "      <td>0.840</td>\n",
       "    </tr>\n",
       "    <tr>\n",
       "      <th>6</th>\n",
       "      <td>TreeLSTM_h64_fc32</td>\n",
       "      <td>5</td>\n",
       "      <td>0.0005</td>\n",
       "      <td>32</td>\n",
       "      <td>64</td>\n",
       "      <td>32</td>\n",
       "      <td>0.3</td>\n",
       "      <td>0.7</td>\n",
       "      <td>3</td>\n",
       "      <td>1.5</td>\n",
       "      <td>0.036740</td>\n",
       "      <td>0.740</td>\n",
       "      <td>0.032706</td>\n",
       "      <td>0.760</td>\n",
       "    </tr>\n",
       "    <tr>\n",
       "      <th>7</th>\n",
       "      <td>TreeLSTM_h32_fc16</td>\n",
       "      <td>5</td>\n",
       "      <td>0.0005</td>\n",
       "      <td>32</td>\n",
       "      <td>32</td>\n",
       "      <td>16</td>\n",
       "      <td>0.3</td>\n",
       "      <td>0.7</td>\n",
       "      <td>3</td>\n",
       "      <td>1.5</td>\n",
       "      <td>0.048183</td>\n",
       "      <td>0.740</td>\n",
       "      <td>0.044698</td>\n",
       "      <td>0.740</td>\n",
       "    </tr>\n",
       "    <tr>\n",
       "      <th>8</th>\n",
       "      <td>TreeLSTM_h32_fc32</td>\n",
       "      <td>5</td>\n",
       "      <td>0.0005</td>\n",
       "      <td>32</td>\n",
       "      <td>32</td>\n",
       "      <td>32</td>\n",
       "      <td>0.3</td>\n",
       "      <td>0.7</td>\n",
       "      <td>3</td>\n",
       "      <td>1.5</td>\n",
       "      <td>0.048044</td>\n",
       "      <td>0.740</td>\n",
       "      <td>0.045320</td>\n",
       "      <td>0.740</td>\n",
       "    </tr>\n",
       "  </tbody>\n",
       "</table>\n",
       "</div>"
      ],
      "text/plain": [
       "                 Name  num_epochs  learning_rate  embedding_dim  hidden_size  \\\n",
       "0  TreeLSTM_h128_fc32           5         0.0005             32          128   \n",
       "1  TreeLSTM_h128_fc64           5         0.0005             32          128   \n",
       "2  TreeLSTM_h128_fc16           5         0.0005             32          128   \n",
       "3   TreeLSTM_h64_fc64           5         0.0005             32           64   \n",
       "4   TreeLSTM_h32_fc64           5         0.0005             32           32   \n",
       "5   TreeLSTM_h64_fc16           5         0.0005             32           64   \n",
       "6   TreeLSTM_h64_fc32           5         0.0005             32           64   \n",
       "7   TreeLSTM_h32_fc16           5         0.0005             32           32   \n",
       "8   TreeLSTM_h32_fc32           5         0.0005             32           32   \n",
       "\n",
       "   fc_size  alpha_pos  alpha_neg  gamma_pos  gamma_neg  train_loss  train_acc  \\\n",
       "0       32        0.3        0.7          3        1.5    0.022615      0.921   \n",
       "1       64        0.3        0.7          3        1.5    0.023098      0.929   \n",
       "2       16        0.3        0.7          3        1.5    0.023888      0.928   \n",
       "3       64        0.3        0.7          3        1.5    0.025826      0.915   \n",
       "4       64        0.3        0.7          3        1.5    0.037759      0.789   \n",
       "5       16        0.3        0.7          3        1.5    0.037697      0.744   \n",
       "6       32        0.3        0.7          3        1.5    0.036740      0.740   \n",
       "7       16        0.3        0.7          3        1.5    0.048183      0.740   \n",
       "8       32        0.3        0.7          3        1.5    0.048044      0.740   \n",
       "\n",
       "   test_loss  test_acc  \n",
       "0   0.024835     0.920  \n",
       "1   0.025563     0.920  \n",
       "2   0.026621     0.920  \n",
       "3   0.024889     0.915  \n",
       "4   0.033304     0.895  \n",
       "5   0.033604     0.840  \n",
       "6   0.032706     0.760  \n",
       "7   0.044698     0.740  \n",
       "8   0.045320     0.740  "
      ]
     },
     "execution_count": 42,
     "metadata": {},
     "output_type": "execute_result"
    }
   ],
   "source": [
    "# First Sweep results\n",
    "sweep_1_dataset = pd.read_csv(\"datasets/wandb_Sweep_1_TreeLSTM_hidden_states_fc_size.csv\")\n",
    "\n",
    "sweep_1_dataset"
   ]
  },
  {
   "cell_type": "code",
   "execution_count": 43,
   "id": "cd4b48aa-b320-4302-a77f-c3d1cefdfd57",
   "metadata": {
    "execution": {
     "iopub.execute_input": "2025-06-02T22:08:51.040332Z",
     "iopub.status.busy": "2025-06-02T22:08:51.039440Z",
     "iopub.status.idle": "2025-06-02T22:08:51.057910Z",
     "shell.execute_reply": "2025-06-02T22:08:51.056658Z",
     "shell.execute_reply.started": "2025-06-02T22:08:51.040294Z"
    }
   },
   "outputs": [
    {
     "data": {
      "text/html": [
       "<div>\n",
       "<style scoped>\n",
       "    .dataframe tbody tr th:only-of-type {\n",
       "        vertical-align: middle;\n",
       "    }\n",
       "\n",
       "    .dataframe tbody tr th {\n",
       "        vertical-align: top;\n",
       "    }\n",
       "\n",
       "    .dataframe thead th {\n",
       "        text-align: right;\n",
       "    }\n",
       "</style>\n",
       "<table border=\"1\" class=\"dataframe\">\n",
       "  <thead>\n",
       "    <tr style=\"text-align: right;\">\n",
       "      <th></th>\n",
       "      <th>hidden_size</th>\n",
       "      <th>fc_size</th>\n",
       "      <th>test_acc</th>\n",
       "      <th>train_acc</th>\n",
       "      <th>train_loss</th>\n",
       "      <th>test_loss</th>\n",
       "    </tr>\n",
       "  </thead>\n",
       "  <tbody>\n",
       "    <tr>\n",
       "      <th>0</th>\n",
       "      <td>128</td>\n",
       "      <td>32</td>\n",
       "      <td>0.92</td>\n",
       "      <td>0.921</td>\n",
       "      <td>0.022615</td>\n",
       "      <td>0.024835</td>\n",
       "    </tr>\n",
       "  </tbody>\n",
       "</table>\n",
       "</div>"
      ],
      "text/plain": [
       "   hidden_size  fc_size  test_acc  train_acc  train_loss  test_loss\n",
       "0          128       32      0.92      0.921    0.022615   0.024835"
      ]
     },
     "execution_count": 43,
     "metadata": {},
     "output_type": "execute_result"
    }
   ],
   "source": [
    "# Best Configurations\n",
    "best_sweep_1_dataset = sweep_1_dataset.sort_values(\"test_acc\", ascending=False)\n",
    "best_sweep_1_dataset[[\"hidden_size\", \"fc_size\", \"test_acc\", \"train_acc\", \"train_loss\", \"test_loss\"]].head(1)"
   ]
  },
  {
   "cell_type": "code",
   "execution_count": 44,
   "id": "de96dd24-605f-455b-ba44-1a0d2df7862b",
   "metadata": {
    "execution": {
     "iopub.execute_input": "2025-06-02T22:08:59.777119Z",
     "iopub.status.busy": "2025-06-02T22:08:59.775324Z",
     "iopub.status.idle": "2025-06-02T22:08:59.783906Z",
     "shell.execute_reply": "2025-06-02T22:08:59.782671Z",
     "shell.execute_reply.started": "2025-06-02T22:08:59.777076Z"
    }
   },
   "outputs": [
    {
     "name": "stdout",
     "output_type": "stream",
     "text": [
      "Best conf. hidden states: 128\n",
      "Best conf. fully conn. layers: 32\n"
     ]
    }
   ],
   "source": [
    "best_config_sweep_1 = best_sweep_1_dataset.iloc[0]  # first row, best run\n",
    "best_hidden_sweep_1 = best_config_sweep_1[\"hidden_size\"]\n",
    "best_fc_sweep_1 = best_config_sweep_1[\"fc_size\"]\n",
    "\n",
    "print(f\"Best conf. hidden states: {best_hidden_sweep_1}\"\n",
    "      f\"\\nBest conf. fully conn. layers: {best_fc_sweep_1}\")"
   ]
  },
  {
   "cell_type": "markdown",
   "id": "c435f6a6-d4a1-49e4-9cc1-f1a8b9cd855a",
   "metadata": {},
   "source": [
    "##### **2.5.2 Sweep config — Step 2: `alpha_pos, alpha_neg, gamma_pos, gamma_neg`**"
   ]
  },
  {
   "cell_type": "code",
   "execution_count": 45,
   "id": "a5bc3f1b-aa5a-4e28-893a-22cb49cecbb9",
   "metadata": {
    "execution": {
     "iopub.execute_input": "2025-06-02T22:09:53.616597Z",
     "iopub.status.busy": "2025-06-02T22:09:53.615745Z",
     "iopub.status.idle": "2025-06-02T22:09:53.646233Z",
     "shell.execute_reply": "2025-06-02T22:09:53.644930Z",
     "shell.execute_reply.started": "2025-06-02T22:09:53.616558Z"
    }
   },
   "outputs": [
    {
     "data": {
      "text/html": [
       "<div>\n",
       "<style scoped>\n",
       "    .dataframe tbody tr th:only-of-type {\n",
       "        vertical-align: middle;\n",
       "    }\n",
       "\n",
       "    .dataframe tbody tr th {\n",
       "        vertical-align: top;\n",
       "    }\n",
       "\n",
       "    .dataframe thead th {\n",
       "        text-align: right;\n",
       "    }\n",
       "</style>\n",
       "<table border=\"1\" class=\"dataframe\">\n",
       "  <thead>\n",
       "    <tr style=\"text-align: right;\">\n",
       "      <th></th>\n",
       "      <th>Name</th>\n",
       "      <th>num_epochs</th>\n",
       "      <th>learning_rate</th>\n",
       "      <th>alpha_pos</th>\n",
       "      <th>alpha_neg</th>\n",
       "      <th>gamma_pos</th>\n",
       "      <th>gamma_neg</th>\n",
       "      <th>train_loss</th>\n",
       "      <th>train_acc</th>\n",
       "      <th>test_loss</th>\n",
       "      <th>test_acc</th>\n",
       "    </tr>\n",
       "  </thead>\n",
       "  <tbody>\n",
       "    <tr>\n",
       "      <th>0</th>\n",
       "      <td>TreeLSTM_focal_a0.3_0.65_g3.5_1.5</td>\n",
       "      <td>5</td>\n",
       "      <td>0.0005</td>\n",
       "      <td>0.30</td>\n",
       "      <td>0.65</td>\n",
       "      <td>3.5</td>\n",
       "      <td>1.5</td>\n",
       "      <td>0.019334</td>\n",
       "      <td>0.929</td>\n",
       "      <td>0.023019</td>\n",
       "      <td>0.930</td>\n",
       "    </tr>\n",
       "    <tr>\n",
       "      <th>1</th>\n",
       "      <td>TreeLSTM_focal_a0.25_0.7_g3.5_1.5</td>\n",
       "      <td>5</td>\n",
       "      <td>0.0005</td>\n",
       "      <td>0.25</td>\n",
       "      <td>0.70</td>\n",
       "      <td>3.5</td>\n",
       "      <td>1.5</td>\n",
       "      <td>0.016096</td>\n",
       "      <td>0.926</td>\n",
       "      <td>0.024326</td>\n",
       "      <td>0.930</td>\n",
       "    </tr>\n",
       "    <tr>\n",
       "      <th>2</th>\n",
       "      <td>TreeLSTM_focal_a0.3_0.75_g3_1.5</td>\n",
       "      <td>5</td>\n",
       "      <td>0.0005</td>\n",
       "      <td>0.30</td>\n",
       "      <td>0.75</td>\n",
       "      <td>3.0</td>\n",
       "      <td>1.5</td>\n",
       "      <td>0.023015</td>\n",
       "      <td>0.929</td>\n",
       "      <td>0.028469</td>\n",
       "      <td>0.930</td>\n",
       "    </tr>\n",
       "    <tr>\n",
       "      <th>3</th>\n",
       "      <td>TreeLSTM_focal_a0.35_0.75_g2.5_2</td>\n",
       "      <td>5</td>\n",
       "      <td>0.0005</td>\n",
       "      <td>0.35</td>\n",
       "      <td>0.75</td>\n",
       "      <td>2.5</td>\n",
       "      <td>2.0</td>\n",
       "      <td>0.021097</td>\n",
       "      <td>0.933</td>\n",
       "      <td>0.026789</td>\n",
       "      <td>0.930</td>\n",
       "    </tr>\n",
       "    <tr>\n",
       "      <th>4</th>\n",
       "      <td>TreeLSTM_focal_a0.25_0.7_g3_2.5</td>\n",
       "      <td>5</td>\n",
       "      <td>0.0005</td>\n",
       "      <td>0.25</td>\n",
       "      <td>0.70</td>\n",
       "      <td>3.0</td>\n",
       "      <td>2.5</td>\n",
       "      <td>0.011988</td>\n",
       "      <td>0.930</td>\n",
       "      <td>0.015430</td>\n",
       "      <td>0.930</td>\n",
       "    </tr>\n",
       "    <tr>\n",
       "      <th>...</th>\n",
       "      <td>...</td>\n",
       "      <td>...</td>\n",
       "      <td>...</td>\n",
       "      <td>...</td>\n",
       "      <td>...</td>\n",
       "      <td>...</td>\n",
       "      <td>...</td>\n",
       "      <td>...</td>\n",
       "      <td>...</td>\n",
       "      <td>...</td>\n",
       "      <td>...</td>\n",
       "    </tr>\n",
       "    <tr>\n",
       "      <th>76</th>\n",
       "      <td>TreeLSTM_focal_a0.25_0.75_g3_1.5</td>\n",
       "      <td>5</td>\n",
       "      <td>0.0005</td>\n",
       "      <td>0.25</td>\n",
       "      <td>0.75</td>\n",
       "      <td>3.0</td>\n",
       "      <td>1.5</td>\n",
       "      <td>0.020407</td>\n",
       "      <td>0.919</td>\n",
       "      <td>0.023359</td>\n",
       "      <td>0.910</td>\n",
       "    </tr>\n",
       "    <tr>\n",
       "      <th>77</th>\n",
       "      <td>TreeLSTM_focal_a0.35_0.75_g3_1.5</td>\n",
       "      <td>5</td>\n",
       "      <td>0.0005</td>\n",
       "      <td>0.35</td>\n",
       "      <td>0.75</td>\n",
       "      <td>3.0</td>\n",
       "      <td>1.5</td>\n",
       "      <td>0.025075</td>\n",
       "      <td>0.930</td>\n",
       "      <td>0.032540</td>\n",
       "      <td>0.910</td>\n",
       "    </tr>\n",
       "    <tr>\n",
       "      <th>78</th>\n",
       "      <td>TreeLSTM_focal_a0.3_0.7_g3_2.5</td>\n",
       "      <td>5</td>\n",
       "      <td>0.0005</td>\n",
       "      <td>0.30</td>\n",
       "      <td>0.70</td>\n",
       "      <td>3.0</td>\n",
       "      <td>2.5</td>\n",
       "      <td>0.013609</td>\n",
       "      <td>0.933</td>\n",
       "      <td>0.021701</td>\n",
       "      <td>0.905</td>\n",
       "    </tr>\n",
       "    <tr>\n",
       "      <th>79</th>\n",
       "      <td>TreeLSTM_focal_a0.3_0.65_g3_1.5</td>\n",
       "      <td>5</td>\n",
       "      <td>0.0005</td>\n",
       "      <td>0.30</td>\n",
       "      <td>0.65</td>\n",
       "      <td>3.0</td>\n",
       "      <td>1.5</td>\n",
       "      <td>0.024682</td>\n",
       "      <td>0.916</td>\n",
       "      <td>0.028239</td>\n",
       "      <td>0.900</td>\n",
       "    </tr>\n",
       "    <tr>\n",
       "      <th>80</th>\n",
       "      <td>TreeLSTM_focal_a0.25_0.65_g3.5_2</td>\n",
       "      <td>5</td>\n",
       "      <td>0.0005</td>\n",
       "      <td>0.25</td>\n",
       "      <td>0.65</td>\n",
       "      <td>3.5</td>\n",
       "      <td>2.0</td>\n",
       "      <td>0.013155</td>\n",
       "      <td>0.931</td>\n",
       "      <td>0.020314</td>\n",
       "      <td>0.895</td>\n",
       "    </tr>\n",
       "  </tbody>\n",
       "</table>\n",
       "<p>81 rows × 11 columns</p>\n",
       "</div>"
      ],
      "text/plain": [
       "                                 Name  num_epochs  learning_rate  alpha_pos  \\\n",
       "0   TreeLSTM_focal_a0.3_0.65_g3.5_1.5           5         0.0005       0.30   \n",
       "1   TreeLSTM_focal_a0.25_0.7_g3.5_1.5           5         0.0005       0.25   \n",
       "2     TreeLSTM_focal_a0.3_0.75_g3_1.5           5         0.0005       0.30   \n",
       "3    TreeLSTM_focal_a0.35_0.75_g2.5_2           5         0.0005       0.35   \n",
       "4     TreeLSTM_focal_a0.25_0.7_g3_2.5           5         0.0005       0.25   \n",
       "..                                ...         ...            ...        ...   \n",
       "76   TreeLSTM_focal_a0.25_0.75_g3_1.5           5         0.0005       0.25   \n",
       "77   TreeLSTM_focal_a0.35_0.75_g3_1.5           5         0.0005       0.35   \n",
       "78     TreeLSTM_focal_a0.3_0.7_g3_2.5           5         0.0005       0.30   \n",
       "79    TreeLSTM_focal_a0.3_0.65_g3_1.5           5         0.0005       0.30   \n",
       "80   TreeLSTM_focal_a0.25_0.65_g3.5_2           5         0.0005       0.25   \n",
       "\n",
       "    alpha_neg  gamma_pos  gamma_neg  train_loss  train_acc  test_loss  \\\n",
       "0        0.65        3.5        1.5    0.019334      0.929   0.023019   \n",
       "1        0.70        3.5        1.5    0.016096      0.926   0.024326   \n",
       "2        0.75        3.0        1.5    0.023015      0.929   0.028469   \n",
       "3        0.75        2.5        2.0    0.021097      0.933   0.026789   \n",
       "4        0.70        3.0        2.5    0.011988      0.930   0.015430   \n",
       "..        ...        ...        ...         ...        ...        ...   \n",
       "76       0.75        3.0        1.5    0.020407      0.919   0.023359   \n",
       "77       0.75        3.0        1.5    0.025075      0.930   0.032540   \n",
       "78       0.70        3.0        2.5    0.013609      0.933   0.021701   \n",
       "79       0.65        3.0        1.5    0.024682      0.916   0.028239   \n",
       "80       0.65        3.5        2.0    0.013155      0.931   0.020314   \n",
       "\n",
       "    test_acc  \n",
       "0      0.930  \n",
       "1      0.930  \n",
       "2      0.930  \n",
       "3      0.930  \n",
       "4      0.930  \n",
       "..       ...  \n",
       "76     0.910  \n",
       "77     0.910  \n",
       "78     0.905  \n",
       "79     0.900  \n",
       "80     0.895  \n",
       "\n",
       "[81 rows x 11 columns]"
      ]
     },
     "execution_count": 45,
     "metadata": {},
     "output_type": "execute_result"
    }
   ],
   "source": [
    "# Second Sweep results\n",
    "sweep_2_dataset = pd.read_csv(\"datasets/wandb_Sweep_2_TreeLSTM_alpha_gamma.csv\")\n",
    "\n",
    "sweep_2_dataset"
   ]
  },
  {
   "cell_type": "code",
   "execution_count": 46,
   "id": "b3819990-0fd2-4728-8888-63ab1a0754b8",
   "metadata": {
    "execution": {
     "iopub.execute_input": "2025-06-02T22:10:05.862822Z",
     "iopub.status.busy": "2025-06-02T22:10:05.862256Z",
     "iopub.status.idle": "2025-06-02T22:10:05.883781Z",
     "shell.execute_reply": "2025-06-02T22:10:05.882663Z",
     "shell.execute_reply.started": "2025-06-02T22:10:05.862787Z"
    }
   },
   "outputs": [
    {
     "data": {
      "text/html": [
       "<div>\n",
       "<style scoped>\n",
       "    .dataframe tbody tr th:only-of-type {\n",
       "        vertical-align: middle;\n",
       "    }\n",
       "\n",
       "    .dataframe tbody tr th {\n",
       "        vertical-align: top;\n",
       "    }\n",
       "\n",
       "    .dataframe thead th {\n",
       "        text-align: right;\n",
       "    }\n",
       "</style>\n",
       "<table border=\"1\" class=\"dataframe\">\n",
       "  <thead>\n",
       "    <tr style=\"text-align: right;\">\n",
       "      <th></th>\n",
       "      <th>alpha_pos</th>\n",
       "      <th>alpha_neg</th>\n",
       "      <th>gamma_pos</th>\n",
       "      <th>gamma_neg</th>\n",
       "      <th>train_loss</th>\n",
       "      <th>train_acc</th>\n",
       "      <th>test_loss</th>\n",
       "      <th>test_acc</th>\n",
       "    </tr>\n",
       "  </thead>\n",
       "  <tbody>\n",
       "    <tr>\n",
       "      <th>4</th>\n",
       "      <td>0.25</td>\n",
       "      <td>0.70</td>\n",
       "      <td>3.0</td>\n",
       "      <td>2.5</td>\n",
       "      <td>0.011988</td>\n",
       "      <td>0.930</td>\n",
       "      <td>0.015430</td>\n",
       "      <td>0.93</td>\n",
       "    </tr>\n",
       "    <tr>\n",
       "      <th>5</th>\n",
       "      <td>0.35</td>\n",
       "      <td>0.65</td>\n",
       "      <td>3.0</td>\n",
       "      <td>2.5</td>\n",
       "      <td>0.014446</td>\n",
       "      <td>0.938</td>\n",
       "      <td>0.016611</td>\n",
       "      <td>0.93</td>\n",
       "    </tr>\n",
       "    <tr>\n",
       "      <th>0</th>\n",
       "      <td>0.30</td>\n",
       "      <td>0.65</td>\n",
       "      <td>3.5</td>\n",
       "      <td>1.5</td>\n",
       "      <td>0.019334</td>\n",
       "      <td>0.929</td>\n",
       "      <td>0.023019</td>\n",
       "      <td>0.93</td>\n",
       "    </tr>\n",
       "  </tbody>\n",
       "</table>\n",
       "</div>"
      ],
      "text/plain": [
       "   alpha_pos  alpha_neg  gamma_pos  gamma_neg  train_loss  train_acc  \\\n",
       "4       0.25       0.70        3.0        2.5    0.011988      0.930   \n",
       "5       0.35       0.65        3.0        2.5    0.014446      0.938   \n",
       "0       0.30       0.65        3.5        1.5    0.019334      0.929   \n",
       "\n",
       "   test_loss  test_acc  \n",
       "4   0.015430      0.93  \n",
       "5   0.016611      0.93  \n",
       "0   0.023019      0.93  "
      ]
     },
     "execution_count": 46,
     "metadata": {},
     "output_type": "execute_result"
    }
   ],
   "source": [
    "# Ordering by test_acc in decreasing order and, if test_acc is the same, for test_loss in increasing order\n",
    "best_sweep_2_dataset = sweep_2_dataset.sort_values(by=[\"test_acc\", \"test_loss\"], ascending=[False, True])\n",
    "best_sweep_2_dataset[[\"alpha_pos\", \"alpha_neg\", \"gamma_pos\", \"gamma_neg\", \"train_loss\", \"train_acc\", \"test_loss\", \"test_acc\"]].head(3)"
   ]
  },
  {
   "cell_type": "code",
   "execution_count": 47,
   "id": "7a9df2f8-8931-47c6-bc32-6900ea1185d4",
   "metadata": {
    "execution": {
     "iopub.execute_input": "2025-06-02T22:10:15.403453Z",
     "iopub.status.busy": "2025-06-02T22:10:15.402325Z",
     "iopub.status.idle": "2025-06-02T22:10:15.410709Z",
     "shell.execute_reply": "2025-06-02T22:10:15.409581Z",
     "shell.execute_reply.started": "2025-06-02T22:10:15.403414Z"
    }
   },
   "outputs": [
    {
     "name": "stdout",
     "output_type": "stream",
     "text": [
      "Best conf. alpha pos: 0.25\n",
      "Best conf. alpha neg: 0.7\n",
      "\n",
      "Best conf. gamma pos: 3.0\n",
      "Best conf. gamma neg: 2.5\n"
     ]
    }
   ],
   "source": [
    "best_config_sweep_2 = best_sweep_2_dataset.iloc[0]  # first row, best run\n",
    "\n",
    "best_alpha_pos_sweep_2 = best_config_sweep_2[\"alpha_pos\"]\n",
    "best_alpha_neg_sweep_2 = best_config_sweep_2[\"alpha_neg\"]\n",
    "\n",
    "best_gamma_pos_sweep_2 = best_config_sweep_2[\"gamma_pos\"]\n",
    "best_gamma_neg_sweep_2 = best_config_sweep_2[\"gamma_neg\"]\n",
    "\n",
    "\n",
    "print(f\"Best conf. alpha pos: {best_alpha_pos_sweep_2}\"\n",
    "      f\"\\nBest conf. alpha neg: {best_alpha_neg_sweep_2}\"\n",
    "      f\"\\n\\nBest conf. gamma pos: {best_gamma_pos_sweep_2}\"\n",
    "      f\"\\nBest conf. gamma neg: {best_gamma_neg_sweep_2}\")"
   ]
  },
  {
   "cell_type": "markdown",
   "id": "d088a31b-8b20-44f2-a89d-c6c5c790cdf9",
   "metadata": {},
   "source": [
    "##### **2.5.3 Sweep config — Step 3: `learning_rate`**"
   ]
  },
  {
   "cell_type": "code",
   "execution_count": 48,
   "id": "0eb61b19-4eaa-4ac6-97fd-7ff2bad639ba",
   "metadata": {
    "execution": {
     "iopub.execute_input": "2025-06-02T22:10:55.186333Z",
     "iopub.status.busy": "2025-06-02T22:10:55.185112Z",
     "iopub.status.idle": "2025-06-02T22:10:55.213579Z",
     "shell.execute_reply": "2025-06-02T22:10:55.211985Z",
     "shell.execute_reply.started": "2025-06-02T22:10:55.186289Z"
    }
   },
   "outputs": [
    {
     "data": {
      "text/html": [
       "<div>\n",
       "<style scoped>\n",
       "    .dataframe tbody tr th:only-of-type {\n",
       "        vertical-align: middle;\n",
       "    }\n",
       "\n",
       "    .dataframe tbody tr th {\n",
       "        vertical-align: top;\n",
       "    }\n",
       "\n",
       "    .dataframe thead th {\n",
       "        text-align: right;\n",
       "    }\n",
       "</style>\n",
       "<table border=\"1\" class=\"dataframe\">\n",
       "  <thead>\n",
       "    <tr style=\"text-align: right;\">\n",
       "      <th></th>\n",
       "      <th>Name</th>\n",
       "      <th>num_epochs</th>\n",
       "      <th>learning_rate</th>\n",
       "      <th>embedding_dim</th>\n",
       "      <th>hidden_size</th>\n",
       "      <th>fc_size</th>\n",
       "      <th>alpha_pos</th>\n",
       "      <th>alpha_neg</th>\n",
       "      <th>gamma_pos</th>\n",
       "      <th>gamma_neg</th>\n",
       "      <th>train_loss</th>\n",
       "      <th>train_acc</th>\n",
       "      <th>test_loss</th>\n",
       "      <th>test_acc</th>\n",
       "    </tr>\n",
       "  </thead>\n",
       "  <tbody>\n",
       "    <tr>\n",
       "      <th>0</th>\n",
       "      <td>TreeLSTM_h128_fc32</td>\n",
       "      <td>5</td>\n",
       "      <td>0.0009</td>\n",
       "      <td>32</td>\n",
       "      <td>128</td>\n",
       "      <td>32</td>\n",
       "      <td>0.25</td>\n",
       "      <td>0.7</td>\n",
       "      <td>3</td>\n",
       "      <td>2.5</td>\n",
       "      <td>0.009835</td>\n",
       "      <td>0.943</td>\n",
       "      <td>0.011230</td>\n",
       "      <td>0.930</td>\n",
       "    </tr>\n",
       "    <tr>\n",
       "      <th>1</th>\n",
       "      <td>TreeLSTM_h128_fc32</td>\n",
       "      <td>5</td>\n",
       "      <td>0.0007</td>\n",
       "      <td>32</td>\n",
       "      <td>128</td>\n",
       "      <td>32</td>\n",
       "      <td>0.25</td>\n",
       "      <td>0.7</td>\n",
       "      <td>3</td>\n",
       "      <td>2.5</td>\n",
       "      <td>0.010163</td>\n",
       "      <td>0.941</td>\n",
       "      <td>0.012574</td>\n",
       "      <td>0.930</td>\n",
       "    </tr>\n",
       "    <tr>\n",
       "      <th>2</th>\n",
       "      <td>TreeLSTM_h128_fc32</td>\n",
       "      <td>5</td>\n",
       "      <td>0.0004</td>\n",
       "      <td>32</td>\n",
       "      <td>128</td>\n",
       "      <td>32</td>\n",
       "      <td>0.25</td>\n",
       "      <td>0.7</td>\n",
       "      <td>3</td>\n",
       "      <td>2.5</td>\n",
       "      <td>0.011897</td>\n",
       "      <td>0.933</td>\n",
       "      <td>0.014662</td>\n",
       "      <td>0.925</td>\n",
       "    </tr>\n",
       "    <tr>\n",
       "      <th>3</th>\n",
       "      <td>TreeLSTM_h128_fc32</td>\n",
       "      <td>5</td>\n",
       "      <td>0.0006</td>\n",
       "      <td>32</td>\n",
       "      <td>128</td>\n",
       "      <td>32</td>\n",
       "      <td>0.25</td>\n",
       "      <td>0.7</td>\n",
       "      <td>3</td>\n",
       "      <td>2.5</td>\n",
       "      <td>0.010608</td>\n",
       "      <td>0.937</td>\n",
       "      <td>0.012560</td>\n",
       "      <td>0.925</td>\n",
       "    </tr>\n",
       "    <tr>\n",
       "      <th>4</th>\n",
       "      <td>TreeLSTM_h128_fc32</td>\n",
       "      <td>5</td>\n",
       "      <td>0.0005</td>\n",
       "      <td>32</td>\n",
       "      <td>128</td>\n",
       "      <td>32</td>\n",
       "      <td>0.25</td>\n",
       "      <td>0.7</td>\n",
       "      <td>3</td>\n",
       "      <td>2.5</td>\n",
       "      <td>0.013062</td>\n",
       "      <td>0.930</td>\n",
       "      <td>0.015351</td>\n",
       "      <td>0.920</td>\n",
       "    </tr>\n",
       "    <tr>\n",
       "      <th>5</th>\n",
       "      <td>TreeLSTM_h128_fc32</td>\n",
       "      <td>5</td>\n",
       "      <td>0.0008</td>\n",
       "      <td>32</td>\n",
       "      <td>128</td>\n",
       "      <td>32</td>\n",
       "      <td>0.25</td>\n",
       "      <td>0.7</td>\n",
       "      <td>3</td>\n",
       "      <td>2.5</td>\n",
       "      <td>0.011169</td>\n",
       "      <td>0.934</td>\n",
       "      <td>0.012204</td>\n",
       "      <td>0.920</td>\n",
       "    </tr>\n",
       "    <tr>\n",
       "      <th>6</th>\n",
       "      <td>TreeLSTM_h128_fc32</td>\n",
       "      <td>5</td>\n",
       "      <td>0.0003</td>\n",
       "      <td>32</td>\n",
       "      <td>128</td>\n",
       "      <td>32</td>\n",
       "      <td>0.25</td>\n",
       "      <td>0.7</td>\n",
       "      <td>3</td>\n",
       "      <td>2.5</td>\n",
       "      <td>0.017525</td>\n",
       "      <td>0.908</td>\n",
       "      <td>0.016790</td>\n",
       "      <td>0.915</td>\n",
       "    </tr>\n",
       "    <tr>\n",
       "      <th>7</th>\n",
       "      <td>TreeLSTM_h128_fc32</td>\n",
       "      <td>5</td>\n",
       "      <td>0.0002</td>\n",
       "      <td>32</td>\n",
       "      <td>128</td>\n",
       "      <td>32</td>\n",
       "      <td>0.25</td>\n",
       "      <td>0.7</td>\n",
       "      <td>3</td>\n",
       "      <td>2.5</td>\n",
       "      <td>0.022405</td>\n",
       "      <td>0.740</td>\n",
       "      <td>0.020852</td>\n",
       "      <td>0.785</td>\n",
       "    </tr>\n",
       "    <tr>\n",
       "      <th>8</th>\n",
       "      <td>TreeLSTM_h128_fc32</td>\n",
       "      <td>5</td>\n",
       "      <td>0.0001</td>\n",
       "      <td>32</td>\n",
       "      <td>128</td>\n",
       "      <td>32</td>\n",
       "      <td>0.25</td>\n",
       "      <td>0.7</td>\n",
       "      <td>3</td>\n",
       "      <td>2.5</td>\n",
       "      <td>0.028553</td>\n",
       "      <td>0.740</td>\n",
       "      <td>0.027474</td>\n",
       "      <td>0.740</td>\n",
       "    </tr>\n",
       "  </tbody>\n",
       "</table>\n",
       "</div>"
      ],
      "text/plain": [
       "                 Name  num_epochs  learning_rate  embedding_dim  hidden_size  \\\n",
       "0  TreeLSTM_h128_fc32           5         0.0009             32          128   \n",
       "1  TreeLSTM_h128_fc32           5         0.0007             32          128   \n",
       "2  TreeLSTM_h128_fc32           5         0.0004             32          128   \n",
       "3  TreeLSTM_h128_fc32           5         0.0006             32          128   \n",
       "4  TreeLSTM_h128_fc32           5         0.0005             32          128   \n",
       "5  TreeLSTM_h128_fc32           5         0.0008             32          128   \n",
       "6  TreeLSTM_h128_fc32           5         0.0003             32          128   \n",
       "7  TreeLSTM_h128_fc32           5         0.0002             32          128   \n",
       "8  TreeLSTM_h128_fc32           5         0.0001             32          128   \n",
       "\n",
       "   fc_size  alpha_pos  alpha_neg  gamma_pos  gamma_neg  train_loss  train_acc  \\\n",
       "0       32       0.25        0.7          3        2.5    0.009835      0.943   \n",
       "1       32       0.25        0.7          3        2.5    0.010163      0.941   \n",
       "2       32       0.25        0.7          3        2.5    0.011897      0.933   \n",
       "3       32       0.25        0.7          3        2.5    0.010608      0.937   \n",
       "4       32       0.25        0.7          3        2.5    0.013062      0.930   \n",
       "5       32       0.25        0.7          3        2.5    0.011169      0.934   \n",
       "6       32       0.25        0.7          3        2.5    0.017525      0.908   \n",
       "7       32       0.25        0.7          3        2.5    0.022405      0.740   \n",
       "8       32       0.25        0.7          3        2.5    0.028553      0.740   \n",
       "\n",
       "   test_loss  test_acc  \n",
       "0   0.011230     0.930  \n",
       "1   0.012574     0.930  \n",
       "2   0.014662     0.925  \n",
       "3   0.012560     0.925  \n",
       "4   0.015351     0.920  \n",
       "5   0.012204     0.920  \n",
       "6   0.016790     0.915  \n",
       "7   0.020852     0.785  \n",
       "8   0.027474     0.740  "
      ]
     },
     "execution_count": 48,
     "metadata": {},
     "output_type": "execute_result"
    }
   ],
   "source": [
    "# Third Sweep results\n",
    "sweep_3_dataset = pd.read_csv(\"datasets/wandb_Sweep_3_TreeLSTM_lr.csv\")\n",
    "\n",
    "sweep_3_dataset"
   ]
  },
  {
   "cell_type": "code",
   "execution_count": 49,
   "id": "a09b1fa8-df88-4e1e-89ae-820615533a87",
   "metadata": {
    "execution": {
     "iopub.execute_input": "2025-06-02T22:11:07.109137Z",
     "iopub.status.busy": "2025-06-02T22:11:07.108296Z",
     "iopub.status.idle": "2025-06-02T22:11:07.130751Z",
     "shell.execute_reply": "2025-06-02T22:11:07.129471Z",
     "shell.execute_reply.started": "2025-06-02T22:11:07.109097Z"
    }
   },
   "outputs": [
    {
     "data": {
      "text/html": [
       "<div>\n",
       "<style scoped>\n",
       "    .dataframe tbody tr th:only-of-type {\n",
       "        vertical-align: middle;\n",
       "    }\n",
       "\n",
       "    .dataframe tbody tr th {\n",
       "        vertical-align: top;\n",
       "    }\n",
       "\n",
       "    .dataframe thead th {\n",
       "        text-align: right;\n",
       "    }\n",
       "</style>\n",
       "<table border=\"1\" class=\"dataframe\">\n",
       "  <thead>\n",
       "    <tr style=\"text-align: right;\">\n",
       "      <th></th>\n",
       "      <th>learning_rate</th>\n",
       "      <th>alpha_pos</th>\n",
       "      <th>alpha_neg</th>\n",
       "      <th>gamma_pos</th>\n",
       "      <th>gamma_neg</th>\n",
       "      <th>train_loss</th>\n",
       "      <th>train_acc</th>\n",
       "      <th>test_loss</th>\n",
       "      <th>test_acc</th>\n",
       "    </tr>\n",
       "  </thead>\n",
       "  <tbody>\n",
       "    <tr>\n",
       "      <th>0</th>\n",
       "      <td>0.0009</td>\n",
       "      <td>0.25</td>\n",
       "      <td>0.7</td>\n",
       "      <td>3</td>\n",
       "      <td>2.5</td>\n",
       "      <td>0.009835</td>\n",
       "      <td>0.943</td>\n",
       "      <td>0.011230</td>\n",
       "      <td>0.930</td>\n",
       "    </tr>\n",
       "    <tr>\n",
       "      <th>1</th>\n",
       "      <td>0.0007</td>\n",
       "      <td>0.25</td>\n",
       "      <td>0.7</td>\n",
       "      <td>3</td>\n",
       "      <td>2.5</td>\n",
       "      <td>0.010163</td>\n",
       "      <td>0.941</td>\n",
       "      <td>0.012574</td>\n",
       "      <td>0.930</td>\n",
       "    </tr>\n",
       "    <tr>\n",
       "      <th>3</th>\n",
       "      <td>0.0006</td>\n",
       "      <td>0.25</td>\n",
       "      <td>0.7</td>\n",
       "      <td>3</td>\n",
       "      <td>2.5</td>\n",
       "      <td>0.010608</td>\n",
       "      <td>0.937</td>\n",
       "      <td>0.012560</td>\n",
       "      <td>0.925</td>\n",
       "    </tr>\n",
       "  </tbody>\n",
       "</table>\n",
       "</div>"
      ],
      "text/plain": [
       "   learning_rate  alpha_pos  alpha_neg  gamma_pos  gamma_neg  train_loss  \\\n",
       "0         0.0009       0.25        0.7          3        2.5    0.009835   \n",
       "1         0.0007       0.25        0.7          3        2.5    0.010163   \n",
       "3         0.0006       0.25        0.7          3        2.5    0.010608   \n",
       "\n",
       "   train_acc  test_loss  test_acc  \n",
       "0      0.943   0.011230     0.930  \n",
       "1      0.941   0.012574     0.930  \n",
       "3      0.937   0.012560     0.925  "
      ]
     },
     "execution_count": 49,
     "metadata": {},
     "output_type": "execute_result"
    }
   ],
   "source": [
    "# Ordering by test_acc in decreasing order and, if test_acc is the same, for test_loss in increasing order\n",
    "best_sweep_3_dataset = sweep_3_dataset.sort_values(by=[\"test_acc\", \"test_loss\"], ascending=[False, True])\n",
    "best_sweep_3_dataset[[\"learning_rate\", \"alpha_pos\", \"alpha_neg\", \"gamma_pos\", \"gamma_neg\", \"train_loss\", \"train_acc\", \"test_loss\", \"test_acc\"]].head(3)"
   ]
  },
  {
   "cell_type": "code",
   "execution_count": 50,
   "id": "65832d5d-6431-427f-8092-60c841fb5e48",
   "metadata": {
    "execution": {
     "iopub.execute_input": "2025-06-02T22:11:16.469704Z",
     "iopub.status.busy": "2025-06-02T22:11:16.469239Z",
     "iopub.status.idle": "2025-06-02T22:11:16.479566Z",
     "shell.execute_reply": "2025-06-02T22:11:16.477598Z",
     "shell.execute_reply.started": "2025-06-02T22:11:16.469670Z"
    }
   },
   "outputs": [
    {
     "name": "stdout",
     "output_type": "stream",
     "text": [
      "Final best hyperparameters congigration: \n",
      "\n",
      "- Best conf. learning rate: 0.0009\n",
      "\n",
      "- Best conf. alpha pos: 0.25\n",
      "- Best conf. alpha neg: 0.7\n",
      "\n",
      "- Best conf. gamma pos: 3\n",
      "- Best conf. gamma neg: 2.5\n"
     ]
    }
   ],
   "source": [
    "best_config_sweep_3 = best_sweep_3_dataset.iloc[0]  # first row, best run\n",
    "\n",
    "best_lr_sweep_3 = best_config_sweep_3[\"learning_rate\"]\n",
    "\n",
    "best_alpha_pos_sweep_3 = best_config_sweep_3[\"alpha_pos\"]\n",
    "best_alpha_neg_sweep_3 = best_config_sweep_3[\"alpha_neg\"]\n",
    "\n",
    "best_gamma_pos_sweep_3 = best_config_sweep_3[\"gamma_pos\"]\n",
    "best_gamma_neg_sweep_3 = best_config_sweep_3[\"gamma_neg\"]\n",
    "\n",
    "print(\"Final best hyperparameters congigration: \\n\")\n",
    "print(f\"- Best conf. learning rate: {best_lr_sweep_3}\"\n",
    "      f\"\\n\\n- Best conf. alpha pos: {best_alpha_pos_sweep_3}\"\n",
    "      f\"\\n- Best conf. alpha neg: {best_alpha_neg_sweep_3}\"\n",
    "      f\"\\n\\n- Best conf. gamma pos: {best_gamma_pos_sweep_3}\"\n",
    "      f\"\\n- Best conf. gamma neg: {best_gamma_neg_sweep_3}\")"
   ]
  },
  {
   "cell_type": "markdown",
   "id": "25872f22-0532-4222-b5fa-70d1b5b749b6",
   "metadata": {},
   "source": [
    "---\n",
    "#### **2.6 Tree LSTM Model Training and Testing on the full dataset with best hyperparameters**"
   ]
  },
  {
   "cell_type": "code",
   "execution_count": 26,
   "id": "d91c1319-cd3d-42f5-94c2-be0eaa23d2a5",
   "metadata": {
    "execution": {
     "iopub.execute_input": "2025-06-05T17:37:15.619369Z",
     "iopub.status.busy": "2025-06-05T17:37:15.618849Z",
     "iopub.status.idle": "2025-06-05T17:37:17.780297Z",
     "shell.execute_reply": "2025-06-05T17:37:17.779105Z",
     "shell.execute_reply.started": "2025-06-05T17:37:15.619330Z"
    }
   },
   "outputs": [],
   "source": [
    "# --- Hyperparameters ---\n",
    "TEST_SIZE = 0.2\n",
    "BATCH_SIZE = 16\n",
    "SEED = 42\n",
    "\n",
    "# --- Train/test split ---\n",
    "tree_train_loader, tree_test_loader, tokenizer = prepare_tree_dataloaders(dataset=dataset,\n",
    "                                                                          test_size=TEST_SIZE,\n",
    "                                                                          batch_size=BATCH_SIZE,\n",
    "                                                                          seed=42\n",
    "                                                                          )"
   ]
  },
  {
   "cell_type": "code",
   "execution_count": 27,
   "id": "9d77de68-b2f0-43ee-81f4-65de84d855e5",
   "metadata": {
    "execution": {
     "iopub.execute_input": "2025-06-05T17:37:19.871338Z",
     "iopub.status.busy": "2025-06-05T17:37:19.870475Z",
     "iopub.status.idle": "2025-06-05T17:37:19.877279Z",
     "shell.execute_reply": "2025-06-05T17:37:19.876023Z",
     "shell.execute_reply.started": "2025-06-05T17:37:19.871281Z"
    }
   },
   "outputs": [
    {
     "name": "stdout",
     "output_type": "stream",
     "text": [
      "Length of train dataloader: 650 batches of 16\n",
      "Length of test dataloader: 163 batches of 16\n"
     ]
    }
   ],
   "source": [
    "print(f\"Length of train dataloader: {len(train_dataloader)} batches of {BATCH_SIZE}\")\n",
    "print(f\"Length of test dataloader: {len(test_dataloader)} batches of {BATCH_SIZE}\")"
   ]
  },
  {
   "cell_type": "code",
   "execution_count": 28,
   "id": "d252447b-3c19-430f-9f1d-e0860590b61d",
   "metadata": {
    "execution": {
     "iopub.execute_input": "2025-06-05T17:37:29.140249Z",
     "iopub.status.busy": "2025-06-05T17:37:29.139739Z",
     "iopub.status.idle": "2025-06-05T17:37:29.409260Z",
     "shell.execute_reply": "2025-06-05T17:37:29.407997Z",
     "shell.execute_reply.started": "2025-06-05T17:37:29.140209Z"
    }
   },
   "outputs": [
    {
     "name": "stdout",
     "output_type": "stream",
     "text": [
      "Vocabulary size (including padding token): 108\n",
      "\n",
      "TreeLSTMClassifierV1(\n",
      "  (encoder): TreeLSTMEncoder(\n",
      "    (embedding): Embedding(108, 32, padding_idx=0)\n",
      "    (cell): BinaryTreeLSTMCell(\n",
      "      (W_iou): Linear(in_features=32, out_features=384, bias=True)\n",
      "      (U_iou): Linear(in_features=256, out_features=384, bias=True)\n",
      "      (W_f): Linear(in_features=32, out_features=256, bias=True)\n",
      "      (U_f): Linear(in_features=256, out_features=256, bias=True)\n",
      "    )\n",
      "  )\n",
      "  (fc1): Linear(in_features=128, out_features=32, bias=True)\n",
      "  (relu): ReLU()\n",
      "  (fc2): Linear(in_features=32, out_features=1, bias=True)\n",
      ")\n"
     ]
    }
   ],
   "source": [
    "# --- Best WandB Hyperparameters ---\n",
    "VOCAB_SIZE = compute_vocab_size(tokenizer)\n",
    "print(f\"Vocabulary size (including padding token): {VOCAB_SIZE}\")\n",
    "\n",
    "EMBEDDING_DIM = 32\n",
    "HIDDEN_SIZE = 128\n",
    "FC_SIZE = 32\n",
    "LR = 0.0009\n",
    "\n",
    "ALPHA_POS = 0.25\n",
    "ALPHA_NEG = 0.7\n",
    "GAMMA_POS = 3\n",
    "GAMMA_NEG = 2.5\n",
    "\n",
    "\n",
    "tree_model = TreeLSTMClassifierV1(vocab_size=VOCAB_SIZE,\n",
    "                                  embedding_dim=EMBEDDING_DIM,\n",
    "                                  hidden_size=HIDDEN_SIZE,\n",
    "                                  fc_size=FC_SIZE).to(device)\n",
    "\n",
    "print(f\"\\n{tree_model}\")\n",
    "\n",
    "\n",
    "# --- Loss and Optimizer ---\n",
    "loss_fn = AsymmetricFocalLoss(alpha_pos=ALPHA_POS, \n",
    "                              alpha_neg=ALPHA_NEG,\n",
    "                              gamma_pos=GAMMA_POS,\n",
    "                              gamma_neg=GAMMA_NEG\n",
    "                             )\n",
    "\n",
    "optimizer = torch.optim.Adam(tree_model.parameters(), lr=LR)"
   ]
  },
  {
   "cell_type": "code",
   "execution_count": 29,
   "id": "fcdff413-8791-44eb-97ca-4efb6f2d0ea3",
   "metadata": {
    "execution": {
     "iopub.execute_input": "2025-06-05T17:37:34.985377Z",
     "iopub.status.busy": "2025-06-05T17:37:34.984936Z",
     "iopub.status.idle": "2025-06-05T17:37:34.992270Z",
     "shell.execute_reply": "2025-06-05T17:37:34.990903Z",
     "shell.execute_reply.started": "2025-06-05T17:37:34.985342Z"
    }
   },
   "outputs": [
    {
     "name": "stdout",
     "output_type": "stream",
     "text": [
      "Trainable parameters: 193,217\n"
     ]
    }
   ],
   "source": [
    "print(f\"Trainable parameters: {count_parameters(tree_model):,}\")"
   ]
  },
  {
   "cell_type": "code",
   "execution_count": 32,
   "id": "6e28bdf4-1680-4b1c-83b4-205c4db07790",
   "metadata": {
    "execution": {
     "iopub.execute_input": "2025-06-04T22:53:15.229652Z",
     "iopub.status.busy": "2025-06-04T22:53:15.227902Z",
     "iopub.status.idle": "2025-06-05T01:59:28.793598Z",
     "shell.execute_reply": "2025-06-05T01:59:28.792372Z",
     "shell.execute_reply.started": "2025-06-04T22:53:15.229602Z"
    }
   },
   "outputs": [
    {
     "data": {
      "application/vnd.jupyter.widget-view+json": {
       "model_id": "362210999a1b4ab8a794fbe92375cfba",
       "version_major": 2,
       "version_minor": 0
      },
      "text/plain": [
       "Training Epochs:   0%|          | 0/20 [00:00<?, ?it/s]"
      ]
     },
     "metadata": {},
     "output_type": "display_data"
    },
    {
     "name": "stdout",
     "output_type": "stream",
     "text": [
      "Epoch 1 |train_loss: 0.0118 |train_acc=0.9240 |test_loss=0.0072 |test_acc=0.9638\n",
      "Epoch 2 |train_loss: 0.0063 |train_acc=0.9593 |test_loss=0.0082 |test_acc=0.9685\n",
      "Epoch 3 |train_loss: 0.0053 |train_acc=0.9677 |test_loss=0.0048 |test_acc=0.9704\n",
      "Epoch 4 |train_loss: 0.0043 |train_acc=0.9701 |test_loss=0.0049 |test_acc=0.9785\n",
      "Epoch 5 |train_loss: 0.0030 |train_acc=0.9784 |test_loss=0.0029 |test_acc=0.9800\n",
      "Epoch 6 |train_loss: 0.0022 |train_acc=0.9843 |test_loss=0.0039 |test_acc=0.9846\n",
      "Epoch 7 |train_loss: 0.0016 |train_acc=0.9887 |test_loss=0.0022 |test_acc=0.9823\n",
      "Epoch 8 |train_loss: 0.0011 |train_acc=0.9928 |test_loss=0.0019 |test_acc=0.9908\n",
      "Epoch 9 |train_loss: 0.0010 |train_acc=0.9931 |test_loss=0.0021 |test_acc=0.9919\n",
      "Epoch 10 |train_loss: 0.0008 |train_acc=0.9958 |test_loss=0.0020 |test_acc=0.9908\n",
      "Epoch 11 |train_loss: 0.0006 |train_acc=0.9957 |test_loss=0.0028 |test_acc=0.9885\n",
      "Epoch 12 |train_loss: 0.0004 |train_acc=0.9971 |test_loss=0.0024 |test_acc=0.9904\n",
      "Epoch 13 |train_loss: 0.0007 |train_acc=0.9963 |test_loss=0.0044 |test_acc=0.9877\n",
      "Epoch 14 |train_loss: 0.0003 |train_acc=0.9978 |test_loss=0.0040 |test_acc=0.9888\n",
      "Epoch 15 |train_loss: 0.0002 |train_acc=0.9990 |test_loss=0.0066 |test_acc=0.9869\n",
      "Epoch 16 |train_loss: 0.0003 |train_acc=0.9980 |test_loss=0.0102 |test_acc=0.9827\n",
      "Epoch 17 |train_loss: 0.0003 |train_acc=0.9982 |test_loss=0.0044 |test_acc=0.9892\n",
      "Epoch 18 |train_loss: 0.0000 |train_acc=0.9998 |test_loss=0.0050 |test_acc=0.9896\n",
      "Epoch 19 |train_loss: 0.0000 |train_acc=0.9999 |test_loss=0.0037 |test_acc=0.9908\n",
      "Epoch 20 |train_loss: 0.0000 |train_acc=1.0000 |test_loss=0.0047 |test_acc=0.9892\n"
     ]
    }
   ],
   "source": [
    "# ===================================================\n",
    "# WARNING : It uses an outdated version of train_tree; if the cell is executed as-is, it will raise an error!\n",
    "# ===================================================\n",
    "\n",
    "set_seeds()\n",
    "tree_lstm_results = train_tree(model=tree_model,\n",
    "                               train_loader=tree_train_loader,\n",
    "                               test_loader=tree_test_loader,\n",
    "                               loss_fn=loss_fn,\n",
    "                               optimizer=optimizer,\n",
    "                               epochs=20,\n",
    "                               device=device\n",
    "                               )"
   ]
  },
  {
   "cell_type": "code",
   "execution_count": 33,
   "id": "0eed21e1-1715-44db-bdda-8203e58b2c36",
   "metadata": {
    "execution": {
     "iopub.execute_input": "2025-06-05T01:59:28.797738Z",
     "iopub.status.busy": "2025-06-05T01:59:28.796650Z",
     "iopub.status.idle": "2025-06-05T01:59:28.807492Z",
     "shell.execute_reply": "2025-06-05T01:59:28.805956Z",
     "shell.execute_reply.started": "2025-06-05T01:59:28.797699Z"
    }
   },
   "outputs": [
    {
     "name": "stdout",
     "output_type": "stream",
     "text": [
      "[INFO] Results saved to: models_results/Tree_lstm_results_on_synthetic_dataset.csv\n"
     ]
    }
   ],
   "source": [
    "save_results(tree_lstm_results, target_dir=\"models_results\", filename=\"Tree_lstm_results_on_synthetic_dataset.csv\")"
   ]
  },
  {
   "cell_type": "code",
   "execution_count": 34,
   "id": "18a15146-8950-48ee-9716-88e21048ec18",
   "metadata": {
    "execution": {
     "iopub.execute_input": "2025-06-05T01:59:28.809659Z",
     "iopub.status.busy": "2025-06-05T01:59:28.809309Z",
     "iopub.status.idle": "2025-06-05T01:59:28.824051Z",
     "shell.execute_reply": "2025-06-05T01:59:28.822569Z",
     "shell.execute_reply.started": "2025-06-05T01:59:28.809626Z"
    }
   },
   "outputs": [
    {
     "name": "stdout",
     "output_type": "stream",
     "text": [
      "[INFO] Saving model to: models/Tree_lstm.pth\n"
     ]
    }
   ],
   "source": [
    "save_model(model=tree_model,\n",
    "           target_dir=\"models\",\n",
    "           model_name=\"Tree_lstm.pth\")"
   ]
  },
  {
   "cell_type": "markdown",
   "id": "8ad85cae-1ec1-4468-a4a3-2ee04cb73332",
   "metadata": {},
   "source": [
    "From the previous results, it emerges that the model tends to overfit slightly, losing generalization.\n",
    "\n",
    "**A Dropout layer is introduced to help prevent the slight overfitting**."
   ]
  },
  {
   "cell_type": "code",
   "execution_count": 30,
   "id": "b6f1fe15-95a6-4f43-bce3-a5b0f03d5296",
   "metadata": {
    "execution": {
     "iopub.execute_input": "2025-06-05T17:39:42.556091Z",
     "iopub.status.busy": "2025-06-05T17:39:42.554594Z",
     "iopub.status.idle": "2025-06-05T17:39:42.568779Z",
     "shell.execute_reply": "2025-06-05T17:39:42.567699Z",
     "shell.execute_reply.started": "2025-06-05T17:39:42.556049Z"
    }
   },
   "outputs": [
    {
     "name": "stdout",
     "output_type": "stream",
     "text": [
      "\n",
      "TreeLSTMClassifierV2(\n",
      "  (encoder): TreeLSTMEncoder(\n",
      "    (embedding): Embedding(108, 32, padding_idx=0)\n",
      "    (cell): BinaryTreeLSTMCell(\n",
      "      (W_iou): Linear(in_features=32, out_features=384, bias=True)\n",
      "      (U_iou): Linear(in_features=256, out_features=384, bias=True)\n",
      "      (W_f): Linear(in_features=32, out_features=256, bias=True)\n",
      "      (U_f): Linear(in_features=256, out_features=256, bias=True)\n",
      "    )\n",
      "  )\n",
      "  (fc1): Linear(in_features=128, out_features=32, bias=True)\n",
      "  (relu): ReLU()\n",
      "  (dropout): Dropout(p=0.3, inplace=False)\n",
      "  (fc2): Linear(in_features=32, out_features=1, bias=True)\n",
      ")\n"
     ]
    }
   ],
   "source": [
    "tree_model_V2 = TreeLSTMClassifierV2(vocab_size=VOCAB_SIZE,\n",
    "                                     embedding_dim=EMBEDDING_DIM,\n",
    "                                     hidden_size=HIDDEN_SIZE,\n",
    "                                     fc_size=FC_SIZE).to(device)\n",
    "\n",
    "print(f\"\\n{tree_model_V2}\")\n",
    "\n",
    "\n",
    "# --- Loss and Optimizer ---\n",
    "loss_fn = AsymmetricFocalLoss(alpha_pos=ALPHA_POS, \n",
    "                              alpha_neg=ALPHA_NEG,\n",
    "                              gamma_pos=GAMMA_POS,\n",
    "                              gamma_neg=GAMMA_NEG\n",
    "                             )\n",
    "\n",
    "optimizer = torch.optim.Adam(tree_model_V2.parameters(), lr=LR)"
   ]
  },
  {
   "cell_type": "code",
   "execution_count": 31,
   "id": "e27f4fef-e0f6-4bba-a69d-27f4ed6614cc",
   "metadata": {
    "execution": {
     "iopub.execute_input": "2025-06-05T17:39:47.323078Z",
     "iopub.status.busy": "2025-06-05T17:39:47.321877Z",
     "iopub.status.idle": "2025-06-05T17:39:47.330708Z",
     "shell.execute_reply": "2025-06-05T17:39:47.329113Z",
     "shell.execute_reply.started": "2025-06-05T17:39:47.323033Z"
    }
   },
   "outputs": [
    {
     "name": "stdout",
     "output_type": "stream",
     "text": [
      "Trainable parameters: 193,217\n"
     ]
    }
   ],
   "source": [
    "print(f\"Trainable parameters: {count_parameters(tree_model_V2):,}\")"
   ]
  },
  {
   "cell_type": "code",
   "execution_count": 33,
   "id": "9356d739-d4d6-4e02-a6d8-9a9078ea108d",
   "metadata": {
    "execution": {
     "iopub.execute_input": "2025-06-05T10:58:47.201977Z",
     "iopub.status.busy": "2025-06-05T10:58:47.201433Z",
     "iopub.status.idle": "2025-06-05T14:04:11.061182Z",
     "shell.execute_reply": "2025-06-05T14:04:11.059865Z",
     "shell.execute_reply.started": "2025-06-05T10:58:47.201942Z"
    }
   },
   "outputs": [
    {
     "data": {
      "application/vnd.jupyter.widget-view+json": {
       "model_id": "50caaf2ef91847d6bee542f4c4ea3f52",
       "version_major": 2,
       "version_minor": 0
      },
      "text/plain": [
       "Training Epochs:   0%|          | 0/20 [00:00<?, ?it/s]"
      ]
     },
     "metadata": {},
     "output_type": "display_data"
    },
    {
     "name": "stdout",
     "output_type": "stream",
     "text": [
      "Epoch 1 |train_loss: 0.0121 |train_acc=0.9261 |test_loss=0.0084 |test_acc=0.9619\n",
      "\n",
      "================================================================================\n",
      "New best model at epoch 1 with test_acc=0.9619\n",
      "================================================================================\n",
      "\n",
      "Epoch 2 |train_loss: 0.0067 |train_acc=0.9581 |test_loss=0.0069 |test_acc=0.9715\n",
      "\n",
      "================================================================================\n",
      "New best model at epoch 2 with test_acc=0.9715\n",
      "================================================================================\n",
      "\n",
      "Epoch 3 |train_loss: 0.0052 |train_acc=0.9646 |test_loss=0.0045 |test_acc=0.9738\n",
      "\n",
      "================================================================================\n",
      "New best model at epoch 3 with test_acc=0.9738\n",
      "================================================================================\n",
      "\n",
      "Epoch 4 |train_loss: 0.0039 |train_acc=0.9694 |test_loss=0.0049 |test_acc=0.9758\n",
      "\n",
      "================================================================================\n",
      "New best model at epoch 4 with test_acc=0.9758\n",
      "================================================================================\n",
      "\n",
      "Epoch 5 |train_loss: 0.0031 |train_acc=0.9762 |test_loss=0.0022 |test_acc=0.9831\n",
      "\n",
      "================================================================================\n",
      "New best model at epoch 5 with test_acc=0.9831\n",
      "================================================================================\n",
      "\n",
      "Epoch 6 |train_loss: 0.0021 |train_acc=0.9843 |test_loss=0.0022 |test_acc=0.9850\n",
      "\n",
      "================================================================================\n",
      "New best model at epoch 6 with test_acc=0.9850\n",
      "================================================================================\n",
      "\n",
      "Epoch 7 |train_loss: 0.0017 |train_acc=0.9883 |test_loss=0.0020 |test_acc=0.9892\n",
      "\n",
      "================================================================================\n",
      "New best model at epoch 7 with test_acc=0.9892\n",
      "================================================================================\n",
      "\n",
      "Epoch 8 |train_loss: 0.0012 |train_acc=0.9918 |test_loss=0.0017 |test_acc=0.9908\n",
      "\n",
      "================================================================================\n",
      "New best model at epoch 8 with test_acc=0.9908\n",
      "================================================================================\n",
      "\n",
      "Epoch 9 |train_loss: 0.0011 |train_acc=0.9930 |test_loss=0.0016 |test_acc=0.9919\n",
      "\n",
      "================================================================================\n",
      "New best model at epoch 9 with test_acc=0.9919\n",
      "================================================================================\n",
      "\n",
      "Epoch 10 |train_loss: 0.0009 |train_acc=0.9949 |test_loss=0.0022 |test_acc=0.9892\n",
      "Epoch 11 |train_loss: 0.0007 |train_acc=0.9953 |test_loss=0.0024 |test_acc=0.9900\n",
      "Epoch 12 |train_loss: 0.0008 |train_acc=0.9949 |test_loss=0.0017 |test_acc=0.9896\n",
      "Epoch 13 |train_loss: 0.0004 |train_acc=0.9981 |test_loss=0.0051 |test_acc=0.9873\n",
      "Epoch 14 |train_loss: 0.0006 |train_acc=0.9968 |test_loss=0.0028 |test_acc=0.9904\n",
      "Epoch 15 |train_loss: 0.0002 |train_acc=0.9985 |test_loss=0.0029 |test_acc=0.9908\n",
      "Epoch 16 |train_loss: 0.0005 |train_acc=0.9970 |test_loss=0.0025 |test_acc=0.9912\n",
      "Epoch 17 |train_loss: 0.0002 |train_acc=0.9986 |test_loss=0.0031 |test_acc=0.9912\n",
      "Epoch 18 |train_loss: 0.0001 |train_acc=0.9994 |test_loss=0.0046 |test_acc=0.9904\n",
      "Epoch 19 |train_loss: 0.0003 |train_acc=0.9988 |test_loss=0.0028 |test_acc=0.9912\n",
      "Epoch 20 |train_loss: 0.0002 |train_acc=0.9987 |test_loss=0.0042 |test_acc=0.9908\n",
      "\n",
      "================================================================================\n",
      "[INFO] Saving model to: models/Tree_lstm_with_dropout.pth\n",
      "================================================================================\n",
      "\n"
     ]
    }
   ],
   "source": [
    "set_seeds()\n",
    "tree_lstm_dropout_results = train_tree(model=tree_model_V2,\n",
    "                                       train_loader=tree_train_loader,\n",
    "                                       test_loader=tree_test_loader,\n",
    "                                       loss_fn=loss_fn,\n",
    "                                       optimizer=optimizer,\n",
    "                                       epochs=20,\n",
    "                                       device=device, \n",
    "                                       save_best = True,\n",
    "                                       save_dir = \"models\",\n",
    "                                       model_name = \"Tree_lstm_with_dropout.pth\"\n",
    "                                       )"
   ]
  },
  {
   "cell_type": "code",
   "execution_count": 41,
   "id": "626ad61d-3eb8-4555-b634-9981ec939664",
   "metadata": {
    "execution": {
     "iopub.execute_input": "2025-06-05T14:19:12.106974Z",
     "iopub.status.busy": "2025-06-05T14:19:12.106163Z",
     "iopub.status.idle": "2025-06-05T14:19:12.113129Z",
     "shell.execute_reply": "2025-06-05T14:19:12.111885Z",
     "shell.execute_reply.started": "2025-06-05T14:19:12.106939Z"
    }
   },
   "outputs": [
    {
     "name": "stdout",
     "output_type": "stream",
     "text": [
      "================================================================================\n",
      "[INFO] Model saved with best trainig parameters\n",
      "================================================================================\n"
     ]
    }
   ],
   "source": [
    "print(\"=\" * 80)\n",
    "print(\"[INFO] Model saved with best trainig parameters\")\n",
    "print(\"=\" * 80)"
   ]
  },
  {
   "cell_type": "code",
   "execution_count": 34,
   "id": "9819c676-955b-495f-886c-a015a5d0d535",
   "metadata": {
    "execution": {
     "iopub.execute_input": "2025-06-05T14:04:11.063463Z",
     "iopub.status.busy": "2025-06-05T14:04:11.063141Z",
     "iopub.status.idle": "2025-06-05T14:04:11.072307Z",
     "shell.execute_reply": "2025-06-05T14:04:11.071207Z",
     "shell.execute_reply.started": "2025-06-05T14:04:11.063432Z"
    }
   },
   "outputs": [
    {
     "name": "stdout",
     "output_type": "stream",
     "text": [
      "\n",
      "================================================================================\n",
      "[INFO] Results saved to: models_results/Tree_lstm_with_dropout_results_on_synthetic_dataset.csv\n",
      "================================================================================\n",
      "\n"
     ]
    }
   ],
   "source": [
    "save_results(tree_lstm_dropout_results, target_dir=\"models_results\", filename=\"Tree_lstm_with_dropout_results_on_synthetic_dataset.csv\")"
   ]
  },
  {
   "cell_type": "code",
   "execution_count": 40,
   "id": "c105f039-481f-4994-a9a1-36a4af72c598",
   "metadata": {
    "execution": {
     "iopub.execute_input": "2025-06-05T05:06:40.138402Z",
     "iopub.status.busy": "2025-06-05T05:06:40.138074Z",
     "iopub.status.idle": "2025-06-05T05:06:40.150368Z",
     "shell.execute_reply": "2025-06-05T05:06:40.148868Z",
     "shell.execute_reply.started": "2025-06-05T05:06:40.138371Z"
    }
   },
   "outputs": [
    {
     "name": "stdout",
     "output_type": "stream",
     "text": [
      "[INFO] Saving model to: models/Tree_lstm_with_dropout.pth\n"
     ]
    }
   ],
   "source": [
    "#save_model(model=tree_model_V2,\n",
    "#           target_dir=\"models\",\n",
    "#           model_name=\"Tree_lstm_with_dropout.pth\")"
   ]
  },
  {
   "cell_type": "markdown",
   "id": "456bcea8-2154-4bc1-a530-202f27b2d8c8",
   "metadata": {},
   "source": [
    "---\n",
    "#### **2.7 Analyzing the errors of the best model**"
   ]
  },
  {
   "cell_type": "code",
   "execution_count": 40,
   "id": "39a3f385-a0f2-4874-910d-7924c43b2c41",
   "metadata": {
    "execution": {
     "iopub.execute_input": "2025-06-05T15:06:37.683436Z",
     "iopub.status.busy": "2025-06-05T15:06:37.682932Z",
     "iopub.status.idle": "2025-06-05T15:06:37.711602Z",
     "shell.execute_reply": "2025-06-05T15:06:37.710239Z",
     "shell.execute_reply.started": "2025-06-05T15:06:37.683401Z"
    }
   },
   "outputs": [
    {
     "data": {
      "text/plain": [
       "TreeLSTMClassifierV2(\n",
       "  (encoder): TreeLSTMEncoder(\n",
       "    (embedding): Embedding(108, 32, padding_idx=0)\n",
       "    (cell): BinaryTreeLSTMCell(\n",
       "      (W_iou): Linear(in_features=32, out_features=384, bias=True)\n",
       "      (U_iou): Linear(in_features=256, out_features=384, bias=True)\n",
       "      (W_f): Linear(in_features=32, out_features=256, bias=True)\n",
       "      (U_f): Linear(in_features=256, out_features=256, bias=True)\n",
       "    )\n",
       "  )\n",
       "  (fc1): Linear(in_features=128, out_features=32, bias=True)\n",
       "  (relu): ReLU()\n",
       "  (dropout): Dropout(p=0.3, inplace=False)\n",
       "  (fc2): Linear(in_features=32, out_features=1, bias=True)\n",
       ")"
      ]
     },
     "execution_count": 40,
     "metadata": {},
     "output_type": "execute_result"
    }
   ],
   "source": [
    "# --- Load Best Model ---  \n",
    "set_seeds()\n",
    "\n",
    "model = TreeLSTMClassifierV2(vocab_size=VOCAB_SIZE,        \n",
    "                             embedding_dim=EMBEDDING_DIM,\n",
    "                             hidden_size=HIDDEN_SIZE,\n",
    "                             fc_size=FC_SIZE)\n",
    "\n",
    "# Load in the saved state_dict()\n",
    "model.load_state_dict(torch.load(f=\"models/Tree_lstm_with_dropout.pth\"))  \n",
    "\n",
    "# Send model to GPU\n",
    "model = model.to(device)\n",
    "model"
   ]
  },
  {
   "cell_type": "markdown",
   "id": "038c953b-306f-40ab-8c5f-eb09d71dc21b",
   "metadata": {},
   "source": [
    "**Valuating the loaded model with `eval_model()` to make sure its parameters work similarly to `tree_model_V2` prior to saving.**"
   ]
  },
  {
   "cell_type": "code",
   "execution_count": 41,
   "id": "f63ef7d0-7bc8-4523-b874-06fc5c191d15",
   "metadata": {
    "execution": {
     "iopub.execute_input": "2025-06-05T15:07:07.294899Z",
     "iopub.status.busy": "2025-06-05T15:07:07.293695Z",
     "iopub.status.idle": "2025-06-05T15:07:47.163709Z",
     "shell.execute_reply": "2025-06-05T15:07:47.162493Z",
     "shell.execute_reply.started": "2025-06-05T15:07:07.294836Z"
    }
   },
   "outputs": [
    {
     "data": {
      "application/vnd.jupyter.widget-view+json": {
       "model_id": "dc1475f093b44f6d8080a080c215b5c2",
       "version_major": 2,
       "version_minor": 0
      },
      "text/plain": [
       "  0%|          | 0/163 [00:00<?, ?it/s]"
      ]
     },
     "metadata": {},
     "output_type": "display_data"
    },
    {
     "data": {
      "text/plain": [
       "{'model_name': 'TreeLSTMClassifierV2',\n",
       " 'model_loss': 0.004210061171160229,\n",
       " 'model_acc': 0.9907692307692307}"
      ]
     },
     "execution_count": 41,
     "metadata": {},
     "output_type": "execute_result"
    }
   ],
   "source": [
    "loss_fn = AsymmetricFocalLoss(alpha_pos=ALPHA_POS, \n",
    "                              alpha_neg=ALPHA_NEG,\n",
    "                              gamma_pos=GAMMA_POS,\n",
    "                              gamma_neg=GAMMA_NEG\n",
    "                             )\n",
    "\n",
    "model_results = eval_model(model=model, \n",
    "                           dataloader=tree_test_loader,\n",
    "                           loss_fn=loss_fn,\n",
    "                           device=device\n",
    "                          )\n",
    "\n",
    "model_results"
   ]
  },
  {
   "cell_type": "markdown",
   "id": "9ab54d01-5997-4d3b-badf-a2216c800f4f",
   "metadata": {},
   "source": [
    "**Confusion Matrix**"
   ]
  },
  {
   "cell_type": "code",
   "execution_count": 42,
   "id": "4869f817-e8e5-4ac3-8ee1-80b8d0761e8e",
   "metadata": {
    "execution": {
     "iopub.execute_input": "2025-06-05T15:08:09.959742Z",
     "iopub.status.busy": "2025-06-05T15:08:09.959313Z",
     "iopub.status.idle": "2025-06-05T15:08:50.187647Z",
     "shell.execute_reply": "2025-06-05T15:08:50.186236Z",
     "shell.execute_reply.started": "2025-06-05T15:08:09.959711Z"
    }
   },
   "outputs": [
    {
     "data": {
      "application/vnd.jupyter.widget-view+json": {
       "model_id": "3414109ba6e04768a9b878d75e9824bc",
       "version_major": 2,
       "version_minor": 0
      },
      "text/plain": [
       "  0%|          | 0/163 [00:00<?, ?it/s]"
      ]
     },
     "metadata": {},
     "output_type": "display_data"
    },
    {
     "data": {
      "image/png": "[encoded data removed]",
      "text/plain": [
       "<Figure size 640x480 with 2 Axes>"
      ]
     },
     "metadata": {},
     "output_type": "display_data"
    },
    {
     "name": "stdout",
     "output_type": "stream",
     "text": [
      "[[1902   18]\n",
      " [   6  674]]\n"
     ]
    }
   ],
   "source": [
    "# --- Print Confusion Matrix ---\n",
    "conf_matrix = evaluate_confusion_matrix(model, tree_test_loader, device)\n",
    "print(conf_matrix)"
   ]
  },
  {
   "cell_type": "code",
   "execution_count": 46,
   "id": "7a7199bd-990e-4ac3-ab73-9887188e53ad",
   "metadata": {
    "execution": {
     "iopub.execute_input": "2025-06-05T15:35:06.437025Z",
     "iopub.status.busy": "2025-06-05T15:35:06.435875Z",
     "iopub.status.idle": "2025-06-05T15:35:06.443576Z",
     "shell.execute_reply": "2025-06-05T15:35:06.442257Z",
     "shell.execute_reply.started": "2025-06-05T15:35:06.436986Z"
    }
   },
   "outputs": [
    {
     "name": "stdout",
     "output_type": "stream",
     "text": [
      "The errors are unbalanced: more false positives (18) than false negatives (6).\n",
      "Proportionally: although non-tautologies are the majority class, the model shows a slight tendency to 'overestimate' tautologicity.\n"
     ]
    }
   ],
   "source": [
    "print(f\"The errors are unbalanced: more false positives (18) than false negatives (6).\"\n",
    "      f\"\\nProportionally: although non-tautologies are the majority class, the model shows a slight tendency to 'overestimate' tautologicity.\")"
   ]
  },
  {
   "cell_type": "code",
   "execution_count": 1,
   "id": "33344bd9-133f-4fd8-b741-965fbfc04526",
   "metadata": {
    "execution": {
     "iopub.execute_input": "2025-06-11T12:20:05.694660Z",
     "iopub.status.busy": "2025-06-11T12:20:05.693845Z",
     "iopub.status.idle": "2025-06-11T12:20:05.707597Z",
     "shell.execute_reply": "2025-06-11T12:20:05.706394Z",
     "shell.execute_reply.started": "2025-06-11T12:20:05.694623Z"
    }
   },
   "outputs": [
    {
     "name": "stdout",
     "output_type": "stream",
     "text": [
      "True Negative: 1902 - Non Taut correctly classified.\n",
      "False Positive: 18 - Non Taut misclassified as Taut.\n",
      "False Negative: 6 - Taut misclassified as Not Taut.\n",
      "True Positive: 674 - Taut correctly classified.\n",
      "\n",
      "\n",
      "Accuracy: (TP + TN) / Total = 0.9908\n",
      "The percentage of correct predictions out of the total.\n",
      "\n",
      "\n",
      "Precision (Taut): TP / (TP + FP) = 0.9740\n",
      "Number of True Tauts in those classified as Tauts.\n",
      "\n",
      "\n",
      "Recall (Taut): TP / (TP + FN) = 0.9912\n",
      "Number of Tauts correctly recognized among the formulas that are truly Tauts.\n",
      "\n",
      "\n",
      "F1-score (Taut): 2 * (P * R) / (P + R) = 0.9825\n",
      "Harmonic mean between precision and recall on the tautology class.\n"
     ]
    }
   ],
   "source": [
    "# --- Confusion Matrix Results ---\n",
    "print(f\"True Negative: 1902 - Non Taut correctly classified.\"\n",
    "      f\"\\nFalse Positive: 18 - Non Taut misclassified as Taut.\"\n",
    "      f\"\\nFalse Negative: 6 - Taut misclassified as Not Taut.\"\n",
    "      f\"\\nTrue Positive: 674 - Taut correctly classified.\")\n",
    "\n",
    "print(f\"\\n\\nAccuracy: (TP + TN) / Total = {(674 + 1902) / 2600:.4f}\"\n",
    "      f\"\\nThe percentage of correct predictions out of the total.\")\n",
    "\n",
    "precision = 674 / (674 + 18)\n",
    "recall = 674 / (674 + 6)\n",
    "f1 = 2 * (precision * recall) / (precision + recall)\n",
    "\n",
    "print(f\"\\n\\nPrecision (Taut): TP / (TP + FP) = {precision:.4f}\"\n",
    "      f\"\\nNumber of True Tauts in those classified as Tauts.\")\n",
    "\n",
    "print(f\"\\n\\nRecall (Taut): TP / (TP + FN) = {recall:.4f}\"\n",
    "      f\"\\nNumber of Tauts correctly recognized among the formulas that are truly Tauts.\")\n",
    "\n",
    "print(f\"\\n\\nF1-score (Taut): 2 * (P * R) / (P + R) = {f1:.4f}\"\n",
    "      f\"\\nHarmonic mean between precision and recall on the tautology class.\")"
   ]
  },
  {
   "cell_type": "code",
   "execution_count": 43,
   "id": "6ee5c864-735e-4308-a794-e60da5c81194",
   "metadata": {
    "execution": {
     "iopub.execute_input": "2025-06-05T15:09:06.214750Z",
     "iopub.status.busy": "2025-06-05T15:09:06.214259Z",
     "iopub.status.idle": "2025-06-05T15:09:46.331369Z",
     "shell.execute_reply": "2025-06-05T15:09:46.329515Z",
     "shell.execute_reply.started": "2025-06-05T15:09:06.214715Z"
    }
   },
   "outputs": [
    {
     "data": {
      "application/vnd.jupyter.widget-view+json": {
       "model_id": "026ca485397c4089857de21654bd4bae",
       "version_major": 2,
       "version_minor": 0
      },
      "text/plain": [
       "  0%|          | 0/163 [00:00<?, ?it/s]"
      ]
     },
     "metadata": {},
     "output_type": "display_data"
    },
    {
     "name": "stdout",
     "output_type": "stream",
     "text": [
      "\n",
      "False Positives (18):\n",
      "1. ((((A0 ∨ (A1 ∨ A2)) → A3) ∨ (((¬A4) ∨ A5) ∧ A6)) ∨ ((A7 ∨ A0) ∨ A1)) | True: 0 | Pred: 1 | Prob: 0.5415\n",
      "2. (((¬(A0 ∧ (A1 ∧ A2))) → ((A3 ∧ (A4 ∨ A5)) → (A6 ∧ A7))) ∨ (¬A0)) | True: 0 | Pred: 1 | Prob: 0.9033\n",
      "3. (((¬(A0 ∨ A1)) → (((A2 ∨ ⊥) ∧ (⊥ → A3)) ∨ (A4 ∨ A5))) ∨ A0) | True: 0 | Pred: 1 | Prob: 0.5216\n",
      "4. (((A0 → A1) ∨ ((¬A2) → A3)) ∨ ((((A4 ∨ A5) ∧ (A6 → A7)) → (A0 → (A1 ∨ A2))) ∨ A3)) | True: 0 | Pred: 1 | Prob: 0.8733\n",
      "5. (((¬((A0 ∧ ⊥) → (A1 ∧ A2))) ∨ ((¬A3) ∧ (⊥ ∧ (¬A4)))) ∨ (A5 → ((¬A0) ∧ (¬(A6 ∧ A1))))) | True: 0 | Pred: 1 | Prob: 0.7597\n",
      "6. ((((A0 → (A1 ∨ A2)) ∨ ((A3 → ⊥) → A4)) ∨ A5) ∨ ((A6 ∧ A0) → ((¬(A1 ∨ A2)) ∧ ((A3 ∨ A7) → A4)))) | True: 0 | Pred: 1 | Prob: 0.6605\n",
      "7. ((A0 ∨ A1) ∨ ((((A2 → A3) ∧ A4) ∧ ((¬A5) ∧ (A6 → A7))) → (A0 ∨ (A1 ∧ (A2 ∧ A3))))) | True: 0 | Pred: 1 | Prob: 0.7291\n",
      "8. ((((A0 ∨ A1) ∧ A2) → ((A3 ∨ (A4 → A5)) ∧ (A6 ∧ (¬A7)))) ∨ (¬A0)) | True: 0 | Pred: 1 | Prob: 0.7695\n",
      "9. ((((¬A0) → A1) ∨ (((A2 ∨ A3) ∨ ⊥) → (A4 → (A5 ∧ A6)))) ∨ A0) | True: 0 | Pred: 1 | Prob: 0.7182\n",
      "10. (A0 → ((((A1 ∨ A2) ∧ (A3 ∨ A4)) ∨ ((¬A5) ∨ (¬A6))) ∨ (A7 → ((A0 → A1) ∨ (A2 → A3))))) | True: 0 | Pred: 1 | Prob: 0.6669\n",
      "11. ((A0 → (((¬A1) → A2) ∧ ((A3 ∨ A4) → (A5 ∨ A6)))) ∨ ((¬(A7 ∨ (A0 → A1))) → (¬(¬A2)))) | True: 0 | Pred: 1 | Prob: 0.7137\n",
      "12. (A0 → ((((A1 → A2) ∧ A3) ∨ (A4 ∨ (A5 ∨ A6))) → ((¬(A7 ∨ A0)) ∨ A1))) | True: 0 | Pred: 1 | Prob: 0.6915\n",
      "13. (((A0 → (A1 ∧ A2)) → (((A3 ∧ A4) ∧ A5) ∧ A6)) ∨ (A7 → ((A0 ∨ A1) ∧ (⊥ → (A3 ∧ A4))))) | True: 0 | Pred: 1 | Prob: 0.6011\n",
      "14. (((A0 → A1) → (A2 → A3)) ∨ (((A4 ∧ (¬⊥)) → (¬(A5 ∧ A6))) ∨ (¬A0))) | True: 0 | Pred: 1 | Prob: 0.8922\n",
      "15. (A0 ∨ (A1 → (((A2 → A3) ∨ (A4 ∧ A5)) ∨ ((¬A6) → (A7 → A0))))) | True: 0 | Pred: 1 | Prob: 0.6885\n",
      "16. ((((A0 → (A1 ∨ A2)) ∨ (A3 ∨ (A4 ∧ A5))) ∨ A6) ∨ (((¬(¬A7)) ∧ (A0 ∧ (A1 → A2))) ∨ A3)) | True: 0 | Pred: 1 | Prob: 0.6616\n",
      "17. ((((¬A0) → (A1 → A2)) ∨ (((A3 ∧ A4) → (A5 ∨ ⊥)) ∨ A6)) ∨ A0) | True: 0 | Pred: 1 | Prob: 0.6734\n",
      "18. ((A0 ∧ (((A1 ∨ ⊥) ∧ (A2 ∨ A3)) ∧ A4)) → (((A5 → (¬A6)) ∨ ((A0 ∧ A1) → A7)) → A2)) | True: 0 | Pred: 1 | Prob: 0.7611\n",
      "\n",
      "False Negatives (6):\n",
      "1. (((A0 → ((¬A1) → (A2 ∧ A3))) ∨ (A4 ∧ ((A5 ∧ A6) ∧ A7))) ∨ A0) | True: 1 | Pred: 0 | Prob: 0.4294\n",
      "2. (((A0 → (A1 ∧ (A2 → A3))) ∧ (((¬A4) ∨ (A5 → A6)) ∨ (¬A7))) → (A0 → A1)) | True: 1 | Pred: 0 | Prob: 0.0832\n",
      "3. ((⊥ ∨ (((A0 ∧ A1) ∧ A2) ∧ (A3 ∨ (A4 ∨ A5)))) → (⊥ ∨ (A6 → A0))) | True: 1 | Pred: 0 | Prob: 0.2876\n",
      "4. (((A0 → (A1 ∧ A2)) ∨ (((¬A3) ∧ (A4 → A5)) ∧ (A6 → A7))) ∨ A0) | True: 1 | Pred: 0 | Prob: 0.2147\n",
      "5. ((A0 → (((A1 ∨ A2) ∨ A3) → ((A4 ∨ A5) ∧ (A6 ∧ A7)))) ∨ A0) | True: 1 | Pred: 0 | Prob: 0.1171\n",
      "6. ((¬((A0 ∨ A1) ∧ ((¬A2) → (¬A3)))) ∨ ((((A4 ∧ A5) ∧ A6) ∨ (A7 ∨ A0)) ∨ A1)) | True: 1 | Pred: 0 | Prob: 0.0079\n"
     ]
    }
   ],
   "source": [
    "fp, fn = analyze_model_errors(model, tree_test_loader, device)\n",
    "\n",
    "print(f\"\\nFalse Positives ({len(fp)}):\")\n",
    "for i, e in enumerate(fp):\n",
    "    print(f\"{i+1}. {e['formula']} | True: {e['true_label']} | Pred: {e['pred_label']} | Prob: {e['prob']:.4f}\")\n",
    "\n",
    "print(f\"\\nFalse Negatives ({len(fn)}):\")\n",
    "for i, e in enumerate(fn):\n",
    "    print(f\"{i+1}. {e['formula']} | True: {e['true_label']} | Pred: {e['pred_label']} | Prob: {e['prob']:.4f}\")"
   ]
  },
  {
   "cell_type": "markdown",
   "id": "4cc64866-326a-47a0-8f91-7aee3c646bb4",
   "metadata": {},
   "source": [
    "**False Positives: 18 cases**\n",
    ".......\n",
    "\n",
    "**False Negatives: 18 casi**\n",
    ".......\n",
    "\n",
    "**MANCA ANALISI DELLE FORMULE MISCLASSIFICATE!!!**"
   ]
  },
  {
   "cell_type": "code",
   "execution_count": null,
   "id": "99b45ee9-35b3-4f50-9452-a0b479c2fb08",
   "metadata": {},
   "outputs": [],
   "source": []
  }
 ],
 "metadata": {
  "kernelspec": {
   "display_name": "Python 3 (ipykernel)",
   "language": "python",
   "name": "python3"
  },
  "language_info": {
   "codemirror_mode": {
    "name": "ipython",
    "version": 3
   },
   "file_extension": ".py",
   "mimetype": "text/x-python",
   "name": "python",
   "nbconvert_exporter": "python",
   "pygments_lexer": "ipython3",
   "version": "3.10.16"
  }
 },
 "nbformat": 4,
 "nbformat_minor": 5
}
